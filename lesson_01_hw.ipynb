{
  "nbformat": 4,
  "nbformat_minor": 0,
  "metadata": {
    "colab": {
      "provenance": [],
      "authorship_tag": "ABX9TyO5eJL8tf777AO/Mw3vwcsU",
      "include_colab_link": true
    },
    "kernelspec": {
      "name": "python3",
      "display_name": "Python 3"
    },
    "language_info": {
      "name": "python"
    }
  },
  "cells": [
    {
      "cell_type": "markdown",
      "metadata": {
        "id": "view-in-github",
        "colab_type": "text"
      },
      "source": [
        "<a href=\"https://colab.research.google.com/github/cpython-projects/da_1709/blob/main/lesson_01_hw.ipynb\" target=\"_parent\"><img src=\"https://colab.research.google.com/assets/colab-badge.svg\" alt=\"Open In Colab\"/></a>"
      ]
    },
    {
      "cell_type": "markdown",
      "source": [
        "**Task 1.**\n",
        "Написать скрипт, который для пяти целочисленных значений (вводит пользователь с клавиатуры), находит минимум, максимум и среднее арифметическое."
      ],
      "metadata": {
        "id": "FG6UBAH5QvwH"
      }
    },
    {
      "cell_type": "code",
      "execution_count": null,
      "metadata": {
        "id": "J7mmQ8XaQsLa"
      },
      "outputs": [],
      "source": [
        "a, b, c, d, e = int(input('a>>')),\\\n",
        "                int(input('b>>')),\\\n",
        "                int(input('c>>')),\\\n",
        "                int(input('d>>')),\\\n",
        "                int(input('e>>'))\n",
        "\n",
        "print(min(a, b, c, d, e))\n",
        "print(max(a, b, c, d, e))\n",
        "print((a + b + c + d + e) / 5)"
      ]
    },
    {
      "cell_type": "markdown",
      "source": [
        "**Task 2.**\n",
        "Написать скрипт, возвращающий результат арифметических действий +, -, *, /, // для заданных _x_ и _y_."
      ],
      "metadata": {
        "id": "mne2wMDJR1_r"
      }
    },
    {
      "cell_type": "code",
      "source": [
        "x, y = int(input('x>>')),\\\n",
        "        int(input('y>>'))\n",
        "\n",
        "print(f'x + y = {x + y}')\n",
        "print(f'x - y = {x - y}')\n",
        "print(f'x * y = {x * y}')\n",
        "print(f'x / y = {x / y}')\n",
        "print(f'x // y = {x // y}')"
      ],
      "metadata": {
        "id": "OJCCGpGX589L"
      },
      "execution_count": null,
      "outputs": []
    },
    {
      "cell_type": "markdown",
      "source": [
        "**Task 3.**\n",
        "Написать скрипт, который для круга заданного радиуса (вводит пользователь с клавиатуры) находит диаметр, длину окружности и площадь."
      ],
      "metadata": {
        "id": "UbBniKX0R--M"
      }
    },
    {
      "cell_type": "code",
      "source": [
        "import math\n",
        "\n",
        "r = int(input('R>>'))\n",
        "\n",
        "math.\n",
        "\n"
      ],
      "metadata": {
        "id": "CT8bTl4Q57yq"
      },
      "execution_count": null,
      "outputs": []
    },
    {
      "cell_type": "markdown",
      "source": [
        "**Task 4.**\n",
        "Написать скрипт, который трехзначное целое число (вводит пользователь с клавиатуры) разделяет на отдельные цифры. Каждую цифру нужно вывести в отдельной строке.\n",
        "Например, если пользователь вводит число 987, скрипт должен вывести в терминал  \n",
        "9  \n",
        "8  \n",
        "7  "
      ],
      "metadata": {
        "id": "ItQavp4oSDmm"
      }
    },
    {
      "cell_type": "code",
      "source": [],
      "metadata": {
        "id": "cz0Cqkcd57PU"
      },
      "execution_count": null,
      "outputs": []
    },
    {
      "cell_type": "markdown",
      "source": [
        "**Task 5.**\n",
        "Некоторые инвестиционные консультанты считают, что разумно ожидать 10% прибыли в долгосрочной перспективе на фондовом рынке.\n",
        "Предполагая, что вы начинаете с 1000 долларов и оставляете ваши деньги инвестированными, рассчитайте и отобразите, сколько денег у вас будет через 10, 20 и 30 лет.  \n",
        "Используйте следующую формулу для определения этих сумм:  \n",
        "a = p(1 + r)^n  \n",
        "где p - начальная инвестированная сумма (то есть основная сумма 1000 долларов США),  \n",
        "r - годовая норма прибыли (10%),  \n",
        "n - количество лет (10, 20 или 30),  \n",
        "a - сумма на депозите к концу n-го года."
      ],
      "metadata": {
        "id": "l2_LILDISKuW"
      }
    },
    {
      "cell_type": "code",
      "source": [],
      "metadata": {
        "id": "wDgrndGQ55iU"
      },
      "execution_count": null,
      "outputs": []
    }
  ]
}