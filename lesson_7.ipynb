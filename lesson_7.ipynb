{
  "nbformat": 4,
  "nbformat_minor": 0,
  "metadata": {
    "colab": {
      "provenance": [],
      "authorship_tag": "ABX9TyM6VjBQcKZ2jVRi46SDkJ2L",
      "include_colab_link": true
    },
    "kernelspec": {
      "name": "python3",
      "display_name": "Python 3"
    },
    "language_info": {
      "name": "python"
    }
  },
  "cells": [
    {
      "cell_type": "markdown",
      "metadata": {
        "id": "view-in-github",
        "colab_type": "text"
      },
      "source": [
        "<a href=\"https://colab.research.google.com/github/cpython-projects/da_1709/blob/main/lesson_7.ipynb\" target=\"_parent\"><img src=\"https://colab.research.google.com/assets/colab-badge.svg\" alt=\"Open In Colab\"/></a>"
      ]
    },
    {
      "cell_type": "code",
      "execution_count": 1,
      "metadata": {
        "colab": {
          "base_uri": "https://localhost:8080/"
        },
        "id": "HhMqGQs3vKie",
        "outputId": "e2870396-6af6-494b-8516-4c825a54b657"
      },
      "outputs": [
        {
          "output_type": "execute_result",
          "data": {
            "text/plain": [
              "1"
            ]
          },
          "metadata": {},
          "execution_count": 1
        }
      ],
      "source": [
        "hash(1)"
      ]
    },
    {
      "cell_type": "code",
      "source": [
        "hash('1')"
      ],
      "metadata": {
        "colab": {
          "base_uri": "https://localhost:8080/"
        },
        "id": "l9S4UBwYvRul",
        "outputId": "8dd8b9d1-29b9-41d4-eb5d-967097ac8de4"
      },
      "execution_count": 2,
      "outputs": [
        {
          "output_type": "execute_result",
          "data": {
            "text/plain": [
              "4051054678285862260"
            ]
          },
          "metadata": {},
          "execution_count": 2
        }
      ]
    },
    {
      "cell_type": "code",
      "source": [
        "x = 'Python'"
      ],
      "metadata": {
        "id": "mR_v-DdPvaX0"
      },
      "execution_count": 3,
      "outputs": []
    },
    {
      "cell_type": "code",
      "source": [
        "y = 'Python'"
      ],
      "metadata": {
        "id": "2i04k5wgvcIc"
      },
      "execution_count": 4,
      "outputs": []
    },
    {
      "cell_type": "code",
      "source": [
        "id(x), id(y)"
      ],
      "metadata": {
        "colab": {
          "base_uri": "https://localhost:8080/"
        },
        "id": "FStl_NoxveP9",
        "outputId": "f2f144c7-3532-445c-f776-726998002b77"
      },
      "execution_count": 5,
      "outputs": [
        {
          "output_type": "execute_result",
          "data": {
            "text/plain": [
              "(10690016, 10690016)"
            ]
          },
          "metadata": {},
          "execution_count": 5
        }
      ]
    },
    {
      "cell_type": "code",
      "source": [
        "x = [1, 2]\n",
        "hash(x)"
      ],
      "metadata": {
        "colab": {
          "base_uri": "https://localhost:8080/",
          "height": 158
        },
        "id": "efGs7UiMwHnP",
        "outputId": "ae8d03dd-4c2b-4a3f-d4e9-ad1ac89b4ce2"
      },
      "execution_count": 6,
      "outputs": [
        {
          "output_type": "error",
          "ename": "TypeError",
          "evalue": "unhashable type: 'list'",
          "traceback": [
            "\u001b[0;31m---------------------------------------------------------------------------\u001b[0m",
            "\u001b[0;31mTypeError\u001b[0m                                 Traceback (most recent call last)",
            "\u001b[0;32m/tmp/ipython-input-2048847117.py\u001b[0m in \u001b[0;36m<cell line: 0>\u001b[0;34m()\u001b[0m\n\u001b[1;32m      1\u001b[0m \u001b[0mx\u001b[0m \u001b[0;34m=\u001b[0m \u001b[0;34m[\u001b[0m\u001b[0;36m1\u001b[0m\u001b[0;34m,\u001b[0m \u001b[0;36m2\u001b[0m\u001b[0;34m]\u001b[0m\u001b[0;34m\u001b[0m\u001b[0;34m\u001b[0m\u001b[0m\n\u001b[0;32m----> 2\u001b[0;31m \u001b[0mhash\u001b[0m\u001b[0;34m(\u001b[0m\u001b[0mx\u001b[0m\u001b[0;34m)\u001b[0m\u001b[0;34m\u001b[0m\u001b[0;34m\u001b[0m\u001b[0m\n\u001b[0m",
            "\u001b[0;31mTypeError\u001b[0m: unhashable type: 'list'"
          ]
        }
      ]
    },
    {
      "cell_type": "code",
      "source": [
        "x = (1, 2, 3)\n",
        "hash(x)"
      ],
      "metadata": {
        "colab": {
          "base_uri": "https://localhost:8080/"
        },
        "id": "E73SBBv1weAR",
        "outputId": "5e0678d1-6595-4d81-ad5d-ad70af9f9da2"
      },
      "execution_count": 7,
      "outputs": [
        {
          "output_type": "execute_result",
          "data": {
            "text/plain": [
              "529344067295497451"
            ]
          },
          "metadata": {},
          "execution_count": 7
        }
      ]
    },
    {
      "cell_type": "code",
      "source": [
        "x = ([1, 2, 3], 4)\n",
        "x"
      ],
      "metadata": {
        "colab": {
          "base_uri": "https://localhost:8080/"
        },
        "id": "8NLpCBE9wkBD",
        "outputId": "d65cf03b-8b50-41cc-da2f-b45836055bd4"
      },
      "execution_count": 8,
      "outputs": [
        {
          "output_type": "execute_result",
          "data": {
            "text/plain": [
              "([1, 2, 3], 4)"
            ]
          },
          "metadata": {},
          "execution_count": 8
        }
      ]
    },
    {
      "cell_type": "code",
      "source": [
        "hash(x)"
      ],
      "metadata": {
        "colab": {
          "base_uri": "https://localhost:8080/",
          "height": 141
        },
        "id": "kmEghz-rwrD1",
        "outputId": "0867e72d-9879-457f-88e5-840d926388e8"
      },
      "execution_count": 9,
      "outputs": [
        {
          "output_type": "error",
          "ename": "TypeError",
          "evalue": "unhashable type: 'list'",
          "traceback": [
            "\u001b[0;31m---------------------------------------------------------------------------\u001b[0m",
            "\u001b[0;31mTypeError\u001b[0m                                 Traceback (most recent call last)",
            "\u001b[0;32m/tmp/ipython-input-3277252529.py\u001b[0m in \u001b[0;36m<cell line: 0>\u001b[0;34m()\u001b[0m\n\u001b[0;32m----> 1\u001b[0;31m \u001b[0mhash\u001b[0m\u001b[0;34m(\u001b[0m\u001b[0mx\u001b[0m\u001b[0;34m)\u001b[0m\u001b[0;34m\u001b[0m\u001b[0;34m\u001b[0m\u001b[0m\n\u001b[0m",
            "\u001b[0;31mTypeError\u001b[0m: unhashable type: 'list'"
          ]
        }
      ]
    },
    {
      "cell_type": "code",
      "source": [
        "x = {1: 'one', 2: 'two', 3: 'three', 1: 'odyn'}\n",
        "x"
      ],
      "metadata": {
        "colab": {
          "base_uri": "https://localhost:8080/"
        },
        "id": "eVzKC0U0w8cV",
        "outputId": "44673b83-b4e8-4bf0-ca89-f44c482841ca"
      },
      "execution_count": 11,
      "outputs": [
        {
          "output_type": "execute_result",
          "data": {
            "text/plain": [
              "{1: 'odyn', 2: 'two', 3: 'three'}"
            ]
          },
          "metadata": {},
          "execution_count": 11
        }
      ]
    },
    {
      "cell_type": "code",
      "source": [
        "x[1] = 'one'\n",
        "x"
      ],
      "metadata": {
        "colab": {
          "base_uri": "https://localhost:8080/"
        },
        "id": "rcxYUibZxX7P",
        "outputId": "f3141ef6-046b-4873-b024-7193fca32a2a"
      },
      "execution_count": 12,
      "outputs": [
        {
          "output_type": "execute_result",
          "data": {
            "text/plain": [
              "{1: 'one', 2: 'two', 3: 'three'}"
            ]
          },
          "metadata": {},
          "execution_count": 12
        }
      ]
    },
    {
      "cell_type": "code",
      "source": [
        "x['four'] = 4\n",
        "x"
      ],
      "metadata": {
        "colab": {
          "base_uri": "https://localhost:8080/"
        },
        "id": "Fhht6Z83xxDC",
        "outputId": "e875f918-e1c6-4a01-8536-cc55b2727e11"
      },
      "execution_count": 13,
      "outputs": [
        {
          "output_type": "execute_result",
          "data": {
            "text/plain": [
              "{1: 'one', 2: 'two', 3: 'three', 'four': 4}"
            ]
          },
          "metadata": {},
          "execution_count": 13
        }
      ]
    },
    {
      "cell_type": "code",
      "source": [
        "x[2] = 'dva'\n",
        "x"
      ],
      "metadata": {
        "colab": {
          "base_uri": "https://localhost:8080/"
        },
        "id": "iOyJM3Fix31K",
        "outputId": "d78576c3-1a09-4678-ecb9-335472e5c632"
      },
      "execution_count": 14,
      "outputs": [
        {
          "output_type": "execute_result",
          "data": {
            "text/plain": [
              "{1: 'one', 2: 'dva', 3: 'three', 'four': 4}"
            ]
          },
          "metadata": {},
          "execution_count": 14
        }
      ]
    },
    {
      "cell_type": "code",
      "source": [
        "del x[1]\n",
        "x"
      ],
      "metadata": {
        "colab": {
          "base_uri": "https://localhost:8080/"
        },
        "id": "G3GyggvLx7iI",
        "outputId": "fa095728-2496-45bf-9ca2-fca1b9a76212"
      },
      "execution_count": 15,
      "outputs": [
        {
          "output_type": "execute_result",
          "data": {
            "text/plain": [
              "{2: 'dva', 3: 'three', 'four': 4}"
            ]
          },
          "metadata": {},
          "execution_count": 15
        }
      ]
    },
    {
      "cell_type": "code",
      "source": [
        "x[5] = 'three'\n",
        "\n",
        "x"
      ],
      "metadata": {
        "colab": {
          "base_uri": "https://localhost:8080/"
        },
        "id": "-ZXDmt_yyHZ-",
        "outputId": "3b61aadf-94ba-4fe4-f428-badd63019e50"
      },
      "execution_count": 16,
      "outputs": [
        {
          "output_type": "execute_result",
          "data": {
            "text/plain": [
              "{2: 'dva', 3: 'three', 'four': 4, 5: 'three'}"
            ]
          },
          "metadata": {},
          "execution_count": 16
        }
      ]
    },
    {
      "cell_type": "code",
      "source": [
        "x"
      ],
      "metadata": {
        "colab": {
          "base_uri": "https://localhost:8080/"
        },
        "id": "PHKX57YfyUnd",
        "outputId": "cb0e3736-7ab8-47a3-a8bc-718f46eb20ce"
      },
      "execution_count": 17,
      "outputs": [
        {
          "output_type": "execute_result",
          "data": {
            "text/plain": [
              "{2: 'dva', 3: 'three', 'four': 4, 5: 'three'}"
            ]
          },
          "metadata": {},
          "execution_count": 17
        }
      ]
    },
    {
      "cell_type": "code",
      "source": [
        "for key in x:\n",
        "  print(key)"
      ],
      "metadata": {
        "colab": {
          "base_uri": "https://localhost:8080/"
        },
        "id": "axPiIXl3yYBt",
        "outputId": "36d212b1-6b86-4c69-83db-989250f5b526"
      },
      "execution_count": 19,
      "outputs": [
        {
          "output_type": "stream",
          "name": "stdout",
          "text": [
            "2\n",
            "3\n",
            "four\n",
            "5\n"
          ]
        }
      ]
    },
    {
      "cell_type": "code",
      "source": [
        "for key in x:\n",
        "  print(key, x[key])"
      ],
      "metadata": {
        "colab": {
          "base_uri": "https://localhost:8080/"
        },
        "id": "RMKnj3GVyhNe",
        "outputId": "2c1f211d-0484-4dd0-a108-1111784247b3"
      },
      "execution_count": 20,
      "outputs": [
        {
          "output_type": "stream",
          "name": "stdout",
          "text": [
            "2 dva\n",
            "3 three\n",
            "four 4\n",
            "5 three\n"
          ]
        }
      ]
    },
    {
      "cell_type": "code",
      "source": [
        "for key, value in x.items():\n",
        "  print(key, value)"
      ],
      "metadata": {
        "colab": {
          "base_uri": "https://localhost:8080/"
        },
        "id": "27j96kvOymf-",
        "outputId": "28665511-80b4-4fe9-dde1-7c03758f7e8b"
      },
      "execution_count": 22,
      "outputs": [
        {
          "output_type": "stream",
          "name": "stdout",
          "text": [
            "2 dva\n",
            "3 three\n",
            "four 4\n",
            "5 three\n"
          ]
        }
      ]
    },
    {
      "cell_type": "code",
      "source": [
        "x = {1: 'one', 2: 'two', 3: 'three'}"
      ],
      "metadata": {
        "id": "pKnDV9PCzCeY"
      },
      "execution_count": 23,
      "outputs": []
    },
    {
      "cell_type": "code",
      "source": [
        "x[1]"
      ],
      "metadata": {
        "colab": {
          "base_uri": "https://localhost:8080/",
          "height": 35
        },
        "id": "paaRC5KAzHLo",
        "outputId": "3bf7540e-c08c-4948-8ec2-a56b94ce3889"
      },
      "execution_count": 24,
      "outputs": [
        {
          "output_type": "execute_result",
          "data": {
            "text/plain": [
              "'one'"
            ],
            "application/vnd.google.colaboratory.intrinsic+json": {
              "type": "string"
            }
          },
          "metadata": {},
          "execution_count": 24
        }
      ]
    },
    {
      "cell_type": "code",
      "source": [
        "x[4]"
      ],
      "metadata": {
        "colab": {
          "base_uri": "https://localhost:8080/",
          "height": 141
        },
        "id": "SRtyBov_zJX0",
        "outputId": "4c202d95-c154-41a9-fcae-d46bb1f1f059"
      },
      "execution_count": 25,
      "outputs": [
        {
          "output_type": "error",
          "ename": "KeyError",
          "evalue": "4",
          "traceback": [
            "\u001b[0;31m---------------------------------------------------------------------------\u001b[0m",
            "\u001b[0;31mKeyError\u001b[0m                                  Traceback (most recent call last)",
            "\u001b[0;32m/tmp/ipython-input-2374535372.py\u001b[0m in \u001b[0;36m<cell line: 0>\u001b[0;34m()\u001b[0m\n\u001b[0;32m----> 1\u001b[0;31m \u001b[0mx\u001b[0m\u001b[0;34m[\u001b[0m\u001b[0;36m4\u001b[0m\u001b[0;34m]\u001b[0m\u001b[0;34m\u001b[0m\u001b[0;34m\u001b[0m\u001b[0m\n\u001b[0m",
            "\u001b[0;31mKeyError\u001b[0m: 4"
          ]
        }
      ]
    },
    {
      "cell_type": "code",
      "source": [
        "if 4 in x:\n",
        "  x[4]"
      ],
      "metadata": {
        "id": "D_YiVKsHzMTn"
      },
      "execution_count": 26,
      "outputs": []
    },
    {
      "cell_type": "code",
      "source": [
        "x.get(2)"
      ],
      "metadata": {
        "colab": {
          "base_uri": "https://localhost:8080/",
          "height": 35
        },
        "id": "tdWdqP6tzdlI",
        "outputId": "837c55ca-8b63-4dd4-a7bb-6a02ef560671"
      },
      "execution_count": 27,
      "outputs": [
        {
          "output_type": "execute_result",
          "data": {
            "text/plain": [
              "'two'"
            ],
            "application/vnd.google.colaboratory.intrinsic+json": {
              "type": "string"
            }
          },
          "metadata": {},
          "execution_count": 27
        }
      ]
    },
    {
      "cell_type": "code",
      "source": [
        "x.get(4, 'Error')"
      ],
      "metadata": {
        "colab": {
          "base_uri": "https://localhost:8080/",
          "height": 35
        },
        "id": "RzDZBIv9zgWm",
        "outputId": "b1a43940-7a40-444d-da95-579abd60441d"
      },
      "execution_count": 29,
      "outputs": [
        {
          "output_type": "execute_result",
          "data": {
            "text/plain": [
              "'Error'"
            ],
            "application/vnd.google.colaboratory.intrinsic+json": {
              "type": "string"
            }
          },
          "metadata": {},
          "execution_count": 29
        }
      ]
    },
    {
      "cell_type": "code",
      "source": [
        "text = input('text>>>')"
      ],
      "metadata": {
        "colab": {
          "base_uri": "https://localhost:8080/"
        },
        "id": "6ZnTpd5WzqhD",
        "outputId": "68a3dfe8-941f-469c-c45e-d24603393eb4"
      },
      "execution_count": 30,
      "outputs": [
        {
          "name": "stdout",
          "output_type": "stream",
          "text": [
            "text>>>Hello world! Python\n"
          ]
        }
      ]
    },
    {
      "cell_type": "code",
      "source": [
        "res = {}\n",
        "\n",
        "for item in text:\n",
        "  if item in res:\n",
        "    res[item] += 1\n",
        "  else:\n",
        "    res[item] = 1\n",
        "\n",
        "print(res)"
      ],
      "metadata": {
        "colab": {
          "base_uri": "https://localhost:8080/"
        },
        "id": "CcgSQwcy0al7",
        "outputId": "1fc82b70-0ef9-4ab6-be51-a3e5046646a2"
      },
      "execution_count": 31,
      "outputs": [
        {
          "output_type": "stream",
          "name": "stdout",
          "text": [
            "{'H': 1, 'e': 1, 'l': 3, 'o': 3, ' ': 2, 'w': 1, 'r': 1, 'd': 1, '!': 1, 'P': 1, 'y': 1, 't': 1, 'h': 1, 'n': 1}\n"
          ]
        }
      ]
    },
    {
      "cell_type": "markdown",
      "source": [
        "*Посчитать сколько раз встречается каждое слово в тексте*"
      ],
      "metadata": {
        "id": "DqdLF3oc2BFl"
      }
    },
    {
      "cell_type": "code",
      "source": [
        "text = input('>>').lower()\n",
        "\n",
        "import string\n",
        "\n",
        "for item in string.punctuation:\n",
        "  text = text.replace(item, ' ')\n",
        "\n",
        "words = text.split()\n",
        "\n",
        "res = {}\n",
        "for word in words:\n",
        "  if word in res:\n",
        "    res[word] += 1\n",
        "  else:\n",
        "    res[word] = 1\n",
        "\n",
        "print(res)"
      ],
      "metadata": {
        "colab": {
          "base_uri": "https://localhost:8080/"
        },
        "id": "KL6pvgpn2HP4",
        "outputId": "64747c62-abbe-490b-d67a-dd92fb6e0102"
      },
      "execution_count": 33,
      "outputs": [
        {
          "output_type": "stream",
          "name": "stdout",
          "text": [
            ">>Hello hello HELLO\n",
            "{'hello': 3}\n"
          ]
        }
      ]
    },
    {
      "cell_type": "code",
      "source": [
        "x = [1, 1, 1, 1, 1, 1, 2, 2, 2, 3, 4, 5, 5, 5]\n",
        "\n",
        "from collections import Counter\n",
        "\n",
        "res = Counter(x)\n",
        "print(res)"
      ],
      "metadata": {
        "colab": {
          "base_uri": "https://localhost:8080/"
        },
        "id": "g2EAJ4_o4etg",
        "outputId": "f3082ff6-4384-4f53-88e9-00671d633c7d"
      },
      "execution_count": 47,
      "outputs": [
        {
          "output_type": "stream",
          "name": "stdout",
          "text": [
            "Counter({1: 6, 2: 3, 5: 3, 3: 1, 4: 1})\n"
          ]
        }
      ]
    },
    {
      "cell_type": "code",
      "source": [
        "res.most_common(3)"
      ],
      "metadata": {
        "colab": {
          "base_uri": "https://localhost:8080/"
        },
        "id": "oovflLgy8fKl",
        "outputId": "9b6fc110-f501-4748-e529-0f62804d052b"
      },
      "execution_count": 48,
      "outputs": [
        {
          "output_type": "execute_result",
          "data": {
            "text/plain": [
              "[(1, 6), (2, 3), (5, 3)]"
            ]
          },
          "metadata": {},
          "execution_count": 48
        }
      ]
    },
    {
      "cell_type": "code",
      "source": [
        "data = [\n",
        "    '1 Bob Simson 19.58$ Decorations',\n",
        "    '2 Mary 66.7$ food',\n",
        "    '3 Mary 98.91$ toys',\n",
        "    '4 Aleksa 72.29$ drinks',\n",
        "    '5 Maria Simson 84.48$ food',\n",
        "    '6 Aleksa 100.41$ Accessories',\n",
        "    '7 Mary 19.9$ accessories',\n",
        "    '8 Bob Simson 83.88$ drinks',\n",
        "    '9 Bob Simson 58.21$ instruments',\n",
        "    '10 Maria Simson 20.61$ accessories',\n",
        "]"
      ],
      "metadata": {
        "id": "Jshp6bF-48kM"
      },
      "execution_count": 35,
      "outputs": []
    },
    {
      "cell_type": "code",
      "source": [
        "res = {}\n",
        "\n",
        "for line in data:\n",
        "  tmp = line.split()\n",
        "  category, money = tmp[-1].strip().lower(), float(tmp[-2].replace('$', ''))\n",
        "\n",
        "  res[category] = res.get(category, 0) + money\n",
        "\n",
        "  # if category in res:\n",
        "  #   res[category] += money\n",
        "  # else:\n",
        "  #   res[category] = money\n",
        "\n",
        "print(*res.items(), sep='\\n')"
      ],
      "metadata": {
        "colab": {
          "base_uri": "https://localhost:8080/"
        },
        "id": "eMSJETi05HnJ",
        "outputId": "9ab37ab1-bf42-45e0-a466-3f61a89fe191"
      },
      "execution_count": 40,
      "outputs": [
        {
          "output_type": "stream",
          "name": "stdout",
          "text": [
            "('decorations', 19.58)\n",
            "('food', 151.18)\n",
            "('toys', 98.91)\n",
            "('drinks', 156.17000000000002)\n",
            "('accessories', 140.92000000000002)\n",
            "('instruments', 58.21)\n"
          ]
        }
      ]
    },
    {
      "cell_type": "code",
      "source": [
        "group = [\n",
        " {\n",
        "    'id': 1,\n",
        "    'name': 'Oleh',\n",
        "    'number': '234567',\n",
        "\n",
        "},\n",
        "{\n",
        "    'id': 2,\n",
        "    'name': 'Alice',\n",
        "    'number': '234467'\n",
        "},\n",
        "{\n",
        "    'id': 3,\n",
        "    'name': 'Bob',\n",
        "    'number': '434567'\n",
        "}\n",
        "]\n",
        "\n",
        "for item in group:\n",
        "  print(item.get('name', 'Unknown'))\n",
        ""
      ],
      "metadata": {
        "colab": {
          "base_uri": "https://localhost:8080/"
        },
        "id": "lR2tgJNv6rwR",
        "outputId": "4eb41669-a336-4c67-c530-3cdc5c43fb7e"
      },
      "execution_count": 42,
      "outputs": [
        {
          "output_type": "stream",
          "name": "stdout",
          "text": [
            "Oleh\n",
            "Alice\n",
            "Bob\n"
          ]
        }
      ]
    },
    {
      "cell_type": "code",
      "source": [
        "student = {\n",
        "    'id': 1,\n",
        "    'name': 'Oleh',\n",
        "    'number': '234567',\n",
        "    'points': {\n",
        "        'python': 5,\n",
        "        'java': 5,\n",
        "        'c++': 4\n",
        "    }\n",
        "}"
      ],
      "metadata": {
        "id": "LmjGE7Oy7SHN"
      },
      "execution_count": 43,
      "outputs": []
    },
    {
      "cell_type": "code",
      "source": [
        "student['points']['python']"
      ],
      "metadata": {
        "colab": {
          "base_uri": "https://localhost:8080/"
        },
        "id": "JolFJl7W8HF9",
        "outputId": "6f2b5dda-bf0d-4034-fdc7-7c48221fa3ee"
      },
      "execution_count": 46,
      "outputs": [
        {
          "output_type": "execute_result",
          "data": {
            "text/plain": [
              "5"
            ]
          },
          "metadata": {},
          "execution_count": 46
        }
      ]
    }
  ]
}