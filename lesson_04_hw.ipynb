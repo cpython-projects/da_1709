{
  "nbformat": 4,
  "nbformat_minor": 0,
  "metadata": {
    "colab": {
      "provenance": [],
      "authorship_tag": "ABX9TyPKV1ea4Yk7TePrCrq7MTx2",
      "include_colab_link": true
    },
    "kernelspec": {
      "name": "python3",
      "display_name": "Python 3"
    },
    "language_info": {
      "name": "python"
    }
  },
  "cells": [
    {
      "cell_type": "markdown",
      "metadata": {
        "id": "view-in-github",
        "colab_type": "text"
      },
      "source": [
        "<a href=\"https://colab.research.google.com/github/cpython-projects/da_1709/blob/main/lesson_04_hw.ipynb\" target=\"_parent\"><img src=\"https://colab.research.google.com/assets/colab-badge.svg\" alt=\"Open In Colab\"/></a>"
      ]
    },
    {
      "cell_type": "markdown",
      "source": [
        "**Task 1.** Дано число (четырехзначное). Проверить, является ли оно «счастливым билетом». Примечание: счастливым билетом называется число, в котором при четном количестве цифр сумма цифр его левой половины равна сумме цифр его правой половины. Например, 1322 является счастливым билетом, потому что 1+3=2+2."
      ],
      "metadata": {
        "id": "qhM02m0JHW06"
      }
    },
    {
      "cell_type": "code",
      "execution_count": 1,
      "metadata": {
        "id": "9qRLyp08G_uT",
        "outputId": "21c155b5-ebe1-4ee1-df3e-e257e117d694",
        "colab": {
          "base_uri": "https://localhost:8080/"
        }
      },
      "outputs": [
        {
          "output_type": "stream",
          "name": "stdout",
          "text": [
            "ticket>>123456789\n",
            "['1', '2', '3', '4', '5', '6', '7', '8', '9']\n"
          ]
        }
      ],
      "source": [
        "ticket = input('ticket>>')\n",
        "ticket = list(ticket)\n",
        "print(ticket)"
      ]
    },
    {
      "cell_type": "code",
      "source": [
        "ticket = list(map(int, ticket))\n",
        "print(ticket)"
      ],
      "metadata": {
        "id": "3BIH_0ukiBjI",
        "outputId": "d7e6f1c6-a6b1-4116-cc3d-7d4b6f3aa2df",
        "colab": {
          "base_uri": "https://localhost:8080/"
        }
      },
      "execution_count": 2,
      "outputs": [
        {
          "output_type": "stream",
          "name": "stdout",
          "text": [
            "[1, 2, 3, 4, 5, 6, 7, 8, 9]\n"
          ]
        }
      ]
    },
    {
      "cell_type": "code",
      "source": [
        "if len(ticket) % 2:\n",
        "    print('Length of ticket is not even')\n",
        "else:\n",
        "    mid = len(ticket) // 2\n",
        "    left = ticket[:mid]\n",
        "    right = ticket[mid:]\n",
        "    result = 'Lucky' if sum(left) == sum(right) else 'Unlucky'\n",
        "    print(result)"
      ],
      "metadata": {
        "id": "wy_LRktXiOZJ",
        "outputId": "a07776dc-5b7b-40e9-ea2b-37f5caa0a6f8",
        "colab": {
          "base_uri": "https://localhost:8080/"
        }
      },
      "execution_count": 3,
      "outputs": [
        {
          "output_type": "stream",
          "name": "stdout",
          "text": [
            "Length of ticket is not even\n"
          ]
        }
      ]
    },
    {
      "cell_type": "markdown",
      "source": [
        "**Task 2.** С клавиатуры вводится число (шестизначное). Проверить, является ли оно палиндромом. Примечание: Палиндромом называется число, слово или текст, которые одинаково читаются слева направо и справа налево. Например, это числа 143341, 5555, 7117 и т.д."
      ],
      "metadata": {
        "id": "nYdKegkDKL4P"
      }
    },
    {
      "cell_type": "code",
      "source": [
        "text = input('text>>')\n",
        "\n",
        "if text == text[::-1]:\n",
        "    print('Palindrome')\n",
        "else:\n",
        "    print('Not palindrome')"
      ],
      "metadata": {
        "id": "LqG_Al7cLJYy",
        "outputId": "3b9b624e-a405-406e-937f-6c16a1004778",
        "colab": {
          "base_uri": "https://localhost:8080/"
        }
      },
      "execution_count": 4,
      "outputs": [
        {
          "output_type": "stream",
          "name": "stdout",
          "text": [
            "text>>111111111111\n",
            "Palindrome\n"
          ]
        }
      ]
    },
    {
      "cell_type": "markdown",
      "source": [
        "**Task 3.** Подсчет суммарной выручки. У вас есть список дневной выручки магазина за неделю (7 дней). Найдите общую сумму выручки.\n",
        "Входные данные: список из 7 чисел."
      ],
      "metadata": {
        "id": "GDpklKWQKm8a"
      }
    },
    {
      "cell_type": "code",
      "source": [
        "money = [100, 200, 300, 400, 500, 600, 700]\n",
        "print(sum(money))"
      ],
      "metadata": {
        "id": "4idnxK-RLKJ8",
        "outputId": "17223c89-4e1b-4fd5-b0c7-740790630c32",
        "colab": {
          "base_uri": "https://localhost:8080/"
        }
      },
      "execution_count": 5,
      "outputs": [
        {
          "output_type": "stream",
          "name": "stdout",
          "text": [
            "2800\n"
          ]
        }
      ]
    },
    {
      "cell_type": "markdown",
      "source": [
        "**Task 4.** Определение количества положительных значений. Дан список чисел, который содержит прибыли и убытки компании за несколько месяцев. Посчитайте, сколько месяцев компания работала с прибылью (положительные числа).\n",
        "Входные данные: список целых чисел."
      ],
      "metadata": {
        "id": "JSwMJwdkK8Fo"
      }
    },
    {
      "cell_type": "code",
      "source": [],
      "metadata": {
        "id": "ZO_f3XAnLKpu"
      },
      "execution_count": null,
      "outputs": []
    },
    {
      "cell_type": "markdown",
      "source": [
        "**Task 5.** Поиск максимального значения. Дан список чисел, содержащий температуры за 10 дней. Найдите максимальную температуру.\n",
        "Входные данные: список из 10 чисел."
      ],
      "metadata": {
        "id": "tV1ArsHFK-aj"
      }
    },
    {
      "cell_type": "code",
      "source": [
        "t = [10, 20, 30, 40, 50, 60, 70, 80, 90, 100]\n",
        "print(max(t))"
      ],
      "metadata": {
        "id": "aiVBYeLhLMa4",
        "outputId": "21b79b34-2a25-4886-b62b-8d5291977c9e",
        "colab": {
          "base_uri": "https://localhost:8080/"
        }
      },
      "execution_count": 6,
      "outputs": [
        {
          "output_type": "stream",
          "name": "stdout",
          "text": [
            "100\n"
          ]
        }
      ]
    },
    {
      "cell_type": "code",
      "source": [
        "max_value = max(t)\n",
        "index = t.index(max_value)\n",
        "print(index + 1)"
      ],
      "metadata": {
        "id": "kyS0LCAMjPE6",
        "outputId": "de6ce48b-f0b3-4018-bf21-434fa2b7bb03",
        "colab": {
          "base_uri": "https://localhost:8080/"
        }
      },
      "execution_count": 7,
      "outputs": [
        {
          "output_type": "stream",
          "name": "stdout",
          "text": [
            "10\n"
          ]
        }
      ]
    },
    {
      "cell_type": "markdown",
      "source": [
        "**Task 6.** Среднее значение. Дан список чисел, содержащий дневную посещаемость сайта за месяц (30 дней). Найдите среднее значение посещаемости.\n",
        "Входные данные: список из 30 целых чисел."
      ],
      "metadata": {
        "id": "jfmPpUmkLAYG"
      }
    },
    {
      "cell_type": "code",
      "source": [
        "import statistics\n",
        "\n",
        "\n",
        "x = [10, 20, 30, 40, 50, 60, 70, 80, 90, 100]\n",
        "print(sum(x) / len(x))\n",
        "print(statistics.mean(x))"
      ],
      "metadata": {
        "id": "erl8aoj1LM4w",
        "outputId": "c25c4bc7-d039-4fd3-d414-e868a03f491a",
        "colab": {
          "base_uri": "https://localhost:8080/"
        }
      },
      "execution_count": 8,
      "outputs": [
        {
          "output_type": "stream",
          "name": "stdout",
          "text": [
            "55.0\n",
            "55\n"
          ]
        }
      ]
    },
    {
      "cell_type": "markdown",
      "source": [
        "**Task 7.** Подсчет количества четных чисел. Дан список чисел, содержащий ID клиентов. Определите, сколько ID являются четными.\n",
        "Входные данные: список целых чисел."
      ],
      "metadata": {
        "id": "sRAAO4TgLCBN"
      }
    },
    {
      "cell_type": "code",
      "source": [],
      "metadata": {
        "id": "0TLCc9fYLNYT"
      },
      "execution_count": null,
      "outputs": []
    },
    {
      "cell_type": "markdown",
      "source": [
        "**Task 8.** Фильтрация данных. Дан список чисел, представляющих цены товаров в интернет-магазине. Определите, сколько товаров дороже 1000.\n",
        "Входные данные: список положительных чисел."
      ],
      "metadata": {
        "id": "1Yy_exV5Kd1s"
      }
    },
    {
      "cell_type": "code",
      "source": [],
      "metadata": {
        "id": "RJNtWMJuLN3e"
      },
      "execution_count": null,
      "outputs": []
    },
    {
      "cell_type": "markdown",
      "source": [
        "**Task 9.** Подсчет суммарного количества товаров. В магазине продаются товары нескольких категорий. Дан список, где каждое число — это количество товаров в определенной категории. Найдите общее количество товаров.\n",
        "Входные данные: список целых чисел."
      ],
      "metadata": {
        "id": "GhoqNPDjKQi6"
      }
    },
    {
      "cell_type": "code",
      "source": [
        "x = [10, 20, 30, 40, 50, 60, 70, 80, 90, 100]\n",
        "print(sum(x))"
      ],
      "metadata": {
        "id": "h22gAApgLPHY",
        "outputId": "f1dce9c9-3e33-4697-e069-532ecd05c9fd",
        "colab": {
          "base_uri": "https://localhost:8080/"
        }
      },
      "execution_count": 9,
      "outputs": [
        {
          "output_type": "stream",
          "name": "stdout",
          "text": [
            "550\n"
          ]
        }
      ]
    },
    {
      "cell_type": "markdown",
      "source": [
        "**Task 10.** Поиск минимального значения. Дан список чисел, содержащий задержки доставки заказов (в днях) за месяц. Найдите минимальную задержку.\n",
        "Входные данные: список из 30 чисел.\n"
      ],
      "metadata": {
        "id": "CbavsxPRKNsN"
      }
    },
    {
      "cell_type": "code",
      "source": [
        "delays = [1, 2, 1, 0, 2, 3, 4, 6]\n",
        "\n",
        "print(min(delays))"
      ],
      "metadata": {
        "id": "WG-zb6tlLPuR",
        "outputId": "c9dfdb41-8e79-464a-ba30-31b1b8a3d74d",
        "colab": {
          "base_uri": "https://localhost:8080/"
        }
      },
      "execution_count": 10,
      "outputs": [
        {
          "output_type": "stream",
          "name": "stdout",
          "text": [
            "0\n"
          ]
        }
      ]
    }
  ]
}