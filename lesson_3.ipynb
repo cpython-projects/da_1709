{
  "nbformat": 4,
  "nbformat_minor": 0,
  "metadata": {
    "colab": {
      "provenance": [],
      "authorship_tag": "ABX9TyOYgjFgQrn4XmqF+zuAxACn",
      "include_colab_link": true
    },
    "kernelspec": {
      "name": "python3",
      "display_name": "Python 3"
    },
    "language_info": {
      "name": "python"
    }
  },
  "cells": [
    {
      "cell_type": "markdown",
      "metadata": {
        "id": "view-in-github",
        "colab_type": "text"
      },
      "source": [
        "<a href=\"https://colab.research.google.com/github/cpython-projects/da_1709/blob/main/lesson_3.ipynb\" target=\"_parent\"><img src=\"https://colab.research.google.com/assets/colab-badge.svg\" alt=\"Open In Colab\"/></a>"
      ]
    },
    {
      "cell_type": "code",
      "execution_count": 7,
      "metadata": {
        "colab": {
          "base_uri": "https://localhost:8080/"
        },
        "id": "oF0f8wj4oeqZ",
        "outputId": "fe42cbc7-4ecf-4687-f55c-dcaa81d771ed"
      },
      "outputs": [
        {
          "output_type": "stream",
          "name": "stdout",
          "text": [
            "Salary: 1500\n"
          ]
        }
      ],
      "source": [
        "salary = 1500\n",
        "tax = 0\n",
        "\n",
        "\n",
        "if salary > 2000:\n",
        "    tax = 0.2\n",
        "\n",
        "print(f'Salary: {salary * (1 - tax)}')"
      ]
    },
    {
      "cell_type": "code",
      "source": [
        "salary = 11500\n",
        "\n",
        "if salary < 2000:\n",
        "    tax = 0.1\n",
        "else:\n",
        "    tax = 0.2\n",
        "\n",
        "print(f'Salary: {salary * (1 - tax)}')"
      ],
      "metadata": {
        "colab": {
          "base_uri": "https://localhost:8080/"
        },
        "id": "kglsZ-bcqRov",
        "outputId": "c5e6a5eb-6f19-47a6-9b7f-becbd2d6987b"
      },
      "execution_count": 10,
      "outputs": [
        {
          "output_type": "stream",
          "name": "stdout",
          "text": [
            "Salary: 9200.0\n"
          ]
        }
      ]
    },
    {
      "cell_type": "code",
      "source": [
        "salary = 2000\n",
        "f_members = 3\n",
        "tax = 0.3\n",
        "\n",
        "if salary > 1000 and f_members > 3:\n",
        "    tax = 0.2\n",
        "\n",
        "\n",
        "print(f'Salary: {salary * (1 - tax)}')"
      ],
      "metadata": {
        "colab": {
          "base_uri": "https://localhost:8080/"
        },
        "id": "HUuDYYhmrSIJ",
        "outputId": "9ebd91c6-b047-4eaa-9714-49c67dc61d1d"
      },
      "execution_count": 12,
      "outputs": [
        {
          "output_type": "stream",
          "name": "stdout",
          "text": [
            "Salary: 1400.0\n"
          ]
        }
      ]
    },
    {
      "cell_type": "code",
      "source": [
        "salary = 2000\n",
        "f_members = 3\n",
        "\n",
        "\n",
        "if salary > 1000:\n",
        "  if f_members > 3:\n",
        "    tax = 0.1\n",
        "  else:\n",
        "    tax = 0.4\n",
        "else:\n",
        "  tax = 0.3\n",
        "\n",
        "\n",
        "print(f'Salary: {salary * (1 - tax)}')"
      ],
      "metadata": {
        "colab": {
          "base_uri": "https://localhost:8080/"
        },
        "id": "zAqPR4IjsTlc",
        "outputId": "4539c153-0483-4b2c-8c2e-e41a747e39b3"
      },
      "execution_count": 14,
      "outputs": [
        {
          "output_type": "stream",
          "name": "stdout",
          "text": [
            "Salary: 1200.0\n"
          ]
        }
      ]
    },
    {
      "cell_type": "code",
      "source": [
        "salary = int(input('salary>>'))\n",
        "\n",
        "\n",
        "if salary < 1000:\n",
        "  level = 'low'\n",
        "elif salary < 2000:\n",
        "  level = 'medium'\n",
        "elif salary < 4000:\n",
        "  level = 'high'\n",
        "else:\n",
        "  level = 'very high'\n",
        "\n",
        "print(f'Level: {level}')"
      ],
      "metadata": {
        "colab": {
          "base_uri": "https://localhost:8080/"
        },
        "id": "SCJsqpnevEle",
        "outputId": "ef3d577d-6361-41e0-ccf5-da24d6fd82f5"
      },
      "execution_count": 15,
      "outputs": [
        {
          "output_type": "stream",
          "name": "stdout",
          "text": [
            "salary>>3000\n",
            "Level: high\n"
          ]
        }
      ]
    },
    {
      "cell_type": "code",
      "source": [
        "x = 0\n",
        "\n",
        "if x == 0:\n",
        "  print(x)\n",
        "  x = 10\n",
        "elif x == 10:\n",
        "  print(x)\n",
        "  x = 100\n",
        "else:\n",
        "  print(x)\n",
        "\n",
        "\n",
        "print(x)"
      ],
      "metadata": {
        "colab": {
          "base_uri": "https://localhost:8080/"
        },
        "id": "GgtzTVtgv9Fc",
        "outputId": "e86d1282-7f92-49ed-a8ba-68c8cb99ce9c"
      },
      "execution_count": 16,
      "outputs": [
        {
          "output_type": "stream",
          "name": "stdout",
          "text": [
            "0\n",
            "10\n"
          ]
        }
      ]
    },
    {
      "cell_type": "code",
      "source": [
        "x = 0\n",
        "\n",
        "if x == 0:\n",
        "  print(x)\n",
        "  x = 10\n",
        "\n",
        "if x == 10:\n",
        "  print(x)\n",
        "  x = 100\n",
        "else:\n",
        "  print(x)\n",
        "\n",
        "print(x)"
      ],
      "metadata": {
        "colab": {
          "base_uri": "https://localhost:8080/"
        },
        "id": "fn6NNgcUw0jJ",
        "outputId": "e949ef55-8a5b-43d1-dd76-d9f4abcabbc3"
      },
      "execution_count": 17,
      "outputs": [
        {
          "output_type": "stream",
          "name": "stdout",
          "text": [
            "0\n",
            "10\n",
            "100\n"
          ]
        }
      ]
    },
    {
      "cell_type": "code",
      "source": [
        "point = int(input('point>>'))\n",
        "\n",
        "# 0-59 => F\n",
        "# 60 - 65 => E\n",
        "# 66 - 74 => D\n",
        "# 75 - 84 => C\n",
        "# 85 - 89 => B\n",
        "# 90-100 => A\n"
      ],
      "metadata": {
        "colab": {
          "base_uri": "https://localhost:8080/"
        },
        "id": "ueZvH9EjxGz7",
        "outputId": "ff2be703-3003-4def-b3e1-e2435c457bcc"
      },
      "execution_count": 19,
      "outputs": [
        {
          "name": "stdout",
          "output_type": "stream",
          "text": [
            "point>>89\n"
          ]
        }
      ]
    },
    {
      "cell_type": "code",
      "source": [
        "if point < 0 or point > 100:\n",
        "  print('N/A')\n",
        "elif point <= 59:\n",
        "    print('F')\n",
        "elif point <= 65:\n",
        "    print('E')\n",
        "elif point <= 74:\n",
        "    print('D')\n",
        "elif point <= 84:\n",
        "    print('C')\n",
        "elif point <= 89:\n",
        "    print('B')\n",
        "elif point <= 100:\n",
        "    print('A')"
      ],
      "metadata": {
        "colab": {
          "base_uri": "https://localhost:8080/"
        },
        "id": "_OnANktZzMhF",
        "outputId": "cb861495-f9aa-4c4b-902b-757e43d284b5"
      },
      "execution_count": 20,
      "outputs": [
        {
          "output_type": "stream",
          "name": "stdout",
          "text": [
            "B\n"
          ]
        }
      ]
    },
    {
      "cell_type": "code",
      "source": [
        "salary = 2000\n",
        "\n",
        "if salary > 2000:\n",
        "  tax = 0.2\n",
        "else:\n",
        "  tax = 0.1\n",
        "\n",
        "print(f'Salary: {salary * (1 - tax)}')"
      ],
      "metadata": {
        "id": "MgHcgxCX0ccc"
      },
      "execution_count": null,
      "outputs": []
    },
    {
      "cell_type": "code",
      "source": [
        "tax = 0.2 if salary > 2000 else 0.1\n",
        "\n",
        "print(f'Salary: {salary * (1 - tax)}')"
      ],
      "metadata": {
        "id": "TPsiOhoT08zg"
      },
      "execution_count": null,
      "outputs": []
    },
    {
      "cell_type": "code",
      "source": [],
      "metadata": {
        "id": "KZL0bCAY1gm0"
      },
      "execution_count": null,
      "outputs": []
    },
    {
      "cell_type": "code",
      "source": [
        "text = ''\n",
        "\n",
        "bool(text)"
      ],
      "metadata": {
        "colab": {
          "base_uri": "https://localhost:8080/"
        },
        "id": "MAVbD6rW1dh5",
        "outputId": "7e64f860-e55c-4582-b0b7-d9235e6b721d"
      },
      "execution_count": 21,
      "outputs": [
        {
          "output_type": "execute_result",
          "data": {
            "text/plain": [
              "False"
            ]
          },
          "metadata": {},
          "execution_count": 21
        }
      ]
    },
    {
      "cell_type": "code",
      "source": [
        "text = 'false'\n",
        "\n",
        "bool(text)"
      ],
      "metadata": {
        "colab": {
          "base_uri": "https://localhost:8080/"
        },
        "id": "jX9Lhv012Mh7",
        "outputId": "e569a1ff-e99d-4453-d8f4-87e925a5f509"
      },
      "execution_count": 22,
      "outputs": [
        {
          "output_type": "execute_result",
          "data": {
            "text/plain": [
              "True"
            ]
          },
          "metadata": {},
          "execution_count": 22
        }
      ]
    },
    {
      "cell_type": "code",
      "source": [
        "x = -100\n",
        "\n",
        "bool(x)"
      ],
      "metadata": {
        "colab": {
          "base_uri": "https://localhost:8080/"
        },
        "id": "4Wlp6SFu2RTO",
        "outputId": "2f345518-7aa1-46a3-b103-09f8671c11b5"
      },
      "execution_count": 23,
      "outputs": [
        {
          "output_type": "execute_result",
          "data": {
            "text/plain": [
              "True"
            ]
          },
          "metadata": {},
          "execution_count": 23
        }
      ]
    },
    {
      "cell_type": "code",
      "source": [
        "x = 0\n",
        "\n",
        "bool(x)"
      ],
      "metadata": {
        "colab": {
          "base_uri": "https://localhost:8080/"
        },
        "id": "GEiGxZMt2WtL",
        "outputId": "2a4db644-d393-477e-8bc4-2ca4cf73cef2"
      },
      "execution_count": 24,
      "outputs": [
        {
          "output_type": "execute_result",
          "data": {
            "text/plain": [
              "False"
            ]
          },
          "metadata": {},
          "execution_count": 24
        }
      ]
    },
    {
      "cell_type": "code",
      "source": [
        "x = int(input('x>>'))\n",
        "\n",
        "if x % 2 == 0:\n",
        "  print('Even')\n",
        "else:\n",
        "  print('Odd')"
      ],
      "metadata": {
        "id": "Oi02tsDM2Z-M"
      },
      "execution_count": null,
      "outputs": []
    },
    {
      "cell_type": "code",
      "source": [
        "x = int(input('x>>'))\n",
        "\n",
        "if x % 2:\n",
        "  print('Odd')\n",
        "else:\n",
        "  print('Even')"
      ],
      "metadata": {
        "id": "oVrI0adT2tkJ"
      },
      "execution_count": null,
      "outputs": []
    },
    {
      "cell_type": "code",
      "source": [
        "x = int(input('x>>'))\n",
        "\n",
        "if not x % 2:\n",
        "  print('Even')"
      ],
      "metadata": {
        "colab": {
          "base_uri": "https://localhost:8080/"
        },
        "id": "NjEn_4XS3TcJ",
        "outputId": "f38fc995-81bc-4597-b495-e07016a74286"
      },
      "execution_count": 26,
      "outputs": [
        {
          "output_type": "stream",
          "name": "stdout",
          "text": [
            "x>>4\n",
            "Even\n"
          ]
        }
      ]
    }
  ]
}