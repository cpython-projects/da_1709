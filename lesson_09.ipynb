{
  "nbformat": 4,
  "nbformat_minor": 0,
  "metadata": {
    "colab": {
      "provenance": [],
      "authorship_tag": "ABX9TyPkbEk8bS1K/BgZpAepAiJY",
      "include_colab_link": true
    },
    "kernelspec": {
      "name": "python3",
      "display_name": "Python 3"
    },
    "language_info": {
      "name": "python"
    }
  },
  "cells": [
    {
      "cell_type": "markdown",
      "metadata": {
        "id": "view-in-github",
        "colab_type": "text"
      },
      "source": [
        "<a href=\"https://colab.research.google.com/github/cpython-projects/da_1709/blob/main/lesson_09.ipynb\" target=\"_parent\"><img src=\"https://colab.research.google.com/assets/colab-badge.svg\" alt=\"Open In Colab\"/></a>"
      ]
    },
    {
      "cell_type": "code",
      "execution_count": 1,
      "metadata": {
        "id": "_DCPo8IAeFQO"
      },
      "outputs": [],
      "source": [
        "def add(a, b, c):\n",
        "    res = a + b + c\n",
        "    return res"
      ]
    },
    {
      "cell_type": "code",
      "source": [
        "add(13, 14, 5)"
      ],
      "metadata": {
        "colab": {
          "base_uri": "https://localhost:8080/"
        },
        "id": "0GARb1i_gefG",
        "outputId": "72ceae0b-7545-44f5-b95f-ade4781a3047"
      },
      "execution_count": 4,
      "outputs": [
        {
          "output_type": "execute_result",
          "data": {
            "text/plain": [
              "32"
            ]
          },
          "metadata": {},
          "execution_count": 4
        }
      ]
    },
    {
      "cell_type": "code",
      "source": [
        "def greetings():\n",
        "    return 'Hello world'"
      ],
      "metadata": {
        "id": "wehjthf3gugE"
      },
      "execution_count": 5,
      "outputs": []
    },
    {
      "cell_type": "code",
      "source": [
        "greetings()"
      ],
      "metadata": {
        "colab": {
          "base_uri": "https://localhost:8080/",
          "height": 35
        },
        "id": "wi1grsWOg4HM",
        "outputId": "a52fb123-8f81-44ea-dd4a-c9d05b838fe1"
      },
      "execution_count": 6,
      "outputs": [
        {
          "output_type": "execute_result",
          "data": {
            "text/plain": [
              "'Hello world'"
            ],
            "application/vnd.google.colaboratory.intrinsic+json": {
              "type": "string"
            }
          },
          "metadata": {},
          "execution_count": 6
        }
      ]
    },
    {
      "cell_type": "code",
      "source": [
        "def exp(a, b):\n",
        "  return a ** b\n",
        "\n",
        "\n",
        "print(exp(2, 7))\n",
        "print(exp(b=7, a=2))\n",
        "print(exp(7, 2))"
      ],
      "metadata": {
        "colab": {
          "base_uri": "https://localhost:8080/"
        },
        "id": "2TyS6s0lg9yF",
        "outputId": "c660e46c-851c-4782-de41-70980559cf84"
      },
      "execution_count": 11,
      "outputs": [
        {
          "output_type": "stream",
          "name": "stdout",
          "text": [
            "128\n",
            "128\n",
            "49\n"
          ]
        }
      ]
    },
    {
      "cell_type": "code",
      "source": [
        "def add(a, b, c=3):\n",
        "  return a + b + c\n",
        "\n",
        "print(add(1, 2))\n",
        "print(add(1, 2, 4))"
      ],
      "metadata": {
        "colab": {
          "base_uri": "https://localhost:8080/"
        },
        "id": "dqkD_vy-hl6I",
        "outputId": "79c7d093-f606-4008-fb95-30389b374433"
      },
      "execution_count": 12,
      "outputs": [
        {
          "output_type": "stream",
          "name": "stdout",
          "text": [
            "6\n",
            "7\n"
          ]
        }
      ]
    },
    {
      "cell_type": "code",
      "source": [
        "help(print)"
      ],
      "metadata": {
        "colab": {
          "base_uri": "https://localhost:8080/"
        },
        "id": "fhM8UgcpiFX9",
        "outputId": "6375e3d6-0bfc-41de-d201-a95a03ff3da0"
      },
      "execution_count": 13,
      "outputs": [
        {
          "output_type": "stream",
          "name": "stdout",
          "text": [
            "Help on built-in function print in module builtins:\n",
            "\n",
            "print(*args, sep=' ', end='\\n', file=None, flush=False)\n",
            "    Prints the values to a stream, or to sys.stdout by default.\n",
            "\n",
            "    sep\n",
            "      string inserted between values, default a space.\n",
            "    end\n",
            "      string appended after the last value, default a newline.\n",
            "    file\n",
            "      a file-like object (stream); defaults to the current sys.stdout.\n",
            "    flush\n",
            "      whether to forcibly flush the stream.\n",
            "\n"
          ]
        }
      ]
    },
    {
      "cell_type": "code",
      "source": [
        "file = open('temp.txt', 'w')\n",
        "\n",
        "print(12, file=file)"
      ],
      "metadata": {
        "id": "USTgfHMmiRmQ"
      },
      "execution_count": 15,
      "outputs": []
    },
    {
      "cell_type": "code",
      "source": [
        "import statistics\n",
        "\n",
        "def avg_salary_by_q(salary):\n",
        "  res = {\n",
        "      'Q1': round(statistics.mean(salary[:3])),\n",
        "      'Q2': round(statistics.mean(salary[3:6])),\n",
        "      'Q3': round(statistics.mean(salary[6:9])),\n",
        "      'Q4': round(statistics.mean(salary[9:]))\n",
        "  }\n",
        "  return res"
      ],
      "metadata": {
        "id": "_xuneIbPjGKc"
      },
      "execution_count": 21,
      "outputs": []
    },
    {
      "cell_type": "code",
      "source": [
        "import random\n",
        "\n",
        "\n",
        "salaries = []\n",
        "for _ in range(1000):\n",
        "  tmp = [random.randint(10_000, 50_000) for _ in range(12)]\n",
        "  salaries.append(tmp)\n",
        "\n",
        "for salary in salaries[:10]:\n",
        "  print(avg_salary_by_q(salary))"
      ],
      "metadata": {
        "colab": {
          "base_uri": "https://localhost:8080/"
        },
        "id": "nxr_YBHaix4L",
        "outputId": "4eab699d-e4e0-4c06-aa1c-000be90f2ea9"
      },
      "execution_count": 22,
      "outputs": [
        {
          "output_type": "stream",
          "name": "stdout",
          "text": [
            "{'Q1': 31703, 'Q2': 26678, 'Q3': 18471, 'Q4': 31501}\n",
            "{'Q1': 28509, 'Q2': 30061, 'Q3': 36481, 'Q4': 27810}\n",
            "{'Q1': 31148, 'Q2': 25744, 'Q3': 31188, 'Q4': 38565}\n",
            "{'Q1': 24419, 'Q2': 33495, 'Q3': 30531, 'Q4': 36673}\n",
            "{'Q1': 22391, 'Q2': 23718, 'Q3': 31788, 'Q4': 24624}\n",
            "{'Q1': 38968, 'Q2': 30462, 'Q3': 45166, 'Q4': 32099}\n",
            "{'Q1': 22349, 'Q2': 24984, 'Q3': 37995, 'Q4': 21298}\n",
            "{'Q1': 34305, 'Q2': 24362, 'Q3': 16178, 'Q4': 25620}\n",
            "{'Q1': 24348, 'Q2': 33420, 'Q3': 26196, 'Q4': 22203}\n",
            "{'Q1': 29836, 'Q2': 25376, 'Q3': 30119, 'Q4': 37197}\n"
          ]
        }
      ]
    },
    {
      "cell_type": "code",
      "source": [
        "def calc(a: int | float, b: int | float, op: str) -> int | float:\n",
        "  \"\"\"\n",
        "  Returns sum/sub/mul/div of ltwo numbers.\n",
        "  param a: first number\n",
        "  param b: second number\n",
        "  param op: operation to perform\n",
        "  \"\"\"\n",
        "  if op == '+':\n",
        "    return a + b\n",
        "  if op == '-':\n",
        "    return a - b\n",
        "  if op == '*':\n",
        "    return a * b\n",
        "  if op == '/':\n",
        "    return a / b\n",
        "\n",
        "  return None"
      ],
      "metadata": {
        "id": "UqDYSjJnkcGH"
      },
      "execution_count": 31,
      "outputs": []
    },
    {
      "cell_type": "code",
      "source": [
        "calc(1, 2, '+')"
      ],
      "metadata": {
        "colab": {
          "base_uri": "https://localhost:8080/"
        },
        "id": "ImW_2t4wkwSM",
        "outputId": "007838f9-8ec3-4c3e-d78f-3692adc3edc6"
      },
      "execution_count": 33,
      "outputs": [
        {
          "output_type": "execute_result",
          "data": {
            "text/plain": [
              "3"
            ]
          },
          "metadata": {},
          "execution_count": 33
        }
      ]
    },
    {
      "cell_type": "code",
      "source": [
        "id(calc)"
      ],
      "metadata": {
        "colab": {
          "base_uri": "https://localhost:8080/"
        },
        "id": "DUAMZaOjm0SX",
        "outputId": "d3575236-cbf6-4be8-81b9-ac7512346cb4"
      },
      "execution_count": 34,
      "outputs": [
        {
          "output_type": "execute_result",
          "data": {
            "text/plain": [
              "136310715647616"
            ]
          },
          "metadata": {},
          "execution_count": 34
        }
      ]
    },
    {
      "cell_type": "code",
      "source": [
        "calc.__doc__"
      ],
      "metadata": {
        "colab": {
          "base_uri": "https://localhost:8080/",
          "height": 35
        },
        "id": "37-EsWx9m7RZ",
        "outputId": "bf1b51d6-e928-4b67-9470-e4bc6145ad8b"
      },
      "execution_count": 39,
      "outputs": [
        {
          "output_type": "execute_result",
          "data": {
            "text/plain": [
              "'\\n  Returns sum/sub/mul/div of ltwo numbers.\\n  param a: first number\\n  param b: second number\\n  param op: operation to perform\\n  '"
            ],
            "application/vnd.google.colaboratory.intrinsic+json": {
              "type": "string"
            }
          },
          "metadata": {},
          "execution_count": 39
        }
      ]
    },
    {
      "cell_type": "code",
      "source": [
        "data = [\n",
        "  '1 Bob Simson 19.58$ decorations',\n",
        "  '2 Mary 66.7$ food',\n",
        "  '3 Mary 98.91$ toys',\n",
        "  '4 Aleksa 72.29$ drinks',\n",
        "  '5 Maria Simson 84.48$ food',\n",
        "  '6 Aleksa 100.41$ accessories',\n",
        "  '7 Mary 19.9$ accessories',\n",
        "  '8 Bob Simson 83.88$ drinks',\n",
        "  '9 Bob Simson 58.21$ instruments',\n",
        "  '10 Maria Simson 20.61$ accessories',\n",
        "  '11 Aleksa 37.74$ drinks',\n",
        "  '12 Mary 12.32$ drinks',\n",
        "  '13 Maria Simson 32.11$ toys',\n",
        "  '14 Maria Simson 94.73$ instruments',\n",
        "  '15 Mary 52.48$ clothes',\n",
        "  '16 Maria Simson 87.64$ drinks',\n",
        "  '17 Jack 70.86$ clothes',\n",
        "  '18 Bob Simson 134.5$ drinks',\n",
        "  '19 Jack 4.23$ instruments',\n",
        "  '20 Jack 62.59$ food',\n",
        "]"
      ],
      "metadata": {
        "id": "_XSVZF2mncRR"
      },
      "execution_count": 50,
      "outputs": []
    },
    {
      "cell_type": "markdown",
      "source": [
        "1. Какая общая сумма расходов по каждой категории товаров?\n",
        "2. Сколько денег потратил каждый член семьи?\n",
        "3. Какое количество покупок и на какую общую сумму сделал введенный пользователем через input член семьи?"
      ],
      "metadata": {
        "id": "zlZGInkon2RU"
      }
    },
    {
      "cell_type": "code",
      "source": [
        "from collections import defaultdict\n",
        "\n",
        "def data_preprocess(data):\n",
        "  res = []\n",
        "  for item in data:\n",
        "    _, *name, money, category = item.split()\n",
        "    name = ' '.join(name)\n",
        "    money = float(money.strip('$'))\n",
        "    res.append((name, money, category))\n",
        "  return res\n",
        "\n",
        "\n",
        "def get_total_expenses_by_category(data):\n",
        "  res = defaultdict(float)\n",
        "  for _, money, category in data:\n",
        "    res[category] += money\n",
        "  return res\n",
        "\n",
        "\n",
        "def get_total_expenses_by_person(data):\n",
        "  res = defaultdict(float)\n",
        "  for name, money, _ in data:\n",
        "    res[name] += money\n",
        "  return res\n",
        "\n",
        "def get_total_expenses_by_person_by_category(data, user_name):\n",
        "  res = defaultdict(float)\n",
        "  for name, money, category in data:\n",
        "    if name == user_name:\n",
        "      res[category] += money\n",
        "  return res\n",
        "\n",
        "\n",
        "data = data_preprocess(data)\n",
        "res1 = get_total_expenses_by_category(data)\n",
        "print(*res1.items(), sep='\\n')\n",
        "\n",
        "print('*' * 50)\n",
        "\n",
        "res2 = get_total_expenses_by_person(data)\n",
        "print(*res2.items(), sep='\\n')\n",
        "\n",
        "print('*' * 50)\n",
        "\n",
        "user_name = input('Enter user name: ')\n",
        "res3 = get_total_expenses_by_person_by_category(data, user_name)\n",
        "print(*res3.items(), sep='\\n')"
      ],
      "metadata": {
        "colab": {
          "base_uri": "https://localhost:8080/"
        },
        "id": "d6KAjd2fqojs",
        "outputId": "5c4275df-2630-4487-9cfa-b516c4cf799e"
      },
      "execution_count": 51,
      "outputs": [
        {
          "output_type": "stream",
          "name": "stdout",
          "text": [
            "('decorations', 19.58)\n",
            "('food', 213.77)\n",
            "('toys', 131.01999999999998)\n",
            "('drinks', 428.37)\n",
            "('accessories', 140.92000000000002)\n",
            "('instruments', 157.17)\n",
            "('clothes', 123.34)\n",
            "**************************************************\n",
            "('Bob Simson', 296.16999999999996)\n",
            "('Mary', 250.31)\n",
            "('Aleksa', 210.44)\n",
            "('Maria Simson', 319.57)\n",
            "('Jack', 137.68)\n",
            "**************************************************\n",
            "Enter user name: Mary\n",
            "('food', 66.7)\n",
            "('toys', 98.91)\n",
            "('accessories', 19.9)\n",
            "('drinks', 12.32)\n",
            "('clothes', 52.48)\n"
          ]
        }
      ]
    },
    {
      "cell_type": "code",
      "source": [
        "def filter_even(numbers):\n",
        "  res = []\n",
        "  for item in numbers:\n",
        "    if item % 2 == 0:\n",
        "      res.append(item)\n",
        "  return res\n",
        "\n",
        "def filter_positive(numbers):\n",
        "  res = []\n",
        "  for item in numbers:\n",
        "    if item > 0:\n",
        "      res.append(item)\n",
        "  return res\n",
        "\n",
        "\n",
        "def filter_negative(numbers):\n",
        "  res = []\n",
        "  for item in numbers:\n",
        "    if item < 0:\n",
        "      res.append(item)\n",
        "  return res\n"
      ],
      "metadata": {
        "id": "RM8rnm-9s3YW"
      },
      "execution_count": 56,
      "outputs": []
    },
    {
      "cell_type": "code",
      "source": [
        "numbers = [1, 2, 3, 4, 5, 6, 7, 8, 9, 10, -50, -100, -23]\n",
        "print(filter_even(numbers))\n",
        "print(filter_positive(numbers))\n",
        "print(filter_negative(numbers))"
      ],
      "metadata": {
        "colab": {
          "base_uri": "https://localhost:8080/"
        },
        "id": "f1ZqlSy2uWTy",
        "outputId": "2f587064-25d7-4896-d1bb-bed24f417ac6"
      },
      "execution_count": 57,
      "outputs": [
        {
          "output_type": "stream",
          "name": "stdout",
          "text": [
            "[2, 4, 6, 8, 10, -50, -100]\n",
            "[1, 2, 3, 4, 5, 6, 7, 8, 9, 10]\n",
            "[-50, -100, -23]\n"
          ]
        }
      ]
    },
    {
      "cell_type": "code",
      "source": [
        "def is_odd(item):   # lambda item: item % 2\n",
        "  return item % 2\n",
        "\n",
        "def is_positive(item):\n",
        "  return item > 0\n",
        "\n",
        "def is_negative(item):\n",
        "  return item < 0\n",
        "\n",
        "\n",
        "def filter(numbers, func):\n",
        "  res = []\n",
        "  for item in numbers:\n",
        "    if func(item):\n",
        "      res.append(item)\n",
        "  return res\n",
        "\n",
        "\n",
        "\n",
        "numbers = [1, 2, 3, 4, 5, 6, 7, 8, 9, 10, -50, -100, -23]\n",
        "print(filter(numbers, is_odd))\n",
        "print(filter(numbers, is_positive))\n",
        "print(filter(numbers, is_negative))"
      ],
      "metadata": {
        "colab": {
          "base_uri": "https://localhost:8080/"
        },
        "id": "dHaSbQ2KvMl6",
        "outputId": "2efb3fd4-6b51-451d-d286-19eee458bce9"
      },
      "execution_count": 60,
      "outputs": [
        {
          "output_type": "stream",
          "name": "stdout",
          "text": [
            "[1, 3, 5, 7, 9, -23]\n",
            "[1, 2, 3, 4, 5, 6, 7, 8, 9, 10]\n",
            "[-50, -100, -23]\n"
          ]
        }
      ]
    },
    {
      "cell_type": "code",
      "source": [
        "def filter(numbers, func):\n",
        "  res = []\n",
        "  for item in numbers:\n",
        "    if func(item):\n",
        "      res.append(item)\n",
        "  return res\n",
        "\n",
        "\n",
        "\n",
        "numbers = [1, 2, 3, 4, 5, 6, 7, 8, 9, 10, -50, -100, -23]\n",
        "print(filter(numbers, lambda item: item > 0))\n",
        "print(filter(numbers, lambda item: item < 0))\n",
        "print(filter(numbers, lambda item: item % 2))"
      ],
      "metadata": {
        "colab": {
          "base_uri": "https://localhost:8080/"
        },
        "id": "QtDIwg6FwMfd",
        "outputId": "3e04cf2d-ff9d-4ed2-ab6c-b7e12f54f5fa"
      },
      "execution_count": 61,
      "outputs": [
        {
          "output_type": "stream",
          "name": "stdout",
          "text": [
            "[1, 2, 3, 4, 5, 6, 7, 8, 9, 10]\n",
            "[-50, -100, -23]\n",
            "[1, 3, 5, 7, 9, -23]\n"
          ]
        }
      ]
    },
    {
      "cell_type": "code",
      "source": [
        "x = ['ferfrefr', 'de3d3ed', 'ed3ede3d', '2e324eqwdqwd', 'fgfgfffaaaaaaaaaaaa', 'jjjjjjjjjjjjjjjjjjjjjjjjjjjjjjjjj']\n",
        "\n",
        "max(x, key=lambda item: item.count('a'))"
      ],
      "metadata": {
        "colab": {
          "base_uri": "https://localhost:8080/",
          "height": 35
        },
        "id": "-lpro3SBwZ0K",
        "outputId": "e971fc62-7434-42bb-c8de-22649696cdfa"
      },
      "execution_count": 62,
      "outputs": [
        {
          "output_type": "execute_result",
          "data": {
            "text/plain": [
              "'fgfgfffaaaaaaaaaaaa'"
            ],
            "application/vnd.google.colaboratory.intrinsic+json": {
              "type": "string"
            }
          },
          "metadata": {},
          "execution_count": 62
        }
      ]
    }
  ]
}