{
  "nbformat": 4,
  "nbformat_minor": 0,
  "metadata": {
    "colab": {
      "provenance": [],
      "authorship_tag": "ABX9TyOngJE5F8fG6NxX7Lt/WCdM",
      "include_colab_link": true
    },
    "kernelspec": {
      "name": "python3",
      "display_name": "Python 3"
    },
    "language_info": {
      "name": "python"
    }
  },
  "cells": [
    {
      "cell_type": "markdown",
      "metadata": {
        "id": "view-in-github",
        "colab_type": "text"
      },
      "source": [
        "<a href=\"https://colab.research.google.com/github/cpython-projects/da_1709/blob/main/lesson_03_hw.ipynb\" target=\"_parent\"><img src=\"https://colab.research.google.com/assets/colab-badge.svg\" alt=\"Open In Colab\"/></a>"
      ]
    },
    {
      "cell_type": "markdown",
      "source": [
        "**Task 1.** Напишите скрипт, который проверяет, делится ли целое число на 5 без остатка. Число вводит пользователь."
      ],
      "metadata": {
        "id": "vPynSX9t9orE"
      }
    },
    {
      "cell_type": "code",
      "source": [
        "x = int(input('x>>'))\n",
        "\n",
        "if x % 5:\n",
        "    print('не делится')\n",
        "else:\n",
        "    print('делится')"
      ],
      "metadata": {
        "id": "7VpPcm_5a-3m",
        "outputId": "b519d07f-d4cf-4d30-f8c6-f4f8b08ba887",
        "colab": {
          "base_uri": "https://localhost:8080/"
        }
      },
      "execution_count": 3,
      "outputs": [
        {
          "output_type": "stream",
          "name": "stdout",
          "text": [
            "x>>4\n",
            "не делится\n"
          ]
        }
      ]
    },
    {
      "cell_type": "markdown",
      "source": [
        "**Task 2.** Напишите программу, которая определяет, принадлежит ли число диапазону от 1 до 10."
      ],
      "metadata": {
        "id": "NyvJpfws-era"
      }
    },
    {
      "cell_type": "code",
      "source": [
        "x = int(input('x>>'))\n",
        "\n",
        "res = 'Yes' if 1 <= x <= 10 else 'No'\n",
        "print(res)"
      ],
      "metadata": {
        "id": "EZd5u_BZa_lR",
        "outputId": "68a122e3-3ccb-4406-e86b-51a75eb6108b",
        "colab": {
          "base_uri": "https://localhost:8080/"
        }
      },
      "execution_count": 4,
      "outputs": [
        {
          "output_type": "stream",
          "name": "stdout",
          "text": [
            "x>>4\n",
            "Yes\n"
          ]
        }
      ]
    },
    {
      "cell_type": "markdown",
      "source": [
        "**Task 3.** Напишите программу, которая проверяет, заканчивается ли число на цифру 9."
      ],
      "metadata": {
        "id": "0WK9OVgT-h0t"
      }
    },
    {
      "cell_type": "code",
      "source": [
        "x = int(input('x>>'))\n",
        "\n",
        "res = 'Yes' if x % 10 == 9 else 'No'\n",
        "print(res)"
      ],
      "metadata": {
        "id": "77pTIGtbbAA4"
      },
      "execution_count": null,
      "outputs": []
    },
    {
      "cell_type": "markdown",
      "source": [
        "**Task 4.** Напишите программу, которая проверяет, является ли первое введенное число делителем второго."
      ],
      "metadata": {
        "id": "94xaIDec-j9T"
      }
    },
    {
      "cell_type": "code",
      "source": [
        "a, b = int(input('a>>')), int(input('b>>'))\n",
        "\n",
        "res = 'No' if b % a else 'Yes'\n",
        "print(res)"
      ],
      "metadata": {
        "id": "Sa23O9FRbAc8"
      },
      "execution_count": null,
      "outputs": []
    },
    {
      "cell_type": "markdown",
      "source": [
        "\n",
        "**Task 5.** Напишите программу, которая проверяет, является ли вводимое пользователем число трёхзначным."
      ],
      "metadata": {
        "id": "GDsmfnPx-mjb"
      }
    },
    {
      "cell_type": "code",
      "source": [
        "x = int(input('x>>'))\n",
        "\n",
        "res = 'Yes' if 100 <= x < 1000 else 'No'\n",
        "print(res)"
      ],
      "metadata": {
        "id": "BS_VbObhbA4K"
      },
      "execution_count": null,
      "outputs": []
    },
    {
      "cell_type": "markdown",
      "source": [
        "**Task 6.** Напишите программу, которая принимает сумму покупки и применяет скидку: 10%, если сумма больше 1000, и 5%, если сумма больше 500. Выведите итоговую сумму."
      ],
      "metadata": {
        "id": "Izj1jz4J-oPN"
      }
    },
    {
      "cell_type": "code",
      "source": [
        "amount = int(input('amount>>'))\n",
        "\n",
        "if amount > 1000:\n",
        "    discount = 0.1\n",
        "elif amount > 500:\n",
        "    discount = 0.05\n",
        "else:\n",
        "    discount = 0\n",
        "\n",
        "print(amount * (1 - discount))"
      ],
      "metadata": {
        "id": "dbfESgc4bCEb",
        "outputId": "469998f9-1ab3-45a7-9551-38904e17b14a",
        "colab": {
          "base_uri": "https://localhost:8080/"
        }
      },
      "execution_count": 6,
      "outputs": [
        {
          "output_type": "stream",
          "name": "stdout",
          "text": [
            "amount>>100\n",
            "100\n"
          ]
        }
      ]
    },
    {
      "cell_type": "markdown",
      "source": [
        "**Task 7.** Напишите программу, которая принимает три числа и проверяет, могут ли они быть членами арифметической прогрессии. Выведите \"Да\" или \"Нет\"."
      ],
      "metadata": {
        "id": "kGBE425J-qVj"
      }
    },
    {
      "cell_type": "code",
      "source": [
        "x1, x2, x3 = int(input('x1>>')), int(input('x2>>')), int(input('x3>>'))\n",
        "\n",
        "# ai = ai-1 + d\n",
        "\n",
        "d = x2 - x1\n",
        "\n",
        "\n",
        "if x3 - x2 == d:\n",
        "    print('Yes')\n",
        "else:\n",
        "    print('No')"
      ],
      "metadata": {
        "id": "sllnJV8ibCjy",
        "outputId": "a491b388-cab3-449e-962d-a9fb7882df63",
        "colab": {
          "base_uri": "https://localhost:8080/"
        }
      },
      "execution_count": 8,
      "outputs": [
        {
          "output_type": "stream",
          "name": "stdout",
          "text": [
            "x1>>2\n",
            "x2>>4\n",
            "x3>>7\n",
            "No\n"
          ]
        }
      ]
    },
    {
      "cell_type": "markdown",
      "source": [
        "**Task 8.** Напишите программу, которая принимает час (от 0 до 23) и выводит, утро это (6-12), день (12-18), вечер (18-24) или ночь (0-6)."
      ],
      "metadata": {
        "id": "DPcaWHxJ-tso"
      }
    },
    {
      "cell_type": "code",
      "source": [
        "hours = int(input('hours>>'))\n",
        "\n",
        "if hours < 0 or hours > 23:\n",
        "    print('error')\n",
        "elif hours < 6:\n",
        "    print('night')\n",
        "elif hours < 12:\n",
        "    print('morning')\n",
        "elif hours < 18:\n",
        "    print('day')\n",
        "else:\n",
        "    print('evening')"
      ],
      "metadata": {
        "id": "_vkxegsCbEzW"
      },
      "execution_count": null,
      "outputs": []
    },
    {
      "cell_type": "markdown",
      "source": [
        "**Task 9.** Пользователь вводит три числа (доход, расходы, желаемая сумма кредита). Определите, сможет ли человек выплатить кредит за N месяцев."
      ],
      "metadata": {
        "id": "e6HJ-q7k-vsl"
      }
    },
    {
      "cell_type": "code",
      "source": [
        "import math\n",
        "\n",
        "credit = float(input('credit>>'))\n",
        "income = float(input('income>>'))\n",
        "expenses = float(input('expenses>>'))\n",
        "n_months = int(input('n_months>>'))\n",
        "\n",
        "\n",
        "res = credit / (income - expenses)\n",
        "res = math.ceil(res)\n",
        "\n",
        "print(f'{res // 12} years and {res % 12} months')\n",
        "\n"
      ],
      "metadata": {
        "id": "Lr4uW-G5bFg0",
        "outputId": "4e045ee2-9617-462e-ad1a-c26eacf6321c",
        "colab": {
          "base_uri": "https://localhost:8080/"
        }
      },
      "execution_count": 11,
      "outputs": [
        {
          "output_type": "stream",
          "name": "stdout",
          "text": [
            "credit>>7000\n",
            "income>>1000\n",
            "expenses>>800\n",
            "n_months>>12\n",
            "2 years and 11 months\n"
          ]
        }
      ]
    },
    {
      "cell_type": "markdown",
      "source": [
        "**Task 10.** Пользователь вводит два числа (цена товара и процент скидки). Вычислите сумму к оплате."
      ],
      "metadata": {
        "id": "hS0Cf-7J-yzG"
      }
    },
    {
      "cell_type": "code",
      "source": [
        "price = float(input('price>>'))\n",
        "discount = float(input('discount>>')) # 0 - 100\n",
        "\n",
        "if discount < 0 or discount > 100: # not 0 <= discount <= 100\n",
        "    print('error')\n",
        "else:\n",
        "  print(price * (1 - discount / 100))"
      ],
      "metadata": {
        "id": "GCfHqE15bF34"
      },
      "execution_count": null,
      "outputs": []
    },
    {
      "cell_type": "markdown",
      "source": [
        "**Task 11.** Пользователь вводит два числа (масса и рост). Рассчитайте индекс массы тела (ИМТ) и определите категорию (норма, избыточный вес и т. д.)."
      ],
      "metadata": {
        "id": "8I0OvdkB-1dP"
      }
    },
    {
      "cell_type": "code",
      "source": [
        "weight = int(input('weight>>'))\n",
        "height = float(input('height>>'))\n",
        "\n",
        "bmi = weight / (height ** 2)\n",
        "\n",
        "if bmi < 18.5:\n",
        "    print('underweight')\n",
        "elif bmi < 25:\n",
        "    print('normal')\n",
        "elif bmi < 30:\n",
        "    print('overweight')\n",
        "else:\n",
        "    print('obese')"
      ],
      "metadata": {
        "id": "OM_R_MQia9rG"
      },
      "execution_count": null,
      "outputs": []
    },
    {
      "cell_type": "markdown",
      "source": [
        "**Task 12.** Пользователь вводит три числа (день, месяц, год). Определите, является ли введенная дата корректной."
      ],
      "metadata": {
        "id": "LkEPYVch-4Di"
      }
    },
    {
      "cell_type": "code",
      "source": [
        "import datetime\n",
        "\n",
        "year, month, day = int(input('year>>')), int(input('month>>')), int(input('day>>'))\n",
        "\n",
        "res = datetime.datetime(year, month, day)"
      ],
      "metadata": {
        "id": "sgZRZ0kCa9cQ",
        "outputId": "a52eca27-6ab1-4bfa-9f1d-def629a4d561",
        "colab": {
          "base_uri": "https://localhost:8080/"
        }
      },
      "execution_count": 13,
      "outputs": [
        {
          "name": "stdout",
          "output_type": "stream",
          "text": [
            "year>>2025\n",
            "month>>09\n",
            "day>>29\n"
          ]
        }
      ]
    },
    {
      "cell_type": "code",
      "source": [
        "res.strftime('%Y/%m/%d')"
      ],
      "metadata": {
        "id": "8WaRidH0UYl3",
        "outputId": "2adb4e1f-fbff-412b-a422-3ec521b8749b",
        "colab": {
          "base_uri": "https://localhost:8080/",
          "height": 36
        }
      },
      "execution_count": 16,
      "outputs": [
        {
          "output_type": "execute_result",
          "data": {
            "text/plain": [
              "'2025/09/29'"
            ],
            "application/vnd.google.colaboratory.intrinsic+json": {
              "type": "string"
            }
          },
          "metadata": {},
          "execution_count": 16
        }
      ]
    }
  ]
}