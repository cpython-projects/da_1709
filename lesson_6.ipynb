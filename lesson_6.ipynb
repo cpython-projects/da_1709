{
  "nbformat": 4,
  "nbformat_minor": 0,
  "metadata": {
    "colab": {
      "provenance": [],
      "authorship_tag": "ABX9TyMp5kXx6VGzuaSqKZnwE42d",
      "include_colab_link": true
    },
    "kernelspec": {
      "name": "python3",
      "display_name": "Python 3"
    },
    "language_info": {
      "name": "python"
    }
  },
  "cells": [
    {
      "cell_type": "markdown",
      "metadata": {
        "id": "view-in-github",
        "colab_type": "text"
      },
      "source": [
        "<a href=\"https://colab.research.google.com/github/cpython-projects/da_1709/blob/main/lesson_6.ipynb\" target=\"_parent\"><img src=\"https://colab.research.google.com/assets/colab-badge.svg\" alt=\"Open In Colab\"/></a>"
      ]
    },
    {
      "cell_type": "code",
      "execution_count": null,
      "metadata": {
        "id": "cxoe0jTmcj0Q"
      },
      "outputs": [],
      "source": [
        "text = 'Hello'\n",
        "print(text)\n",
        "text = \"Hello\"\n",
        "print(text)"
      ]
    },
    {
      "cell_type": "markdown",
      "source": [
        "# Return the sum of two numbers.\n",
        "# param a: The first number.\n",
        "# param b: The second number.\n",
        "# return: The sum of the two numbers."
      ],
      "metadata": {
        "id": "1YbFkEurdp_y"
      }
    },
    {
      "cell_type": "code",
      "source": [
        "text = \"\"\"\n",
        "Hello,\n",
        "world!\n",
        "\"\"\""
      ],
      "metadata": {
        "id": "9r8JjuyMczRS"
      },
      "execution_count": null,
      "outputs": []
    },
    {
      "cell_type": "code",
      "source": [
        "def add(a, b):\n",
        "  \"\"\"\n",
        "  Return the sum of two numbers.\n",
        "  :param a: The first number.\n",
        "  :param b: The second number.\n",
        "  :return: The sum of the two numbers.\n",
        "  \"\"\"\n",
        "  return a + b"
      ],
      "metadata": {
        "id": "qKwvgKD7dIaM"
      },
      "execution_count": 1,
      "outputs": []
    },
    {
      "cell_type": "code",
      "source": [
        "help(add)"
      ],
      "metadata": {
        "colab": {
          "base_uri": "https://localhost:8080/"
        },
        "id": "FVs7uodEdW-g",
        "outputId": "904002f9-2adf-49e1-d5c5-053a74638abc"
      },
      "execution_count": 2,
      "outputs": [
        {
          "output_type": "stream",
          "name": "stdout",
          "text": [
            "Help on function add in module __main__:\n",
            "\n",
            "add(a, b)\n",
            "    Return the sum of two numbers.\n",
            "    :param a: The first number.\n",
            "    :param b: The second number.\n",
            "    :return: The sum of the two numbers.\n",
            "\n"
          ]
        }
      ]
    },
    {
      "cell_type": "code",
      "source": [
        "x = 'Hello'\n",
        "y = 'world'\n",
        "\n",
        "res = x + y\n",
        "\n",
        "print(res)"
      ],
      "metadata": {
        "colab": {
          "base_uri": "https://localhost:8080/"
        },
        "id": "QV4UDGRLdvDE",
        "outputId": "419a0573-0652-4ce6-c086-ea1ba0ca1855"
      },
      "execution_count": 3,
      "outputs": [
        {
          "output_type": "stream",
          "name": "stdout",
          "text": [
            "Helloworld\n"
          ]
        }
      ]
    },
    {
      "cell_type": "code",
      "source": [
        "x * 5"
      ],
      "metadata": {
        "colab": {
          "base_uri": "https://localhost:8080/",
          "height": 35
        },
        "id": "ww6HXYOgeBG-",
        "outputId": "2697d7d9-95a1-4d89-c6a5-96bfed832b7a"
      },
      "execution_count": 4,
      "outputs": [
        {
          "output_type": "execute_result",
          "data": {
            "text/plain": [
              "'HelloHelloHelloHelloHello'"
            ],
            "application/vnd.google.colaboratory.intrinsic+json": {
              "type": "string"
            }
          },
          "metadata": {},
          "execution_count": 4
        }
      ]
    },
    {
      "cell_type": "code",
      "source": [
        "x = [[1, 2, 3]] * 5\n",
        "\n",
        "x"
      ],
      "metadata": {
        "colab": {
          "base_uri": "https://localhost:8080/"
        },
        "id": "LYPB03gUeJiP",
        "outputId": "fbac6d23-2d51-4200-fe9b-3ee2d5b2a7cc"
      },
      "execution_count": 5,
      "outputs": [
        {
          "output_type": "execute_result",
          "data": {
            "text/plain": [
              "[[1, 2, 3], [1, 2, 3], [1, 2, 3], [1, 2, 3], [1, 2, 3]]"
            ]
          },
          "metadata": {},
          "execution_count": 5
        }
      ]
    },
    {
      "cell_type": "code",
      "source": [
        "x[0][0] = 100"
      ],
      "metadata": {
        "id": "XEuMVhkEeoFc"
      },
      "execution_count": 6,
      "outputs": []
    },
    {
      "cell_type": "code",
      "source": [
        "x"
      ],
      "metadata": {
        "colab": {
          "base_uri": "https://localhost:8080/"
        },
        "id": "TNK-FlZ0eyeg",
        "outputId": "ee30baba-7c9a-4fd2-cd30-5284e3b11fbc"
      },
      "execution_count": 7,
      "outputs": [
        {
          "output_type": "execute_result",
          "data": {
            "text/plain": [
              "[[100, 2, 3], [100, 2, 3], [100, 2, 3], [100, 2, 3], [100, 2, 3]]"
            ]
          },
          "metadata": {},
          "execution_count": 7
        }
      ]
    },
    {
      "cell_type": "code",
      "source": [
        "x = 'Hello'\n",
        "\n",
        "'ll' not in x"
      ],
      "metadata": {
        "colab": {
          "base_uri": "https://localhost:8080/"
        },
        "id": "OYj86rGJfS9i",
        "outputId": "009f7e9f-f248-47e6-b512-b5ad7076be35"
      },
      "execution_count": 11,
      "outputs": [
        {
          "output_type": "execute_result",
          "data": {
            "text/plain": [
              "False"
            ]
          },
          "metadata": {},
          "execution_count": 11
        }
      ]
    },
    {
      "cell_type": "code",
      "source": [
        "x[0]"
      ],
      "metadata": {
        "colab": {
          "base_uri": "https://localhost:8080/",
          "height": 35
        },
        "id": "7EP5lRn1fgR3",
        "outputId": "5abb3053-6fd5-452e-d27a-98e70cbcb2e3"
      },
      "execution_count": 12,
      "outputs": [
        {
          "output_type": "execute_result",
          "data": {
            "text/plain": [
              "'H'"
            ],
            "application/vnd.google.colaboratory.intrinsic+json": {
              "type": "string"
            }
          },
          "metadata": {},
          "execution_count": 12
        }
      ]
    },
    {
      "cell_type": "code",
      "source": [
        "x[0] = 'h'"
      ],
      "metadata": {
        "colab": {
          "base_uri": "https://localhost:8080/",
          "height": 141
        },
        "id": "i1bXX6Mqfj_a",
        "outputId": "360944d3-c6c9-4c33-9e66-8d1beec88f24"
      },
      "execution_count": 13,
      "outputs": [
        {
          "output_type": "error",
          "ename": "TypeError",
          "evalue": "'str' object does not support item assignment",
          "traceback": [
            "\u001b[0;31m---------------------------------------------------------------------------\u001b[0m",
            "\u001b[0;31mTypeError\u001b[0m                                 Traceback (most recent call last)",
            "\u001b[0;32m/tmp/ipython-input-1009147793.py\u001b[0m in \u001b[0;36m<cell line: 0>\u001b[0;34m()\u001b[0m\n\u001b[0;32m----> 1\u001b[0;31m \u001b[0mx\u001b[0m\u001b[0;34m[\u001b[0m\u001b[0;36m0\u001b[0m\u001b[0;34m]\u001b[0m \u001b[0;34m=\u001b[0m \u001b[0;34m'h'\u001b[0m\u001b[0;34m\u001b[0m\u001b[0;34m\u001b[0m\u001b[0m\n\u001b[0m",
            "\u001b[0;31mTypeError\u001b[0m: 'str' object does not support item assignment"
          ]
        }
      ]
    },
    {
      "cell_type": "code",
      "source": [
        "x = 'Hello, world! Python is awesome'\n",
        "\n",
        "y = x[1:-1]\n",
        "\n",
        "print(x)\n",
        "print(y)"
      ],
      "metadata": {
        "colab": {
          "base_uri": "https://localhost:8080/"
        },
        "id": "SJdsFPpIftRA",
        "outputId": "4dd062ad-8697-41c9-8fc6-7017d4c1f289"
      },
      "execution_count": 18,
      "outputs": [
        {
          "output_type": "stream",
          "name": "stdout",
          "text": [
            "Hello, world! Python is awesome\n",
            "ello, world! Python is awesom\n"
          ]
        }
      ]
    },
    {
      "cell_type": "code",
      "source": [
        "x = 'Hello       world'\n",
        "\n",
        "x = x.replace('  ', '*')\n",
        "x"
      ],
      "metadata": {
        "colab": {
          "base_uri": "https://localhost:8080/",
          "height": 35
        },
        "id": "yUZlqUBMgOOO",
        "outputId": "23c4db70-5093-4957-d78c-2a24ec97ed45"
      },
      "execution_count": 22,
      "outputs": [
        {
          "output_type": "execute_result",
          "data": {
            "text/plain": [
              "'Hello*** world'"
            ],
            "application/vnd.google.colaboratory.intrinsic+json": {
              "type": "string"
            }
          },
          "metadata": {},
          "execution_count": 22
        }
      ]
    },
    {
      "cell_type": "code",
      "source": [
        "x = ' Oleh  '"
      ],
      "metadata": {
        "id": "CYl4xH9xhGem"
      },
      "execution_count": 24,
      "outputs": []
    },
    {
      "cell_type": "code",
      "source": [
        "x.lstrip()"
      ],
      "metadata": {
        "colab": {
          "base_uri": "https://localhost:8080/",
          "height": 35
        },
        "id": "0Teh9FSehhNo",
        "outputId": "11fea528-c4d3-4b47-b320-fdcb0ece1277"
      },
      "execution_count": 25,
      "outputs": [
        {
          "output_type": "execute_result",
          "data": {
            "text/plain": [
              "'Oleh  '"
            ],
            "application/vnd.google.colaboratory.intrinsic+json": {
              "type": "string"
            }
          },
          "metadata": {},
          "execution_count": 25
        }
      ]
    },
    {
      "cell_type": "code",
      "source": [
        "x.rstrip()"
      ],
      "metadata": {
        "colab": {
          "base_uri": "https://localhost:8080/",
          "height": 35
        },
        "id": "zDT4p8d1hpEZ",
        "outputId": "7394d996-a57d-4977-f71e-b82c93ac9bf3"
      },
      "execution_count": 27,
      "outputs": [
        {
          "output_type": "execute_result",
          "data": {
            "text/plain": [
              "' Oleh'"
            ],
            "application/vnd.google.colaboratory.intrinsic+json": {
              "type": "string"
            }
          },
          "metadata": {},
          "execution_count": 27
        }
      ]
    },
    {
      "cell_type": "code",
      "source": [
        "x.strip()"
      ],
      "metadata": {
        "colab": {
          "base_uri": "https://localhost:8080/",
          "height": 35
        },
        "id": "6hgomU7whvHL",
        "outputId": "a295ca33-94b0-4438-bfe3-cd69fab0f645"
      },
      "execution_count": 28,
      "outputs": [
        {
          "output_type": "execute_result",
          "data": {
            "text/plain": [
              "'Oleh'"
            ],
            "application/vnd.google.colaboratory.intrinsic+json": {
              "type": "string"
            }
          },
          "metadata": {},
          "execution_count": 28
        }
      ]
    },
    {
      "cell_type": "code",
      "source": [
        "x = ['Kyiv', 'kyiv', 'KYIV']"
      ],
      "metadata": {
        "id": "J2nuNEoChyhB"
      },
      "execution_count": 32,
      "outputs": []
    },
    {
      "cell_type": "code",
      "source": [
        "ord('K'), ord('k')"
      ],
      "metadata": {
        "colab": {
          "base_uri": "https://localhost:8080/"
        },
        "id": "bcthjeiph_gw",
        "outputId": "46e98a27-fee1-4b77-c09e-bc3abd7beba9"
      },
      "execution_count": 30,
      "outputs": [
        {
          "output_type": "execute_result",
          "data": {
            "text/plain": [
              "(75, 107)"
            ]
          },
          "metadata": {},
          "execution_count": 30
        }
      ]
    },
    {
      "cell_type": "code",
      "source": [
        "for i, item in enumerate(x):\n",
        "  x[i] = item.title()\n",
        "\n",
        "x"
      ],
      "metadata": {
        "colab": {
          "base_uri": "https://localhost:8080/"
        },
        "id": "Rsf5CbAjiUHT",
        "outputId": "25695fba-4c51-41bb-d01a-c35d385ca396"
      },
      "execution_count": 35,
      "outputs": [
        {
          "output_type": "execute_result",
          "data": {
            "text/plain": [
              "['Kyiv', 'Kyiv', 'Kyiv']"
            ]
          },
          "metadata": {},
          "execution_count": 35
        }
      ]
    },
    {
      "cell_type": "code",
      "source": [
        "text = input('text>>')"
      ],
      "metadata": {
        "colab": {
          "base_uri": "https://localhost:8080/"
        },
        "id": "B6ognbCvipTg",
        "outputId": "1c19bf56-eaba-4c75-a978-59a0592a6659"
      },
      "execution_count": 36,
      "outputs": [
        {
          "name": "stdout",
          "output_type": "stream",
          "text": [
            "text>>Hello                 world!     Python                 is GOOD    !\n"
          ]
        }
      ]
    },
    {
      "cell_type": "code",
      "source": [
        "while '  ' in text:\n",
        "    text = text.replace('  ', ' ')\n",
        "\n",
        "print(text)"
      ],
      "metadata": {
        "colab": {
          "base_uri": "https://localhost:8080/"
        },
        "id": "BVx0UVrdjvUb",
        "outputId": "66369d36-41ab-4e20-d3b9-4ff5ea4e8e2d"
      },
      "execution_count": 37,
      "outputs": [
        {
          "output_type": "stream",
          "name": "stdout",
          "text": [
            "Hello world! Python is GOOD !\n"
          ]
        }
      ]
    },
    {
      "cell_type": "code",
      "source": [
        "x = 'Hello world!         Python\\tis'\n",
        "\n",
        "res = x.split(' ')\n",
        "\n",
        "print(res)"
      ],
      "metadata": {
        "colab": {
          "base_uri": "https://localhost:8080/"
        },
        "id": "oLnKAFMFkbqO",
        "outputId": "ae1e1894-6e72-4a83-ba34-c65d97f4fcba"
      },
      "execution_count": 41,
      "outputs": [
        {
          "output_type": "stream",
          "name": "stdout",
          "text": [
            "['Hello', 'world!', '', '', '', '', '', '', '', '', 'Python\\tis']\n"
          ]
        }
      ]
    },
    {
      "cell_type": "code",
      "source": [
        "emails = ['anna@gmail.com', 'bob@example.com', 'elice@yahoo.com', 'user@gmail.com']\n",
        "\n",
        "usernames = []\n",
        "domains = []\n",
        "\n",
        "\n",
        "for item in emails:\n",
        "  x, y = item.split('@')\n",
        "  usernames.append(x)\n",
        "  if y not in domains:\n",
        "    domains.append(y)\n",
        "\n",
        "print(usernames)\n",
        "print(domains)"
      ],
      "metadata": {
        "colab": {
          "base_uri": "https://localhost:8080/"
        },
        "id": "jvmGIiFclu5e",
        "outputId": "5ae2ae2f-dd9e-4eea-af2d-a535299074e6"
      },
      "execution_count": 43,
      "outputs": [
        {
          "output_type": "stream",
          "name": "stdout",
          "text": [
            "['anna', 'bob', 'elice', 'user']\n",
            "['gmail.com', 'example.com', 'yahoo.com']\n"
          ]
        }
      ]
    },
    {
      "cell_type": "code",
      "source": [
        "x = ['one', 'two', 'three']\n",
        "\n",
        "text = ' '.join(x)\n",
        "print(text)"
      ],
      "metadata": {
        "colab": {
          "base_uri": "https://localhost:8080/"
        },
        "id": "L-Imz4kamxRK",
        "outputId": "04c7c3fa-48b8-4a67-90a7-74daf5eedd49"
      },
      "execution_count": 45,
      "outputs": [
        {
          "output_type": "stream",
          "name": "stdout",
          "text": [
            "one two three\n"
          ]
        }
      ]
    },
    {
      "cell_type": "code",
      "source": [
        "text = 'Hello                 world!     Python                 is GOOD    !'\n",
        "\n",
        "text = text.split()\n",
        "print(text)"
      ],
      "metadata": {
        "colab": {
          "base_uri": "https://localhost:8080/"
        },
        "id": "c0e1hReXnuJj",
        "outputId": "d8376619-a385-44b0-eb91-2830a3bf5483"
      },
      "execution_count": 46,
      "outputs": [
        {
          "output_type": "stream",
          "name": "stdout",
          "text": [
            "['Hello', 'world!', 'Python', 'is', 'GOOD', '!']\n"
          ]
        }
      ]
    },
    {
      "cell_type": "code",
      "source": [
        "text = ' '.join(text)\n",
        "print(text)"
      ],
      "metadata": {
        "colab": {
          "base_uri": "https://localhost:8080/"
        },
        "id": "rOVxmOQOn5Kk",
        "outputId": "e0fd4689-f964-4086-ac92-233cb09df0e2"
      },
      "execution_count": 47,
      "outputs": [
        {
          "output_type": "stream",
          "name": "stdout",
          "text": [
            "Hello world! Python is GOOD !\n"
          ]
        }
      ]
    },
    {
      "cell_type": "code",
      "source": [
        "x = 'Hello'\n",
        "\n",
        "if x.startswith('H'):\n",
        "  print('Yes')\n",
        "\n",
        "\n",
        "if x.endswith('o'):\n",
        "  print('Yes')\n",
        "\n"
      ],
      "metadata": {
        "colab": {
          "base_uri": "https://localhost:8080/"
        },
        "id": "JSH6q4UMoDrY",
        "outputId": "78d680cd-6445-48c6-8ada-1ae9865895ec"
      },
      "execution_count": 49,
      "outputs": [
        {
          "output_type": "stream",
          "name": "stdout",
          "text": [
            "Yes\n",
            "Yes\n"
          ]
        }
      ]
    },
    {
      "cell_type": "code",
      "source": [
        "x.count('l')"
      ],
      "metadata": {
        "colab": {
          "base_uri": "https://localhost:8080/"
        },
        "id": "TdzE3MZupH3P",
        "outputId": "0fd14122-e14d-46f6-cef6-5e009c85f3b6"
      },
      "execution_count": 50,
      "outputs": [
        {
          "output_type": "execute_result",
          "data": {
            "text/plain": [
              "2"
            ]
          },
          "metadata": {},
          "execution_count": 50
        }
      ]
    },
    {
      "cell_type": "code",
      "source": [
        "temperatures = ['18C', '20C', '22C', '24C', '23']\n",
        "\n",
        "for i, item in enumerate(temperatures):\n",
        "  item = float(item.replace('C', ''))\n",
        "  temperatures[i] = item\n",
        "\n",
        "print(temperatures)\n"
      ],
      "metadata": {
        "colab": {
          "base_uri": "https://localhost:8080/"
        },
        "id": "fbP245mypN9K",
        "outputId": "fd293d6a-ba5b-48b3-bd61-4efb9328fe96"
      },
      "execution_count": 54,
      "outputs": [
        {
          "output_type": "stream",
          "name": "stdout",
          "text": [
            "[18.0, 20.0, 22.0, 24.0, 23.0]\n"
          ]
        }
      ]
    }
  ]
}