{
  "nbformat": 4,
  "nbformat_minor": 0,
  "metadata": {
    "colab": {
      "provenance": [],
      "authorship_tag": "ABX9TyP2VTFSkPz5XSn7E1Lnla0U",
      "include_colab_link": true
    },
    "kernelspec": {
      "name": "python3",
      "display_name": "Python 3"
    },
    "language_info": {
      "name": "python"
    }
  },
  "cells": [
    {
      "cell_type": "markdown",
      "metadata": {
        "id": "view-in-github",
        "colab_type": "text"
      },
      "source": [
        "<a href=\"https://colab.research.google.com/github/cpython-projects/da_1709/blob/main/lesson_8.ipynb\" target=\"_parent\"><img src=\"https://colab.research.google.com/assets/colab-badge.svg\" alt=\"Open In Colab\"/></a>"
      ]
    },
    {
      "cell_type": "code",
      "execution_count": 1,
      "metadata": {
        "colab": {
          "base_uri": "https://localhost:8080/"
        },
        "id": "fiORuhsucmmR",
        "outputId": "1f9b26ec-9ed3-4515-b93f-eb494a0eaffe"
      },
      "outputs": [
        {
          "output_type": "stream",
          "name": "stdout",
          "text": [
            "{1, 2, 3, 4, 5}\n"
          ]
        }
      ],
      "source": [
        "x = {1, 1, 1, 1, 1, 1, 2, 2, 2, 3, 3, 4, 5}\n",
        "\n",
        "print(x)"
      ]
    },
    {
      "cell_type": "code",
      "source": [
        "x.add('Hello')\n",
        "\n",
        "x"
      ],
      "metadata": {
        "colab": {
          "base_uri": "https://localhost:8080/"
        },
        "id": "fKHGiHogey65",
        "outputId": "741563bc-cb69-4c4c-8b75-bbf2912f9987"
      },
      "execution_count": 2,
      "outputs": [
        {
          "output_type": "execute_result",
          "data": {
            "text/plain": [
              "{1, 2, 3, 4, 5, 'Hello'}"
            ]
          },
          "metadata": {},
          "execution_count": 2
        }
      ]
    },
    {
      "cell_type": "code",
      "source": [
        "len(x)"
      ],
      "metadata": {
        "colab": {
          "base_uri": "https://localhost:8080/"
        },
        "id": "B8YV3nRbe_A8",
        "outputId": "17e81342-df8e-4c59-9144-69f9ce6da0d8"
      },
      "execution_count": 3,
      "outputs": [
        {
          "output_type": "execute_result",
          "data": {
            "text/plain": [
              "6"
            ]
          },
          "metadata": {},
          "execution_count": 3
        }
      ]
    },
    {
      "cell_type": "code",
      "source": [
        "min(x), max(x)"
      ],
      "metadata": {
        "colab": {
          "base_uri": "https://localhost:8080/",
          "height": 141
        },
        "id": "b2nULaTwfBg5",
        "outputId": "566563ca-b083-42e0-efbc-bfef6544e056"
      },
      "execution_count": 4,
      "outputs": [
        {
          "output_type": "error",
          "ename": "TypeError",
          "evalue": "'<' not supported between instances of 'str' and 'int'",
          "traceback": [
            "\u001b[0;31m---------------------------------------------------------------------------\u001b[0m",
            "\u001b[0;31mTypeError\u001b[0m                                 Traceback (most recent call last)",
            "\u001b[0;32m/tmp/ipython-input-2831633005.py\u001b[0m in \u001b[0;36m<cell line: 0>\u001b[0;34m()\u001b[0m\n\u001b[0;32m----> 1\u001b[0;31m \u001b[0mmin\u001b[0m\u001b[0;34m(\u001b[0m\u001b[0mx\u001b[0m\u001b[0;34m)\u001b[0m\u001b[0;34m,\u001b[0m \u001b[0mmax\u001b[0m\u001b[0;34m(\u001b[0m\u001b[0mx\u001b[0m\u001b[0;34m)\u001b[0m\u001b[0;34m\u001b[0m\u001b[0;34m\u001b[0m\u001b[0m\n\u001b[0m",
            "\u001b[0;31mTypeError\u001b[0m: '<' not supported between instances of 'str' and 'int'"
          ]
        }
      ]
    },
    {
      "cell_type": "code",
      "source": [
        "1 in x"
      ],
      "metadata": {
        "colab": {
          "base_uri": "https://localhost:8080/"
        },
        "id": "rFr7mDHzfQZG",
        "outputId": "43336db7-3cf6-447d-eaf3-34f43d62d3ab"
      },
      "execution_count": 6,
      "outputs": [
        {
          "output_type": "execute_result",
          "data": {
            "text/plain": [
              "True"
            ]
          },
          "metadata": {},
          "execution_count": 6
        }
      ]
    },
    {
      "cell_type": "code",
      "source": [
        "1 not in x"
      ],
      "metadata": {
        "colab": {
          "base_uri": "https://localhost:8080/"
        },
        "id": "mvDFLoRFfSX7",
        "outputId": "5aac7acf-12f9-45eb-beaf-5ade9aa3468e"
      },
      "execution_count": 7,
      "outputs": [
        {
          "output_type": "execute_result",
          "data": {
            "text/plain": [
              "False"
            ]
          },
          "metadata": {},
          "execution_count": 7
        }
      ]
    },
    {
      "cell_type": "code",
      "source": [
        "for item in x:\n",
        "  print(item)"
      ],
      "metadata": {
        "colab": {
          "base_uri": "https://localhost:8080/"
        },
        "id": "CbyeN_cHfU0R",
        "outputId": "e0487205-7c4f-4ee9-aa2a-4707391e410d"
      },
      "execution_count": 8,
      "outputs": [
        {
          "output_type": "stream",
          "name": "stdout",
          "text": [
            "1\n",
            "2\n",
            "3\n",
            "4\n",
            "5\n",
            "Hello\n"
          ]
        }
      ]
    },
    {
      "cell_type": "code",
      "source": [
        "a = [12, 23, 23, 1, 2, 1, 45]\n",
        "b = [34, 23, 12, 12, 35, 56]\n",
        "\n",
        "res = []\n",
        "\n",
        "for item_a in a:\n",
        "    if (item_a in b) and (item_a not in res):\n",
        "        res.append(item_a)\n",
        "\n",
        "res"
      ],
      "metadata": {
        "colab": {
          "base_uri": "https://localhost:8080/"
        },
        "id": "jok2f2jggeym",
        "outputId": "4adac034-1af0-4c3a-85e3-9330dc065157"
      },
      "execution_count": 9,
      "outputs": [
        {
          "output_type": "execute_result",
          "data": {
            "text/plain": [
              "[12, 23]"
            ]
          },
          "metadata": {},
          "execution_count": 9
        }
      ]
    },
    {
      "cell_type": "code",
      "source": [
        "a = [12, 23, 23, 1, 2, 1, 45]\n",
        "b = [34, 23, 12, 12, 35, 56]\n",
        "\n",
        "\n",
        "res = set(a) & set(b)\n",
        "print(res)"
      ],
      "metadata": {
        "colab": {
          "base_uri": "https://localhost:8080/"
        },
        "id": "91Ae6gYJhA8s",
        "outputId": "19214b80-a59b-4027-a735-32d8950d26a8"
      },
      "execution_count": 10,
      "outputs": [
        {
          "output_type": "stream",
          "name": "stdout",
          "text": [
            "{12, 23}\n"
          ]
        }
      ]
    },
    {
      "cell_type": "markdown",
      "source": [
        "## **1. Анализ продаж по категориям**\n",
        "\n",
        "**Данные:**\n",
        "\n",
        "```python\n",
        "sales = {\n",
        "    \"Electronics\": [1200, 2300, 3100, 800],\n",
        "    \"Clothing\": [400, 560, 700, 350],\n",
        "    \"Home\": [900, 1200, 1500, 1300]\n",
        "}\n",
        "```\n",
        "\n",
        "**Задача:**\n",
        "Найди категорию с **максимальным средним чеком** (средней продажей).\n",
        "Выведи название категории и среднее значение.\n"
      ],
      "metadata": {
        "id": "xWrChHB-hjpS"
      }
    },
    {
      "cell_type": "code",
      "source": [
        "sales = {\n",
        "    \"Electronics\": [1200, 2300, 3100, 800],\n",
        "    \"Clothing\": [400, 560, 700, 350],\n",
        "    \"Home\": [900, 1200, 1500, 1300]\n",
        "}\n",
        "\n",
        "values = list(sales.values())\n",
        "keys = list(sales.keys())\n",
        "print(values)\n",
        "print(keys)"
      ],
      "metadata": {
        "colab": {
          "base_uri": "https://localhost:8080/"
        },
        "id": "NUR4TOBchoW3",
        "outputId": "4bc25bfb-04c0-4915-e5fb-efb1fd5251fc"
      },
      "execution_count": 19,
      "outputs": [
        {
          "output_type": "stream",
          "name": "stdout",
          "text": [
            "[[1200, 2300, 3100, 800], [400, 560, 700, 350], [900, 1200, 1500, 1300]]\n",
            "['Electronics', 'Clothing', 'Home']\n"
          ]
        }
      ]
    },
    {
      "cell_type": "code",
      "source": [
        "import statistics\n",
        "\n",
        "res_max = list(map(statistics.mean, values))\n",
        "index = res_max.index(max(res_max))"
      ],
      "metadata": {
        "id": "jz1PPCPnicY_"
      },
      "execution_count": 22,
      "outputs": []
    },
    {
      "cell_type": "code",
      "source": [
        "keys[index]"
      ],
      "metadata": {
        "colab": {
          "base_uri": "https://localhost:8080/",
          "height": 35
        },
        "id": "RixdBwl2jHuE",
        "outputId": "5786fea3-60b8-4bc0-c357-337f61b882c0"
      },
      "execution_count": 23,
      "outputs": [
        {
          "output_type": "execute_result",
          "data": {
            "text/plain": [
              "'Electronics'"
            ],
            "application/vnd.google.colaboratory.intrinsic+json": {
              "type": "string"
            }
          },
          "metadata": {},
          "execution_count": 23
        }
      ]
    },
    {
      "cell_type": "markdown",
      "source": [
        "## **2. Подсчет уникальных клиентов**\n",
        "\n",
        "**Данные:**\n",
        "\n",
        "```python\n",
        "clients_jan = {\"A123\", \"B404\", \"C222\", \"D111\", \"E909\"}\n",
        "clients_feb = {\"C222\", \"E909\", \"F300\", \"G777\", \"H555\"}\n",
        "```\n",
        "\n",
        "**Задача:**\n",
        "Найди:\n",
        "\n",
        "1. Сколько **уникальных клиентов** было за два месяца.\n",
        "2. Сколько клиентов совершили **повторную покупку** (в обоих месяцах).\n"
      ],
      "metadata": {
        "id": "cbOy-WtOj4PA"
      }
    },
    {
      "cell_type": "code",
      "source": [
        "clients_jan = {\"A123\", \"B404\", \"C222\", \"D111\", \"E909\"}\n",
        "clients_feb = {\"C222\", \"E909\", \"F300\", \"G777\", \"H555\"}\n",
        "\n",
        "# 1\n",
        "res = clients_feb ^ clients_jan\n",
        "print(res)\n",
        "print(len(res))\n",
        "\n",
        "# 2\n",
        "res = clients_feb & clients_jan\n",
        "print(res)\n",
        "print(len(res))"
      ],
      "metadata": {
        "colab": {
          "base_uri": "https://localhost:8080/"
        },
        "id": "P-Iic6sqj5gj",
        "outputId": "c5b72489-f390-44a6-f294-68fa37accd92"
      },
      "execution_count": 27,
      "outputs": [
        {
          "output_type": "stream",
          "name": "stdout",
          "text": [
            "{'G777', 'A123', 'F300', 'B404', 'D111', 'H555'}\n",
            "6\n",
            "{'E909', 'C222'}\n",
            "2\n"
          ]
        }
      ]
    },
    {
      "cell_type": "markdown",
      "source": [
        "## **5. Анализ цен конкурентов**\n",
        "\n",
        "**Данные:**\n",
        "\n",
        "```python\n",
        "competitors = {\n",
        "    \"StoreA\": {\"milk\": 1.2, \"bread\": 0.8, \"eggs\": 2.1},\n",
        "    \"StoreB\": {\"milk\": 1.1, \"bread\": 0.9, \"eggs\": 2.0},\n",
        "    \"StoreC\": {\"milk\": 1.3, \"bread\": 0.85, \"eggs\": 2.05}\n",
        "}\n",
        "```\n",
        "\n",
        "**Задача:**\n",
        "Для каждого товара найди **среднюю цену по рынку**.\n",
        "Выведи результат в виде словаря:\n",
        "`{\"milk\": ..., \"bread\": ..., \"eggs\": ...}`\n"
      ],
      "metadata": {
        "id": "cBWRcbiqlmhO"
      }
    },
    {
      "cell_type": "code",
      "source": [
        "competitors = {\n",
        "    \"StoreA\": {\"milk\": 1.2, \"bread\": 0.8, \"eggs\": 2.1},\n",
        "    \"StoreB\": {\"milk\": 1.1, \"bread\": 0.9, \"eggs\": 2.0},\n",
        "    \"StoreC\": {\"milk\": 1.3, \"bread\": 0.85, \"eggs\": 2.05}\n",
        "}"
      ],
      "metadata": {
        "id": "Oa5H-nKPkZjw"
      },
      "execution_count": 28,
      "outputs": []
    },
    {
      "cell_type": "code",
      "source": [
        "from collections import defaultdict\n",
        "\n",
        "res = defaultdict(list)\n",
        "\n",
        "for items in competitors.values():\n",
        "  for food, price in items.items():\n",
        "    res[food].append(price)\n",
        "\n",
        "print(*res.items(), sep='\\n')"
      ],
      "metadata": {
        "colab": {
          "base_uri": "https://localhost:8080/"
        },
        "id": "LS8UnaXYmCud",
        "outputId": "deefba44-4748-4e2f-cb8a-fb313eba6e79"
      },
      "execution_count": 33,
      "outputs": [
        {
          "output_type": "stream",
          "name": "stdout",
          "text": [
            "('milk', [1.2, 1.1, 1.3])\n",
            "('bread', [0.8, 0.9, 0.85])\n",
            "('eggs', [2.1, 2.0, 2.05])\n"
          ]
        }
      ]
    },
    {
      "cell_type": "code",
      "source": [
        "res_statistics = {}\n",
        "\n",
        "for food, price in res.items():\n",
        "  res_statistics[food] = (statistics.mean(price), max(price), min(price))\n",
        "\n",
        "\n",
        "print(*res_statistics.items(), sep='\\n')"
      ],
      "metadata": {
        "colab": {
          "base_uri": "https://localhost:8080/"
        },
        "id": "AUq33273m51e",
        "outputId": "b79edfc0-10f3-43e2-ec6f-c41750ed9775"
      },
      "execution_count": 34,
      "outputs": [
        {
          "output_type": "stream",
          "name": "stdout",
          "text": [
            "('milk', (1.2, 1.3, 1.1))\n",
            "('bread', (0.85, 0.9, 0.8))\n",
            "('eggs', (2.05, 2.1, 2.0))\n"
          ]
        }
      ]
    },
    {
      "cell_type": "markdown",
      "source": [
        "## **6. Подсчет просмотров по регионам**\n",
        "\n",
        "**Данные:**\n",
        "\n",
        "```python\n",
        "views = [\n",
        "    {\"region\": \"Europe\", \"user_id\": \"U1\"},\n",
        "    {\"region\": \"Asia\", \"user_id\": \"U2\"},\n",
        "    {\"region\": \"Europe\", \"user_id\": \"U3\"},\n",
        "    {\"region\": \"Asia\", \"user_id\": \"U2\"},\n",
        "    {\"region\": \"Europe\", \"user_id\": \"U1\"}\n",
        "]\n",
        "```\n",
        "\n",
        "**Задача:**\n",
        "\n",
        "1. Подсчитай количество **уникальных пользователей** в каждом регионе.\n",
        "2. Выведи регион с **наибольшим числом активных пользователей**.\n"
      ],
      "metadata": {
        "id": "m_AMXw8mna-1"
      }
    },
    {
      "cell_type": "code",
      "source": [
        "views = [\n",
        "    {\"region\": \"Europe\", \"user_id\": \"U1\"},\n",
        "    {\"region\": \"Asia\", \"user_id\": \"U2\"},\n",
        "    {\"region\": \"Europe\", \"user_id\": \"U3\"},\n",
        "    {\"region\": \"Asia\", \"user_id\": \"U2\"},\n",
        "    {\"region\": \"Europe\", \"user_id\": \"U1\"}\n",
        "]"
      ],
      "metadata": {
        "id": "Q8GP2i0rnatD"
      },
      "execution_count": 35,
      "outputs": []
    },
    {
      "cell_type": "code",
      "source": [
        "users = set()\n",
        "\n",
        "\n",
        "for item in views:\n",
        "  users.add(item['user_id'])\n",
        "\n",
        "print(len(users))"
      ],
      "metadata": {
        "colab": {
          "base_uri": "https://localhost:8080/"
        },
        "id": "t1skyZdtrD1p",
        "outputId": "e01de0a8-36b1-4724-8468-6c7e0eba5e0c"
      },
      "execution_count": 38,
      "outputs": [
        {
          "output_type": "stream",
          "name": "stdout",
          "text": [
            "3\n"
          ]
        }
      ]
    },
    {
      "cell_type": "code",
      "source": [
        "res = defaultdict(set)\n",
        "\n",
        "\n",
        "for item in views:\n",
        "  res[item['region']].add(item['user_id'])\n",
        "\n",
        "print(*res.items(), sep='\\n')"
      ],
      "metadata": {
        "colab": {
          "base_uri": "https://localhost:8080/"
        },
        "id": "UfBl8BgdrksU",
        "outputId": "a7d1530c-1743-4de2-f867-fc75ed6c8527"
      },
      "execution_count": 39,
      "outputs": [
        {
          "output_type": "stream",
          "name": "stdout",
          "text": [
            "('Europe', {'U3', 'U1'})\n",
            "('Asia', {'U2'})\n"
          ]
        }
      ]
    },
    {
      "cell_type": "code",
      "source": [
        "regions = list(res.keys())\n",
        "users_by_regions = list(map(len, res.values()))\n",
        "\n",
        "print(regions)\n",
        "print(users_by_regions)\n"
      ],
      "metadata": {
        "colab": {
          "base_uri": "https://localhost:8080/"
        },
        "id": "zrs5VZekr9Un",
        "outputId": "373d0b21-5b7c-46b3-ac02-546dca9728fa"
      },
      "execution_count": 40,
      "outputs": [
        {
          "output_type": "stream",
          "name": "stdout",
          "text": [
            "['Europe', 'Asia']\n",
            "[2, 1]\n"
          ]
        }
      ]
    },
    {
      "cell_type": "code",
      "source": [
        "index = users_by_regions.index(max(users_by_regions))\n",
        "print(regions[index])"
      ],
      "metadata": {
        "colab": {
          "base_uri": "https://localhost:8080/"
        },
        "id": "QBwK4fqVsVW7",
        "outputId": "686190cf-e431-4c2a-8ee3-707c445ffe18"
      },
      "execution_count": 41,
      "outputs": [
        {
          "output_type": "stream",
          "name": "stdout",
          "text": [
            "Europe\n"
          ]
        }
      ]
    },
    {
      "cell_type": "markdown",
      "source": [
        "## **7. Сравнение категорий покупок пользователей**\n",
        "\n",
        "**Данные:**\n",
        "\n",
        "```python\n",
        "user_categories = {\n",
        "    \"Alice\": {\"Electronics\", \"Books\", \"Home\"},\n",
        "    \"Bob\": {\"Books\", \"Clothing\"},\n",
        "    \"Clara\": {\"Electronics\", \"Books\", \"Sports\"}\n",
        "}\n",
        "```\n",
        "\n",
        "**Задача:**\n",
        "Найди товары (категории), которые **интересны всем пользователям**.\n",
        "(Используй пересечение множеств.)"
      ],
      "metadata": {
        "id": "JlXH_W1iskRk"
      }
    },
    {
      "cell_type": "code",
      "source": [
        "user_categories = {\n",
        "    \"Alice\": {\"Electronics\", \"Books\", \"Home\"},\n",
        "    \"Bob\": {\"Books\", \"Clothing\"},\n",
        "    \"Clara\": {\"Electronics\", \"Books\", \"Sports\"}\n",
        "}"
      ],
      "metadata": {
        "id": "Ue8N3Fvtsodv"
      },
      "execution_count": 42,
      "outputs": []
    },
    {
      "cell_type": "code",
      "source": [
        "categories = user_categories.values()\n",
        "categories"
      ],
      "metadata": {
        "colab": {
          "base_uri": "https://localhost:8080/"
        },
        "id": "sLb7LHnTs0ZS",
        "outputId": "d4100c8f-5378-4264-e34f-7c2ae6460b94"
      },
      "execution_count": 43,
      "outputs": [
        {
          "output_type": "execute_result",
          "data": {
            "text/plain": [
              "dict_values([{'Home', 'Electronics', 'Books'}, {'Clothing', 'Books'}, {'Electronics', 'Books', 'Sports'}])"
            ]
          },
          "metadata": {},
          "execution_count": 43
        }
      ]
    },
    {
      "cell_type": "code",
      "source": [
        "res = set.intersection(*user_categories.values())\n",
        "print(res)"
      ],
      "metadata": {
        "colab": {
          "base_uri": "https://localhost:8080/"
        },
        "id": "pVkLYznatGaT",
        "outputId": "18025358-0248-4b8e-babb-808360f5caea"
      },
      "execution_count": 45,
      "outputs": [
        {
          "output_type": "stream",
          "name": "stdout",
          "text": [
            "{'Books'}\n"
          ]
        }
      ]
    }
  ]
}