{
  "nbformat": 4,
  "nbformat_minor": 0,
  "metadata": {
    "colab": {
      "provenance": [],
      "authorship_tag": "ABX9TyOWNwZMVqLT+yCN4Bk6YT2D",
      "include_colab_link": true
    },
    "kernelspec": {
      "name": "python3",
      "display_name": "Python 3"
    },
    "language_info": {
      "name": "python"
    }
  },
  "cells": [
    {
      "cell_type": "markdown",
      "metadata": {
        "id": "view-in-github",
        "colab_type": "text"
      },
      "source": [
        "<a href=\"https://colab.research.google.com/github/cpython-projects/da_1709/blob/main/lesson_08_hw.ipynb\" target=\"_parent\"><img src=\"https://colab.research.google.com/assets/colab-badge.svg\" alt=\"Open In Colab\"/></a>"
      ]
    },
    {
      "cell_type": "markdown",
      "source": [
        "**Датасет содержит записи о покупках клиентов интернет-магазина.**  \n",
        "Каждая запись представляет собой покупку конкретного товара, совершённую определённым клиентом в определённую дату.\n",
        "\n",
        "\n",
        "---\n",
        "\n",
        "\n",
        "```python\n",
        "customer_purchases = [\n",
        "    {\"Customer_ID\": 1001, \"Product\": \"Laptop\", \"Category\": \"Electronics\", \"Purchase_Date\": \"2024-02-01\"},\n",
        "    {\"Customer_ID\": 1002, \"Product\": \"Smartphone\", \"Category\": \"Electronics\", \"Purchase_Date\": \"2024-02-02\"},\n",
        "    {\"Customer_ID\": 1003, \"Product\": \"Sofa\", \"Category\": \"Furniture\", \"Purchase_Date\": \"2024-02-03\"},\n",
        "    {\"Customer_ID\": 1001, \"Product\": \"Tablet\", \"Category\": \"Electronics\", \"Purchase_Date\": \"2024-02-10\"},\n",
        "    {\"Customer_ID\": 1002, \"Product\": \"Chair\", \"Category\": \"Furniture\", \"Purchase_Date\": \"2024-02-15\"},\n",
        "    {\"Customer_ID\": 1003, \"Product\": \"Laptop\", \"Category\": \"Electronics\", \"Purchase_Date\": \"2024-02-18\"},\n",
        "    {\"Customer_ID\": 1004, \"Product\": \"Desk\", \"Category\": \"Furniture\", \"Purchase_Date\": \"2024-02-20\"},\n",
        "]\n",
        "```"
      ],
      "metadata": {
        "id": "TLNiGS-NAwfJ"
      }
    },
    {
      "cell_type": "code",
      "source": [
        "customer_purchases = [\n",
        "    {\"Customer_ID\": 1001, \"Product\": \"Laptop\", \"Category\": \"Electronics\", \"Purchase_Date\": \"2024-02-01\"},\n",
        "    {\"Customer_ID\": 1002, \"Product\": \"Smartphone\", \"Category\": \"Electronics\", \"Purchase_Date\": \"2024-02-02\"},\n",
        "    {\"Customer_ID\": 1003, \"Product\": \"Sofa\", \"Category\": \"Furniture\", \"Purchase_Date\": \"2024-02-03\"},\n",
        "    {\"Customer_ID\": 1001, \"Product\": \"Tablet\", \"Category\": \"Electronics\", \"Purchase_Date\": \"2024-02-10\"},\n",
        "    {\"Customer_ID\": 1002, \"Product\": \"Chair\", \"Category\": \"Furniture\", \"Purchase_Date\": \"2024-02-15\"},\n",
        "    {\"Customer_ID\": 1003, \"Product\": \"Laptop\", \"Category\": \"Electronics\", \"Purchase_Date\": \"2024-02-18\"},\n",
        "    {\"Customer_ID\": 1004, \"Product\": \"Desk\", \"Category\": \"Furniture\", \"Purchase_Date\": \"2024-02-20\"},\n",
        "]"
      ],
      "metadata": {
        "id": "AnI3gMqdXukL"
      },
      "execution_count": 1,
      "outputs": []
    },
    {
      "cell_type": "markdown",
      "source": [
        "**Task 1.** Определите множество всех уникальных товаров, которые были куплены."
      ],
      "metadata": {
        "id": "lBF2NvbnBJER"
      }
    },
    {
      "cell_type": "code",
      "execution_count": 5,
      "metadata": {
        "id": "7P5VvkphAW4O",
        "outputId": "5963a3ab-a580-4857-a32c-a5cadbd9babc",
        "colab": {
          "base_uri": "https://localhost:8080/"
        }
      },
      "outputs": [
        {
          "output_type": "stream",
          "name": "stdout",
          "text": [
            "{'Laptop', 'Sofa', 'Tablet', 'Chair', 'Desk', 'Smartphone'}\n"
          ]
        }
      ],
      "source": [
        "result = {item['Product'] for item in customer_purchases}\n",
        "print(result)"
      ]
    },
    {
      "cell_type": "markdown",
      "source": [
        "**Task 2.** Выведите список уникальных Customer_ID, которые купили хотя бы один товар из категории `Electronics`."
      ],
      "metadata": {
        "id": "8j1CD8UQBO9b"
      }
    },
    {
      "cell_type": "code",
      "source": [
        "result = {item['Customer_ID'] for item in customer_purchases if item['Category'].strip().lower() == 'electronics'}\n",
        "print(result)"
      ],
      "metadata": {
        "id": "nw-3m3Y0BkLZ",
        "outputId": "07b0de65-cfd5-452e-c916-4c73c1ff8b32",
        "colab": {
          "base_uri": "https://localhost:8080/"
        }
      },
      "execution_count": 7,
      "outputs": [
        {
          "output_type": "stream",
          "name": "stdout",
          "text": [
            "{1001, 1002, 1003}\n"
          ]
        }
      ]
    },
    {
      "cell_type": "markdown",
      "source": [
        "**Task 3.** Определите клиентов, которые совершали покупки как в категории `Electronics`, так и в категории `Furniture`."
      ],
      "metadata": {
        "id": "HOYjuRJXBkdV"
      }
    },
    {
      "cell_type": "code",
      "source": [
        "customer_electronic = set()\n",
        "customer_furniture = set()\n",
        "\n",
        "for item in customer_purchases:\n",
        "  if item['Category'].strip().lower() == 'electronics':\n",
        "    customer_electronic.add(item['Customer_ID'])\n",
        "  elif item['Category'].strip().lower() == 'furniture':\n",
        "    customer_furniture.add(item['Customer_ID'])\n",
        "\n",
        "print(customer_electronic.intersection(customer_furniture))"
      ],
      "metadata": {
        "id": "f9kFwN8iBrMT",
        "outputId": "164bb8cd-38e1-4362-ecf4-16e85e39f3a3",
        "colab": {
          "base_uri": "https://localhost:8080/"
        }
      },
      "execution_count": 8,
      "outputs": [
        {
          "output_type": "stream",
          "name": "stdout",
          "text": [
            "{1002, 1003}\n"
          ]
        }
      ]
    },
    {
      "cell_type": "markdown",
      "source": [
        "**Task 4.** Найдите клиентов, которые покупали товары только из одной категории."
      ],
      "metadata": {
        "id": "yDKQpkajBrXH"
      }
    },
    {
      "cell_type": "code",
      "source": [
        "from collections import defaultdict\n",
        "\n",
        "customer_category = defaultdict(set)\n",
        "\n",
        "for item in customer_purchases:\n",
        "  customer_category[item['Customer_ID']].add(item['Category'].strip().lower())\n",
        "\n",
        "\n",
        "for customer, categories in customer_category.items():\n",
        "  if len(categories) == 1:\n",
        "    print(customer)"
      ],
      "metadata": {
        "id": "59llIJsgBvLd",
        "outputId": "cc71b8e7-125a-43bf-c665-55b191c74e52",
        "colab": {
          "base_uri": "https://localhost:8080/"
        }
      },
      "execution_count": 10,
      "outputs": [
        {
          "output_type": "stream",
          "name": "stdout",
          "text": [
            "1001\n",
            "1004\n"
          ]
        }
      ]
    },
    {
      "cell_type": "markdown",
      "source": [
        "**Task 5.** Определите, какая категория товаров встречается чаще всего."
      ],
      "metadata": {
        "id": "1ybFqQQNBvaE"
      }
    },
    {
      "cell_type": "code",
      "source": [
        "from collections import Counter\n",
        "res = [item['Category'] for item in customer_purchases]\n",
        "res = Counter(res)\n",
        "print(*res.most_common(1))"
      ],
      "metadata": {
        "id": "c9E2u0NUByny",
        "outputId": "82947ea5-1e40-40cf-99d4-b57ec460fb61",
        "colab": {
          "base_uri": "https://localhost:8080/"
        }
      },
      "execution_count": 13,
      "outputs": [
        {
          "output_type": "stream",
          "name": "stdout",
          "text": [
            "('Electronics', 4)\n"
          ]
        }
      ]
    },
    {
      "cell_type": "markdown",
      "source": [
        "**Task 6.** Выберите двух клиентов и найдите пересечение их покупок (какие товары они купили одинаковые)."
      ],
      "metadata": {
        "id": "9yj0HHDPByyX"
      }
    },
    {
      "cell_type": "code",
      "source": [
        "user1 = {item['Product'] for item in customer_purchases if item['Customer_ID'] == 1001}\n",
        "user2 = {item['Product'] for item in customer_purchases if item['Customer_ID'] == 1003}\n",
        "\n",
        "print(user1 & user2)"
      ],
      "metadata": {
        "id": "3Lpl9R0fB2zF",
        "outputId": "ec28655d-0212-45e7-b49f-ab867e0d7337",
        "colab": {
          "base_uri": "https://localhost:8080/"
        }
      },
      "execution_count": 15,
      "outputs": [
        {
          "output_type": "stream",
          "name": "stdout",
          "text": [
            "{'Laptop'}\n"
          ]
        }
      ]
    },
    {
      "cell_type": "markdown",
      "source": [
        "**Task 7.** Для каждого клиента определите товары, которые он купил, но никто другой из покупателей не покупал."
      ],
      "metadata": {
        "id": "kGXSbn0MB2--"
      }
    },
    {
      "cell_type": "code",
      "source": [
        "from collections import defaultdict\n",
        "\n",
        "customer_category = defaultdict(set)\n",
        "\n",
        "for item in customer_purchases:\n",
        "  customer_category[item['Customer_ID']].add(item['Product'].strip().lower())\n",
        "\n",
        "for customer, products in customer_category.items():\n",
        "  tmp = list(customer_category.values())\n",
        "  tmp.remove(products)\n",
        "  tmp = set.union(*tmp)\n",
        "  print(f'{customer}: {products - tmp}')\n",
        "\n",
        "  print('*' * 20)"
      ],
      "metadata": {
        "id": "pvT_6leWB7W1",
        "outputId": "eb5bb472-0772-454b-882a-f54168e9d6d5",
        "colab": {
          "base_uri": "https://localhost:8080/"
        }
      },
      "execution_count": 25,
      "outputs": [
        {
          "output_type": "stream",
          "name": "stdout",
          "text": [
            "1001: {'tablet'}\n",
            "********************\n",
            "1002: {'smartphone', 'chair'}\n",
            "********************\n",
            "1003: {'sofa'}\n",
            "********************\n",
            "1004: {'desk'}\n",
            "********************\n"
          ]
        }
      ]
    }
  ]
}