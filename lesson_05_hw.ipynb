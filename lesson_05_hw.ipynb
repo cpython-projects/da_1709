{
  "nbformat": 4,
  "nbformat_minor": 0,
  "metadata": {
    "colab": {
      "provenance": [],
      "authorship_tag": "ABX9TyPyul1hBve5jyH9XV7eT5c8",
      "include_colab_link": true
    },
    "kernelspec": {
      "name": "python3",
      "display_name": "Python 3"
    },
    "language_info": {
      "name": "python"
    }
  },
  "cells": [
    {
      "cell_type": "markdown",
      "metadata": {
        "id": "view-in-github",
        "colab_type": "text"
      },
      "source": [
        "<a href=\"https://colab.research.google.com/github/cpython-projects/da_1709/blob/main/lesson_05_hw.ipynb\" target=\"_parent\"><img src=\"https://colab.research.google.com/assets/colab-badge.svg\" alt=\"Open In Colab\"/></a>"
      ]
    },
    {
      "cell_type": "markdown",
      "source": [
        "**Task 1.** Напишите программу, которая выводит все четные числа от 1 до 20."
      ],
      "metadata": {
        "id": "eHQKjDtXMbjr"
      }
    },
    {
      "cell_type": "code",
      "source": [
        "for i in range(2, 21, 2):\n",
        "    print(i)"
      ],
      "metadata": {
        "id": "xfs6aCc8ThEO",
        "outputId": "d9d397f6-950d-409d-e80b-9543aa54c872",
        "colab": {
          "base_uri": "https://localhost:8080/"
        }
      },
      "execution_count": 2,
      "outputs": [
        {
          "output_type": "stream",
          "name": "stdout",
          "text": [
            "2\n",
            "4\n",
            "6\n",
            "8\n",
            "10\n",
            "12\n",
            "14\n",
            "16\n",
            "18\n",
            "20\n"
          ]
        }
      ]
    },
    {
      "cell_type": "markdown",
      "source": [
        "**Task 2.** Напишите программу, которая суммирует все числа от 1 до 100."
      ],
      "metadata": {
        "id": "vYv72MieTQm6"
      }
    },
    {
      "cell_type": "code",
      "source": [
        "total = sum(range(1, 101))\n",
        "print(total)"
      ],
      "metadata": {
        "id": "HYfWGDMqThiM",
        "outputId": "f1033568-6df7-466e-a85b-6d621c334595",
        "colab": {
          "base_uri": "https://localhost:8080/"
        }
      },
      "execution_count": 5,
      "outputs": [
        {
          "output_type": "stream",
          "name": "stdout",
          "text": [
            "5050\n"
          ]
        }
      ]
    },
    {
      "cell_type": "markdown",
      "source": [
        "**Task 3.** Напишите программу, которая просит пользователя ввести число и продолжает спрашивать, пока не будет введено число, кратное 3."
      ],
      "metadata": {
        "id": "nHc0w927TXuW"
      }
    },
    {
      "cell_type": "code",
      "source": [
        "while True:\n",
        "    num = int(input(\"Введите число: \"))\n",
        "    if num % 3 == 0:\n",
        "        break"
      ],
      "metadata": {
        "id": "DCqU7rF4TiCG",
        "outputId": "0367ba29-a9ee-414e-912c-194a88af59b9",
        "colab": {
          "base_uri": "https://localhost:8080/"
        }
      },
      "execution_count": 6,
      "outputs": [
        {
          "name": "stdout",
          "output_type": "stream",
          "text": [
            "Введите число: 4\n",
            "Введите число: 5\n",
            "Введите число: 6\n"
          ]
        }
      ]
    },
    {
      "cell_type": "code",
      "source": [
        "while int(input(\"Введите число: \")) % 3:\n",
        "    ..."
      ],
      "metadata": {
        "id": "R-4ySJJUSTDd",
        "outputId": "4487f8a1-1e41-484d-af0e-7a20c5942ad0",
        "colab": {
          "base_uri": "https://localhost:8080/"
        }
      },
      "execution_count": 8,
      "outputs": [
        {
          "name": "stdout",
          "output_type": "stream",
          "text": [
            "Введите число: 5\n",
            "Введите число: 6\n"
          ]
        }
      ]
    },
    {
      "cell_type": "code",
      "source": [
        "while (x := int(input(\"Введите число: \"))) % 3:\n",
        "    print(x ** 2)"
      ],
      "metadata": {
        "id": "Tg74GqgTSsuE",
        "outputId": "071d0603-d106-4666-d774-6673e36b52ba",
        "colab": {
          "base_uri": "https://localhost:8080/"
        }
      },
      "execution_count": 10,
      "outputs": [
        {
          "name": "stdout",
          "output_type": "stream",
          "text": [
            "Введите число: 4\n",
            "16\n",
            "Введите число: 5\n",
            "25\n",
            "Введите число: 6\n"
          ]
        }
      ]
    },
    {
      "cell_type": "markdown",
      "source": [
        "**Task 4.** Напишите программу, которая запрашивает у пользователя числа и выводит их сумму, пока сумма не превысит 100."
      ],
      "metadata": {
        "id": "MUnOioXxTZy_"
      }
    },
    {
      "cell_type": "code",
      "source": [
        "total = 0\n",
        "while total < 100:\n",
        "  ans = int(input('>>>'))\n",
        "  total += ans\n",
        "\n",
        "print(total)"
      ],
      "metadata": {
        "id": "DgG0PLjETiiK",
        "outputId": "b1b36fd1-6f98-4647-a366-b527c11ec088",
        "colab": {
          "base_uri": "https://localhost:8080/"
        }
      },
      "execution_count": 11,
      "outputs": [
        {
          "output_type": "stream",
          "name": "stdout",
          "text": [
            ">>>7\n",
            ">>>8\n",
            ">>>9\n",
            ">>>50\n",
            ">>>50\n",
            "124\n"
          ]
        }
      ]
    },
    {
      "cell_type": "markdown",
      "source": [
        "**Task 5.** Напишите программу, которая просит пользователя вводить числа до тех пор, пока он не введет два подряд одинаковых числа."
      ],
      "metadata": {
        "id": "HnkHH7GLTbxs"
      }
    },
    {
      "cell_type": "code",
      "source": [
        "num1 = int(input(\"Введите число: \"))\n",
        "while (num2 := int(input(\"Введите число: \"))) != num1:\n",
        "    num1 = num2"
      ],
      "metadata": {
        "id": "u69N90cnTjK3",
        "outputId": "b40e92cc-41b9-4bf0-ac61-4c1818ef4e90",
        "colab": {
          "base_uri": "https://localhost:8080/"
        }
      },
      "execution_count": 14,
      "outputs": [
        {
          "name": "stdout",
          "output_type": "stream",
          "text": [
            "Введите число: 2\n",
            "Введите число: 3\n",
            "Введите число: 4\n",
            "Введите число: 5\n",
            "Введите число: 5\n"
          ]
        }
      ]
    },
    {
      "cell_type": "markdown",
      "source": [
        "**Task 6.** Напишите скрипт, который выводит целые числа от 1 до 200, используя цикл while. В одной строке необходимо вывести только пять целых чисел.\n",
        "Например:  \n",
        "1 2 3 4 5  \n",
        "6 7 8 9 10  \n",
        "11 12 13 14 15  \n",
        "...  "
      ],
      "metadata": {
        "id": "hcHiD5FdTd8Z"
      }
    },
    {
      "cell_type": "code",
      "source": [
        "i = 1\n",
        "while i <= 200:\n",
        "    print(i, end=' ')\n",
        "    if not i % 5:\n",
        "        print()\n",
        "    i += 1"
      ],
      "metadata": {
        "id": "82Ap3sHPTkcn",
        "outputId": "5f4ba740-8827-4c32-f5a2-9d5894621057",
        "colab": {
          "base_uri": "https://localhost:8080/"
        }
      },
      "execution_count": 15,
      "outputs": [
        {
          "output_type": "stream",
          "name": "stdout",
          "text": [
            "1 2 3 4 5 \n",
            "6 7 8 9 10 \n",
            "11 12 13 14 15 \n",
            "16 17 18 19 20 \n",
            "21 22 23 24 25 \n",
            "26 27 28 29 30 \n",
            "31 32 33 34 35 \n",
            "36 37 38 39 40 \n",
            "41 42 43 44 45 \n",
            "46 47 48 49 50 \n",
            "51 52 53 54 55 \n",
            "56 57 58 59 60 \n",
            "61 62 63 64 65 \n",
            "66 67 68 69 70 \n",
            "71 72 73 74 75 \n",
            "76 77 78 79 80 \n",
            "81 82 83 84 85 \n",
            "86 87 88 89 90 \n",
            "91 92 93 94 95 \n",
            "96 97 98 99 100 \n",
            "101 102 103 104 105 \n",
            "106 107 108 109 110 \n",
            "111 112 113 114 115 \n",
            "116 117 118 119 120 \n",
            "121 122 123 124 125 \n",
            "126 127 128 129 130 \n",
            "131 132 133 134 135 \n",
            "136 137 138 139 140 \n",
            "141 142 143 144 145 \n",
            "146 147 148 149 150 \n",
            "151 152 153 154 155 \n",
            "156 157 158 159 160 \n",
            "161 162 163 164 165 \n",
            "166 167 168 169 170 \n",
            "171 172 173 174 175 \n",
            "176 177 178 179 180 \n",
            "181 182 183 184 185 \n",
            "186 187 188 189 190 \n",
            "191 192 193 194 195 \n",
            "196 197 198 199 200 \n"
          ]
        }
      ]
    },
    {
      "cell_type": "code",
      "source": [
        "i = 1\n",
        "while i <= 200:\n",
        "  print(*range(i, i + 5))\n",
        "  i += 5\n",
        ""
      ],
      "metadata": {
        "id": "lFakkId-UuGU",
        "outputId": "1b16c704-24fa-4fa4-8ebb-d7581a334f3a",
        "colab": {
          "base_uri": "https://localhost:8080/"
        }
      },
      "execution_count": 16,
      "outputs": [
        {
          "output_type": "stream",
          "name": "stdout",
          "text": [
            "1 2 3 4 5\n",
            "6 7 8 9 10\n",
            "11 12 13 14 15\n",
            "16 17 18 19 20\n",
            "21 22 23 24 25\n",
            "26 27 28 29 30\n",
            "31 32 33 34 35\n",
            "36 37 38 39 40\n",
            "41 42 43 44 45\n",
            "46 47 48 49 50\n",
            "51 52 53 54 55\n",
            "56 57 58 59 60\n",
            "61 62 63 64 65\n",
            "66 67 68 69 70\n",
            "71 72 73 74 75\n",
            "76 77 78 79 80\n",
            "81 82 83 84 85\n",
            "86 87 88 89 90\n",
            "91 92 93 94 95\n",
            "96 97 98 99 100\n",
            "101 102 103 104 105\n",
            "106 107 108 109 110\n",
            "111 112 113 114 115\n",
            "116 117 118 119 120\n",
            "121 122 123 124 125\n",
            "126 127 128 129 130\n",
            "131 132 133 134 135\n",
            "136 137 138 139 140\n",
            "141 142 143 144 145\n",
            "146 147 148 149 150\n",
            "151 152 153 154 155\n",
            "156 157 158 159 160\n",
            "161 162 163 164 165\n",
            "166 167 168 169 170\n",
            "171 172 173 174 175\n",
            "176 177 178 179 180\n",
            "181 182 183 184 185\n",
            "186 187 188 189 190\n",
            "191 192 193 194 195\n",
            "196 197 198 199 200\n"
          ]
        }
      ]
    },
    {
      "cell_type": "markdown",
      "source": [
        "**Task 7.** Напишите скрипт, который вычисляет с помощью цикла факториал числа n (n вводится с клавиатуры)."
      ],
      "metadata": {
        "id": "SX81WxUpTTxr"
      }
    },
    {
      "cell_type": "code",
      "source": [
        "# n! = 1 * 2 ... * n\n",
        "# 0! = 1\n",
        "n = int(input(\"Введите число: \"))\n",
        "if n < 0:\n",
        "    print(\"Факториала нет\")\n",
        "else:\n",
        "    total = 1\n",
        "    for i in range(2, n + 1):\n",
        "        total *= i\n",
        "    print(total)"
      ],
      "metadata": {
        "id": "CfCIUGxbTk6l",
        "outputId": "19e5c10f-bb09-4d5c-b505-b11aa5129ffc",
        "colab": {
          "base_uri": "https://localhost:8080/"
        }
      },
      "execution_count": 18,
      "outputs": [
        {
          "output_type": "stream",
          "name": "stdout",
          "text": [
            "Введите число: 5\n",
            "120\n"
          ]
        }
      ]
    },
    {
      "cell_type": "markdown",
      "source": [
        "**Task 8.**\n",
        "Создайте список случайных чисел (размером 4 элемента).\n",
        "Создайте второй список в два раза больше первого, где первые 4 элемента должны быть равны элементам первого списка, а остальные элементы - удвоенным значениям начальных. Например:  \n",
        "Было → [1,4,7,2]  \n",
        "Стало → [1,4,7,2,2,8,14,4]"
      ],
      "metadata": {
        "id": "AG-ORdCQTE00"
      }
    },
    {
      "cell_type": "code",
      "source": [
        "import random as rnd\n",
        "\n",
        "\n",
        "x = [rnd.randint(1, 10) for _ in range(5)]\n",
        "print(x)"
      ],
      "metadata": {
        "id": "Cb7GB3wRTmb7",
        "outputId": "716867fd-9220-4236-9e3c-f01002dfd21f",
        "colab": {
          "base_uri": "https://localhost:8080/"
        }
      },
      "execution_count": 20,
      "outputs": [
        {
          "output_type": "stream",
          "name": "stdout",
          "text": [
            "[9, 9, 4, 7, 1]\n"
          ]
        }
      ]
    },
    {
      "cell_type": "code",
      "source": [
        "y = x + [2 * item for item in x]\n",
        "print(y)"
      ],
      "metadata": {
        "id": "U7UWcAblV31q",
        "outputId": "5d29d335-522b-4135-ba48-8bb13ccb4f80",
        "colab": {
          "base_uri": "https://localhost:8080/"
        }
      },
      "execution_count": 21,
      "outputs": [
        {
          "output_type": "stream",
          "name": "stdout",
          "text": [
            "[9, 9, 4, 7, 1, 18, 18, 8, 14, 2]\n"
          ]
        }
      ]
    },
    {
      "cell_type": "markdown",
      "source": [
        "**Task 9.** Создайте список из 12 элементов. Каждый элемент этого списка является зарплатой работника за месяц. Выведите этот список на экран и вычислите среднемесячную зарплату этого работника."
      ],
      "metadata": {
        "id": "ihxboDvpTIUC"
      }
    },
    {
      "cell_type": "code",
      "source": [
        "salarys = [rnd.randint(1000, 10000) for _ in range(12)]\n",
        "print(salarys)\n",
        "print(sum(salarys) / len(salarys))"
      ],
      "metadata": {
        "id": "1xYnLckHTnHn",
        "outputId": "987d4a73-b05d-4f45-a496-45b4e0b1557d",
        "colab": {
          "base_uri": "https://localhost:8080/"
        }
      },
      "execution_count": 22,
      "outputs": [
        {
          "output_type": "stream",
          "name": "stdout",
          "text": [
            "[9819, 7120, 9715, 3698, 5220, 8729, 9626, 8835, 6999, 1955, 3493, 8390]\n",
            "6966.583333333333\n"
          ]
        }
      ]
    },
    {
      "cell_type": "markdown",
      "source": [
        "**Task 10.** Есть матрица  \n",
        "[1, 2, 3, 4]  \n",
        "[5, 6, 7, 8]  \n",
        "[9, 10, 11, 12]  \n",
        "[13, 14, 15, 16]  \n",
        "Напишите скрипт, который выведет эту матрицу на экран, вычислит и выведет сумму элементов этой матрицы."
      ],
      "metadata": {
        "id": "lM9GISuPTKtf"
      }
    },
    {
      "cell_type": "code",
      "source": [
        "x = [\n",
        "    [1, 2, 3, 4],\n",
        "    [5, 6, 7, 8],\n",
        "    [9, 10, 11, 12],\n",
        "    [13, 14, 15, 16]\n",
        "]\n",
        "\n",
        "total = 0\n",
        "for row in x:\n",
        "    total += sum(row)\n",
        "print(total)"
      ],
      "metadata": {
        "id": "wGrpsV7BTof2",
        "outputId": "65b743bb-0635-4096-fc88-9a62697a34df",
        "colab": {
          "base_uri": "https://localhost:8080/"
        }
      },
      "execution_count": 25,
      "outputs": [
        {
          "output_type": "stream",
          "name": "stdout",
          "text": [
            "136\n"
          ]
        }
      ]
    },
    {
      "cell_type": "markdown",
      "source": [
        "**Task 11.** Напишите код для зеркального переворота списка [7,2,9,4] -> [4,9,2,7]. Список может быть произвольной длины."
      ],
      "metadata": {
        "id": "35nHwK0BS8wf"
      }
    },
    {
      "cell_type": "code",
      "source": [
        "x = [7, 2, 9, 4]\n",
        "\n",
        "y = x[::-1]\n",
        "\n",
        "print(x, y, sep='\\n')"
      ],
      "metadata": {
        "id": "GkCwDTKUTpKy",
        "outputId": "c8d271ae-01a6-4d3b-8d68-92df01c1484e",
        "colab": {
          "base_uri": "https://localhost:8080/"
        }
      },
      "execution_count": 26,
      "outputs": [
        {
          "output_type": "stream",
          "name": "stdout",
          "text": [
            "[7, 2, 9, 4]\n",
            "[4, 9, 2, 7]\n"
          ]
        }
      ]
    },
    {
      "cell_type": "code",
      "source": [
        "x = [7, 2, 9, 4]\n",
        "x.reverse()\n",
        "print(x)"
      ],
      "metadata": {
        "id": "kpkfbOwYWzdU",
        "outputId": "8e840558-c328-4c3a-b5e5-932e8d41e8c0",
        "colab": {
          "base_uri": "https://localhost:8080/"
        }
      },
      "execution_count": 27,
      "outputs": [
        {
          "output_type": "stream",
          "name": "stdout",
          "text": [
            "[4, 9, 2, 7]\n"
          ]
        }
      ]
    },
    {
      "cell_type": "code",
      "source": [
        "x = [7, 2, 9, 4]\n",
        "for item in reversed(x):\n",
        "    print(item)"
      ],
      "metadata": {
        "id": "y-1IR_hxW2dG",
        "outputId": "29c50ef1-f319-45c5-f9d2-0dde9eda0b28",
        "colab": {
          "base_uri": "https://localhost:8080/"
        }
      },
      "execution_count": 28,
      "outputs": [
        {
          "output_type": "stream",
          "name": "stdout",
          "text": [
            "4\n",
            "9\n",
            "2\n",
            "7\n"
          ]
        }
      ]
    },
    {
      "cell_type": "markdown",
      "source": [
        "**Task 12.** Проверка на монотонное возрастание. Дана последовательность чисел (ввод по одному числу, 0 — конец ввода). Определи, идет ли последовательность строго по возрастанию."
      ],
      "metadata": {
        "id": "CUWbR6aPS_JY"
      }
    },
    {
      "cell_type": "code",
      "source": [
        "x = []\n",
        "while (ans := int(input('>>'))):\n",
        "  x.append(ans)\n",
        "\n",
        "print(x)"
      ],
      "metadata": {
        "id": "PEWHvSY5Tpqq",
        "outputId": "4969e841-aead-4012-800d-9a969cc1687c",
        "colab": {
          "base_uri": "https://localhost:8080/"
        }
      },
      "execution_count": 29,
      "outputs": [
        {
          "output_type": "stream",
          "name": "stdout",
          "text": [
            ">>3\n",
            ">>4\n",
            ">>56\n",
            ">>12\n",
            ">>23\n",
            ">>0\n",
            "[3, 4, 56, 12, 23]\n"
          ]
        }
      ]
    },
    {
      "cell_type": "code",
      "source": [
        "for i in range(1, len(x)):\n",
        "  if x[i - 1] > x[i]:\n",
        "    print('NO')\n",
        "    break\n",
        "else:\n",
        "  print('YES')"
      ],
      "metadata": {
        "id": "82W7tE0kXMu0",
        "outputId": "4e25425d-f6e5-435c-dfa0-3b39dedf005b",
        "colab": {
          "base_uri": "https://localhost:8080/"
        }
      },
      "execution_count": 30,
      "outputs": [
        {
          "output_type": "stream",
          "name": "stdout",
          "text": [
            "NO\n"
          ]
        }
      ]
    },
    {
      "cell_type": "markdown",
      "source": [
        "**Task 13.** Пользователь вводит последовательность чисел, каждое с новой строки. Ввод завершается числом 0. Необходимо найти все числа, которые отклоняются от среднего значения последовательности более чем на 10%"
      ],
      "metadata": {
        "id": "If1BlUwlTBM3"
      }
    },
    {
      "cell_type": "code",
      "source": [
        "import statistics\n",
        "\n",
        "x = []\n",
        "while (ans := int(input('>>'))):\n",
        "  x.append(ans)\n",
        "\n",
        "avg = statistics.mean(x)\n",
        "\n",
        "avg_90 = 0.9 * avg\n",
        "avg_110 = 1.1 * avg\n",
        "\n",
        "for item in x:\n",
        "  if avg_90 <= item <= avg_110:\n",
        "    continue\n",
        "  print(item)"
      ],
      "metadata": {
        "id": "ogXfOajTTqN1",
        "outputId": "655a10b4-ae7b-4eb3-c8ac-c8de7adda161",
        "colab": {
          "base_uri": "https://localhost:8080/"
        }
      },
      "execution_count": 36,
      "outputs": [
        {
          "output_type": "stream",
          "name": "stdout",
          "text": [
            ">>5\n",
            ">>6\n",
            ">>7\n",
            ">>8\n",
            ">>0\n",
            "5\n",
            "8\n"
          ]
        }
      ]
    }
  ]
}