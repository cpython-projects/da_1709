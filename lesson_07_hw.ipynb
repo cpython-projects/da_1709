{
  "nbformat": 4,
  "nbformat_minor": 0,
  "metadata": {
    "colab": {
      "provenance": [],
      "authorship_tag": "ABX9TyPATSztUOWBPm1G+EGRTDX5",
      "include_colab_link": true
    },
    "kernelspec": {
      "name": "python3",
      "display_name": "Python 3"
    },
    "language_info": {
      "name": "python"
    }
  },
  "cells": [
    {
      "cell_type": "markdown",
      "metadata": {
        "id": "view-in-github",
        "colab_type": "text"
      },
      "source": [
        "<a href=\"https://colab.research.google.com/github/cpython-projects/da_1709/blob/main/lesson_07_hw.ipynb\" target=\"_parent\"><img src=\"https://colab.research.google.com/assets/colab-badge.svg\" alt=\"Open In Colab\"/></a>"
      ]
    },
    {
      "cell_type": "markdown",
      "source": [
        "**Task 1.** Напишите скрипт, который принимает строку текста и возвращает словарь, где ключами являются слова, а значениями – количество вхождений каждого слова в тексте."
      ],
      "metadata": {
        "id": "GB4BgNyc_70d"
      }
    },
    {
      "cell_type": "code",
      "source": [
        "import string\n",
        "\n",
        "text = input('text>>').lower() # python Python PYTHON\n",
        "\n",
        "\n",
        "for item in string.punctuation:\n",
        "    text = text.replace(item, ' ')\n",
        "\n",
        "words = text.split()\n",
        "words"
      ],
      "metadata": {
        "id": "NaIAY4QxDWFw",
        "outputId": "ffc9c696-406f-4894-ea73-be5b9cbc6709",
        "colab": {
          "base_uri": "https://localhost:8080/"
        }
      },
      "execution_count": 1,
      "outputs": [
        {
          "name": "stdout",
          "output_type": "stream",
          "text": [
            "text>> python Python PYTHON Hello WORLD\n"
          ]
        },
        {
          "output_type": "execute_result",
          "data": {
            "text/plain": [
              "['python', 'python', 'python', 'hello', 'world']"
            ]
          },
          "metadata": {},
          "execution_count": 1
        }
      ]
    },
    {
      "cell_type": "code",
      "source": [
        "from collections import Counter\n",
        "\n",
        "res = Counter(words)\n",
        "print(*res.items(), sep='\\n')"
      ],
      "metadata": {
        "id": "UA42u4LjU2rj",
        "outputId": "df65c65f-886c-4e69-8a69-d3f3ed48e985",
        "colab": {
          "base_uri": "https://localhost:8080/"
        }
      },
      "execution_count": 3,
      "outputs": [
        {
          "output_type": "stream",
          "name": "stdout",
          "text": [
            "('python', 3)\n",
            "('hello', 1)\n",
            "('world', 1)\n"
          ]
        }
      ]
    },
    {
      "cell_type": "markdown",
      "source": [
        "**Task 2.** Реализуй простой переводчик, который использует словарь для сохранения пар слов. Пользователь может вводить слово, а приложение возвращает его перевод. В этом случае словарь может использоваться для сохранения соответствий между словами в разных языках.\n",
        "Пример:\n",
        "```python\n",
        "translations = {\n",
        "     'hello': 'привет',\n",
        "     'goodbye': 'до свидания',\n",
        "     'cat': 'кот',\n",
        "     'dog': 'собака'\n",
        "}\n",
        "```"
      ],
      "metadata": {
        "id": "SYe8pwmdBg7y"
      }
    },
    {
      "cell_type": "code",
      "source": [
        "translations = {\n",
        "     'hello': 'привет',\n",
        "     'hi': 'привет',\n",
        "     'goodbye': 'до свидания',\n",
        "     'cat': 'кот',\n",
        "     'dog': 'собака',\n",
        "}"
      ],
      "metadata": {
        "id": "5U-2i97kDUzQ"
      },
      "execution_count": 8,
      "outputs": []
    },
    {
      "cell_type": "code",
      "source": [
        "word = input('word>>').lower().strip()\n",
        "res = translations.get(word)\n",
        "\n",
        "if res:\n",
        "    print(f'{word}: {res}')\n",
        "else:\n",
        "    flag = True\n",
        "    for key, value in translations.items():\n",
        "        if value == word:\n",
        "            print(f'{word}: {key}')\n",
        "            flag = False\n",
        "\n",
        "    if flag:\n",
        "        print('No translation')"
      ],
      "metadata": {
        "id": "p4Uf6U04VKSz",
        "outputId": "94c1b66b-f55e-45d8-889f-6fd5baad9eed",
        "colab": {
          "base_uri": "https://localhost:8080/"
        }
      },
      "execution_count": 10,
      "outputs": [
        {
          "output_type": "stream",
          "name": "stdout",
          "text": [
            "word>>труляля\n",
            "No translation\n"
          ]
        }
      ]
    },
    {
      "cell_type": "code",
      "source": [
        "word = input('word>>').lower().strip()\n",
        "res = translations.get(word)\n",
        "\n",
        "\n",
        "if res:\n",
        "    print(f'{word}: {res}')\n",
        "else:\n",
        "    if word not in translations.values():\n",
        "        print('No translation')\n",
        "    else:\n",
        "        for key, value in translations.items():\n",
        "            if value == word:\n",
        "                print(f'{word}: {key}')"
      ],
      "metadata": {
        "id": "cJRDubVqX_Jc",
        "outputId": "a3c5674b-064a-42bc-a4f5-aea344baa0f0",
        "colab": {
          "base_uri": "https://localhost:8080/"
        }
      },
      "execution_count": 11,
      "outputs": [
        {
          "output_type": "stream",
          "name": "stdout",
          "text": [
            "word>>kjkh\n",
            "No translation\n"
          ]
        }
      ]
    },
    {
      "cell_type": "markdown",
      "source": [
        "**Task 3.** Даны два списка: названия продуктов и их цены.\n",
        "```python\n",
        "products = [\"Яблоко\", \"Банан\", \"Груша\"]\n",
        "prices = [100, 80, 120]\n",
        "```\n",
        "Создайте словарь, где ключами будут названия продуктов, а значениями — их цены."
      ],
      "metadata": {
        "id": "JK-yy1yOBjjT"
      }
    },
    {
      "cell_type": "code",
      "source": [
        "products = [\"Яблоко\", \"Банан\", \"Груша\"]\n",
        "prices = [100, 80, 120]\n",
        "\n",
        "y = dict(zip(products, prices))\n",
        "print(y)"
      ],
      "metadata": {
        "id": "pY6f-e2iDUFk",
        "outputId": "c339b8b7-3cff-4a1d-ca18-ad9c5dd56cb2",
        "colab": {
          "base_uri": "https://localhost:8080/"
        }
      },
      "execution_count": 17,
      "outputs": [
        {
          "output_type": "stream",
          "name": "stdout",
          "text": [
            "{'Яблоко': 100, 'Банан': 80, 'Груша': 120}\n"
          ]
        }
      ]
    },
    {
      "cell_type": "code",
      "source": [
        "x = ['1', '12', '23']\n",
        "y = list(map(int, x))\n",
        "\n",
        "print(y)"
      ],
      "metadata": {
        "id": "gAPhsaEQYlfc",
        "outputId": "00545e45-4ebf-489f-93ff-04090fcd4d3c",
        "colab": {
          "base_uri": "https://localhost:8080/"
        }
      },
      "execution_count": 13,
      "outputs": [
        {
          "output_type": "stream",
          "name": "stdout",
          "text": [
            "[1, 12, 23]\n"
          ]
        }
      ]
    },
    {
      "cell_type": "code",
      "source": [
        "x = ['hello', 'world', 'python']\n",
        "y = list(map(len, x))\n",
        "\n",
        "print(y)"
      ],
      "metadata": {
        "id": "c-3CgBtgYxsp",
        "outputId": "5e8bf7ce-cb6e-40dc-9a40-7c9bedf3d911",
        "colab": {
          "base_uri": "https://localhost:8080/"
        }
      },
      "execution_count": 14,
      "outputs": [
        {
          "output_type": "stream",
          "name": "stdout",
          "text": [
            "[5, 5, 6]\n"
          ]
        }
      ]
    },
    {
      "cell_type": "code",
      "source": [
        "x = [(12, 24, 456, 546), (123, 234, 45, 56, 57, 23), (232, 35, 56, 24)]\n",
        "\n",
        "y = list(map(sum, x))\n",
        "\n",
        "print(y)"
      ],
      "metadata": {
        "id": "X4qguCOdY8pD",
        "outputId": "d06dbb56-fbb9-4f6f-a528-dfbe5c40b55b",
        "colab": {
          "base_uri": "https://localhost:8080/"
        }
      },
      "execution_count": 15,
      "outputs": [
        {
          "output_type": "stream",
          "name": "stdout",
          "text": [
            "[1038, 538, 347]\n"
          ]
        }
      ]
    },
    {
      "cell_type": "markdown",
      "source": [
        "**Task 4.** Дан список клиентов, каждый клиент представлен словарем с полями: \"id\", \"имя\", \"возраст\", \"город\".\n",
        "```python\n",
        "[\n",
        "    {\"id\": 1, \"имя\": \"Анна\", \"возраст\": 25, \"город\": \"Берлин\"},\n",
        "    {\"id\": 2, \"имя\": \"Иван\", \"возраст\": 30, \"город\": \"Берлин\"},\n",
        "    {\"id\": 3, \"имя\": \"Ольга\", \"возраст\": 22, \"город\": \"Вена\"}\n",
        "]\n",
        "```\n",
        "Напишите скрипт, который формирует словарь, в котором ключи — города, а значения — клиенты (список) из этих городов."
      ],
      "metadata": {
        "id": "JhNeg7BzBlGt"
      }
    },
    {
      "cell_type": "code",
      "source": [
        "customers = [\n",
        "    {\"id\": 1, \"имя\": \"Анна\", \"возраст\": 25, \"город\": \"Берлин\"},\n",
        "    {\"id\": 2, \"имя\": \"Иван\", \"возраст\": 30, \"город\": \"Берлин\"},\n",
        "    {\"id\": 3, \"имя\": \"Ольга\", \"возраст\": 22, \"город\": \"Вена\"}\n",
        "]"
      ],
      "metadata": {
        "id": "hHTxeZwWDSlZ"
      },
      "execution_count": 18,
      "outputs": []
    },
    {
      "cell_type": "code",
      "source": [
        "res = {}\n",
        "\n",
        "for customer in customers:\n",
        "    city = customer['город']\n",
        "    name = customer['имя']\n",
        "    id = customer['id']\n",
        "\n",
        "    if city in res:\n",
        "        res[city].append((id, name))\n",
        "    else:\n",
        "        res[city] = [(id, name)]\n",
        "\n",
        "print(*res.items(), sep='\\n')"
      ],
      "metadata": {
        "id": "szuL9hmBaAOn",
        "outputId": "cb97f58b-bf61-4a33-f079-777b7d41e0f7",
        "colab": {
          "base_uri": "https://localhost:8080/"
        }
      },
      "execution_count": 20,
      "outputs": [
        {
          "output_type": "stream",
          "name": "stdout",
          "text": [
            "('Берлин', [(1, 'Анна'), (2, 'Иван')])\n",
            "('Вена', [(3, 'Ольга')])\n"
          ]
        }
      ]
    },
    {
      "cell_type": "markdown",
      "source": [
        "**Task 5.** Дан список сотрудников, где каждый сотрудник представлен словарем с полями \"имя\", \"отдел\".\n",
        "```python\n",
        "[\n",
        "    {\"имя\": \"Анна\", \"отдел\": \"Маркетинг\"},\n",
        "    {\"имя\": \"Иван\", \"отдел\": \"Продажи\"},\n",
        "    {\"имя\": \"Ольга\", \"отдел\": \"Маркетинг\"}\n",
        "]\n",
        "```\n",
        "Создайте скрипт, который группирует сотрудников по отделам."
      ],
      "metadata": {
        "id": "RnX-gPnMCMcZ"
      }
    },
    {
      "cell_type": "code",
      "source": [
        "from collections import defaultdict\n",
        "\n",
        "employees = [\n",
        "    {\"имя\": \"Анна\", \"отдел\": \"Маркетинг\"},\n",
        "    {\"имя\": \"Иван\", \"отдел\": \"Продажи\"},\n",
        "    {\"имя\": \"Ольга\", \"отдел\": \"Маркетинг\"}\n",
        "]\n",
        "\n",
        "departments = defaultdict(list)\n",
        "\n",
        "for employee in employees:\n",
        "    department = employee['отдел']\n",
        "    name = employee['имя']\n",
        "    departments[department].append(name)\n",
        "\n",
        "print(*departments.items(), sep='\\n')"
      ],
      "metadata": {
        "id": "-SxbRIPlDR3S",
        "outputId": "05963241-a41e-4ba7-80f0-d6acc6daf2ec",
        "colab": {
          "base_uri": "https://localhost:8080/"
        }
      },
      "execution_count": 21,
      "outputs": [
        {
          "output_type": "stream",
          "name": "stdout",
          "text": [
            "('Маркетинг', ['Анна', 'Ольга'])\n",
            "('Продажи', ['Иван'])\n"
          ]
        }
      ]
    },
    {
      "cell_type": "markdown",
      "source": [
        "**Task 6.** Дан словарь с данными по продажам, где ключи — дни месяца, а значения — сумма продаж. Найдите дни с самыми высокими отклонениями от среднего значения.\n",
        "```python\n",
        "{\n",
        "    1: 500, 2: 700, 3: 300, 4: 800, 5: 200\n",
        "}\n",
        "```"
      ],
      "metadata": {
        "id": "tQ572drkCjol"
      }
    },
    {
      "cell_type": "code",
      "source": [
        "import statistics\n",
        "\n",
        "data = {\n",
        "    1: 500, 2: 700, 3: 300, 4: 800, 5: 200\n",
        "}\n",
        "\n",
        "avg = statistics.mean(data.values())\n",
        "\n",
        "for key, value in data.items():\n",
        "    if value > avg:\n",
        "        print(f'{key}: {value}')"
      ],
      "metadata": {
        "id": "CQD8NyoSDQhA",
        "outputId": "6e527a42-ec4c-429b-f63d-2d3bcc138ae8",
        "colab": {
          "base_uri": "https://localhost:8080/"
        }
      },
      "execution_count": 24,
      "outputs": [
        {
          "output_type": "stream",
          "name": "stdout",
          "text": [
            "2: 700\n",
            "4: 800\n"
          ]
        }
      ]
    }
  ]
}