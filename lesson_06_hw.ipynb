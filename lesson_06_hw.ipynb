{
  "nbformat": 4,
  "nbformat_minor": 0,
  "metadata": {
    "colab": {
      "provenance": [],
      "authorship_tag": "ABX9TyMREN9pvmYvI7RQC0sub2Kq",
      "include_colab_link": true
    },
    "kernelspec": {
      "name": "python3",
      "display_name": "Python 3"
    },
    "language_info": {
      "name": "python"
    }
  },
  "cells": [
    {
      "cell_type": "markdown",
      "metadata": {
        "id": "view-in-github",
        "colab_type": "text"
      },
      "source": [
        "<a href=\"https://colab.research.google.com/github/cpython-projects/da_1709/blob/main/lesson_06_hw.ipynb\" target=\"_parent\"><img src=\"https://colab.research.google.com/assets/colab-badge.svg\" alt=\"Open In Colab\"/></a>"
      ]
    },
    {
      "cell_type": "markdown",
      "source": [
        "**Task 1.** Дана строка с данными. Напишите скрипт, который посчитает, сколько букв \"b\" в ней содержится."
      ],
      "metadata": {
        "id": "O6teC2P07psv"
      }
    },
    {
      "cell_type": "code",
      "source": [
        "text = input('text>>>')\n",
        "print(text.count('b'))"
      ],
      "metadata": {
        "id": "EqJH-jHiJMl_",
        "outputId": "f40a1acd-590e-4918-a936-4cd8c9e9bd76",
        "colab": {
          "base_uri": "https://localhost:8080/"
        }
      },
      "execution_count": 2,
      "outputs": [
        {
          "output_type": "stream",
          "name": "stdout",
          "text": [
            "text>>>uhyuyuiybbbbb\n",
            "5\n"
          ]
        }
      ]
    },
    {
      "cell_type": "markdown",
      "source": [
        "**Task 2.** Пользователь вводит с клавиатуры имя человека. Напишите скрипт для проверки введенного имени на валидность (имеется в виду, что, например, имя не может содержать цифр, оно должно начинаться со строчной буквы, за которой должны следовать прописные)."
      ],
      "metadata": {
        "id": "xB452BRU9VCN"
      }
    },
    {
      "cell_type": "code",
      "source": [
        "name = input('name>>>') # Oleh, Oleh Tymchuk"
      ],
      "metadata": {
        "id": "2CkCXleCJMWe",
        "outputId": "46745459-baf0-42da-c296-f69230df0176",
        "colab": {
          "base_uri": "https://localhost:8080/"
        }
      },
      "execution_count": 8,
      "outputs": [
        {
          "name": "stdout",
          "output_type": "stream",
          "text": [
            "name>>>Oleh tymchuk\n"
          ]
        }
      ]
    },
    {
      "cell_type": "code",
      "source": [
        "name.istitle()"
      ],
      "metadata": {
        "id": "28srGRazk19G",
        "outputId": "d9efd1ed-2c3d-4346-96b2-e8b08d83691b",
        "colab": {
          "base_uri": "https://localhost:8080/"
        }
      },
      "execution_count": 9,
      "outputs": [
        {
          "output_type": "execute_result",
          "data": {
            "text/plain": [
              "False"
            ]
          },
          "metadata": {},
          "execution_count": 9
        }
      ]
    },
    {
      "cell_type": "code",
      "source": [
        "name.replace(' ', '').isalpha()"
      ],
      "metadata": {
        "id": "EAelYSDXlEBh",
        "outputId": "aacc1448-70b8-4292-9dd7-2c616a9205fb",
        "colab": {
          "base_uri": "https://localhost:8080/"
        }
      },
      "execution_count": 11,
      "outputs": [
        {
          "output_type": "execute_result",
          "data": {
            "text/plain": [
              "True"
            ]
          },
          "metadata": {},
          "execution_count": 11
        }
      ]
    },
    {
      "cell_type": "code",
      "source": [
        "res = 'valid' if name.istitle() and name.replace(' ', '').isalpha() else 'invalid'\n",
        "print(res)"
      ],
      "metadata": {
        "id": "9Zjk4AzDlhmJ",
        "outputId": "51e54ef8-9531-4e2d-c4c1-6981661f0a5b",
        "colab": {
          "base_uri": "https://localhost:8080/"
        }
      },
      "execution_count": 12,
      "outputs": [
        {
          "output_type": "stream",
          "name": "stdout",
          "text": [
            "invalid\n"
          ]
        }
      ]
    },
    {
      "cell_type": "markdown",
      "source": [
        "**Task 3.** Выведите на экран 10 строк с числом Pi. В первой строке должно быть 2 знака после запятой, во второй - 3 и так далее."
      ],
      "metadata": {
        "id": "QQLC70s59XpR"
      }
    },
    {
      "cell_type": "code",
      "source": [
        "import math\n",
        "for i in range(2, 12):\n",
        "    print(f'{math.pi:.{i}f}')"
      ],
      "metadata": {
        "id": "rlarLIwYJLuG",
        "outputId": "08bf9a45-8c20-452e-f04f-cea702dac02a",
        "colab": {
          "base_uri": "https://localhost:8080/"
        }
      },
      "execution_count": 16,
      "outputs": [
        {
          "output_type": "stream",
          "name": "stdout",
          "text": [
            "3.14\n",
            "3.142\n",
            "3.1416\n",
            "3.14159\n",
            "3.141593\n",
            "3.1415927\n",
            "3.14159265\n",
            "3.141592654\n",
            "3.1415926536\n",
            "3.14159265359\n"
          ]
        }
      ]
    },
    {
      "cell_type": "markdown",
      "source": [
        "**Task 4.** Пользователь вводит с клавиатуры текст. Найдите в нем самое длинное слово и выведите его на экран."
      ],
      "metadata": {
        "id": "FU0ULuP69acS"
      }
    },
    {
      "cell_type": "code",
      "source": [
        "text = input('text>>>')\n",
        "words = text.split()"
      ],
      "metadata": {
        "id": "nhx7jNPEJK7U",
        "outputId": "2475b398-3b90-45f2-f15e-3ead6bb99b94",
        "colab": {
          "base_uri": "https://localhost:8080/"
        }
      },
      "execution_count": 17,
      "outputs": [
        {
          "name": "stdout",
          "output_type": "stream",
          "text": [
            "text>>>Hello world! Python z\n"
          ]
        }
      ]
    },
    {
      "cell_type": "code",
      "source": [
        "max(words)"
      ],
      "metadata": {
        "id": "i6nmKraHmX4M",
        "outputId": "a7ff4182-75e3-4058-b68b-8a9f83765508",
        "colab": {
          "base_uri": "https://localhost:8080/",
          "height": 35
        }
      },
      "execution_count": 18,
      "outputs": [
        {
          "output_type": "execute_result",
          "data": {
            "text/plain": [
              "'z'"
            ],
            "application/vnd.google.colaboratory.intrinsic+json": {
              "type": "string"
            }
          },
          "metadata": {},
          "execution_count": 18
        }
      ]
    },
    {
      "cell_type": "code",
      "source": [
        "ord('H')"
      ],
      "metadata": {
        "id": "u7izTi-InGp8",
        "outputId": "22e2ac65-8e65-45a5-99e3-22bd6d3bc10e",
        "colab": {
          "base_uri": "https://localhost:8080/"
        }
      },
      "execution_count": 19,
      "outputs": [
        {
          "output_type": "execute_result",
          "data": {
            "text/plain": [
              "72"
            ]
          },
          "metadata": {},
          "execution_count": 19
        }
      ]
    },
    {
      "cell_type": "code",
      "source": [
        "ord('z')"
      ],
      "metadata": {
        "id": "u58CJqljnJ8S",
        "outputId": "2616bb2f-69e5-4aa8-a34a-43c6fbfeceed",
        "colab": {
          "base_uri": "https://localhost:8080/"
        }
      },
      "execution_count": 20,
      "outputs": [
        {
          "output_type": "execute_result",
          "data": {
            "text/plain": [
              "122"
            ]
          },
          "metadata": {},
          "execution_count": 20
        }
      ]
    },
    {
      "cell_type": "code",
      "source": [
        "words"
      ],
      "metadata": {
        "id": "f4lTtBpwnl1_",
        "outputId": "c8e8e081-9ba7-4b3e-9cec-110f143722b5",
        "colab": {
          "base_uri": "https://localhost:8080/"
        }
      },
      "execution_count": 21,
      "outputs": [
        {
          "output_type": "execute_result",
          "data": {
            "text/plain": [
              "['Hello', 'world!', 'Python', 'z']"
            ]
          },
          "metadata": {},
          "execution_count": 21
        }
      ]
    },
    {
      "cell_type": "code",
      "source": [
        "max(words, key=len)"
      ],
      "metadata": {
        "id": "oyZ8jiQOnovg",
        "outputId": "6ed9bee6-5f5a-466e-fce8-b6aeb2c1dd1b",
        "colab": {
          "base_uri": "https://localhost:8080/",
          "height": 35
        }
      },
      "execution_count": 22,
      "outputs": [
        {
          "output_type": "execute_result",
          "data": {
            "text/plain": [
              "'world!'"
            ],
            "application/vnd.google.colaboratory.intrinsic+json": {
              "type": "string"
            }
          },
          "metadata": {},
          "execution_count": 22
        }
      ]
    },
    {
      "cell_type": "markdown",
      "source": [
        "**Task 5.** Дана строка с данными, разделенными разными символами (запятыми, точками, точками с запятой). Разбейте строку на части."
      ],
      "metadata": {
        "id": "7LagAntY9dYV"
      }
    },
    {
      "cell_type": "code",
      "source": [
        "punctuation = ',.!?:;-'\n",
        "text = input('text>>')\n",
        "\n",
        "for item in punctuation:\n",
        "  text = text.replace(item, ' ')\n",
        "\n",
        "print(text)"
      ],
      "metadata": {
        "id": "5PJWjZGvJKiy",
        "outputId": "c05af02b-8a76-48d9-c8c3-3e32e8f0947f",
        "colab": {
          "base_uri": "https://localhost:8080/"
        }
      },
      "execution_count": 25,
      "outputs": [
        {
          "output_type": "stream",
          "name": "stdout",
          "text": [
            "text>>Hello,world!Python       is !!!!\n",
            "Hello world Python       is     \n"
          ]
        }
      ]
    },
    {
      "cell_type": "code",
      "source": [
        "text.split()"
      ],
      "metadata": {
        "id": "1Y_4OhymovC8",
        "outputId": "a5dfb604-db17-4bee-c859-a84a23b2ef46",
        "colab": {
          "base_uri": "https://localhost:8080/"
        }
      },
      "execution_count": 26,
      "outputs": [
        {
          "output_type": "execute_result",
          "data": {
            "text/plain": [
              "['Hello', 'world', 'Python', 'is']"
            ]
          },
          "metadata": {},
          "execution_count": 26
        }
      ]
    },
    {
      "cell_type": "markdown",
      "source": [
        "**Task 6.** Дана строка с текстом, содержащая хэштеги (например, \"#data #Python\"). Извлеките их в список."
      ],
      "metadata": {
        "id": "IEv3-7fq9gu-"
      }
    },
    {
      "cell_type": "code",
      "source": [
        "text = '#data #Python'\n",
        "\n",
        "words = [item for item in text.split('#') if item]\n",
        "words"
      ],
      "metadata": {
        "id": "BqfRN35JJKTX",
        "outputId": "ca2952a4-e9d1-4c90-96ff-93b46c94e561",
        "colab": {
          "base_uri": "https://localhost:8080/"
        }
      },
      "execution_count": 30,
      "outputs": [
        {
          "output_type": "execute_result",
          "data": {
            "text/plain": [
              "['data ', 'Python']"
            ]
          },
          "metadata": {},
          "execution_count": 30
        }
      ]
    },
    {
      "cell_type": "markdown",
      "source": [
        "**Task 7.** Дана строка с текстом. Оставьте только слова длиной больше 4 символов."
      ],
      "metadata": {
        "id": "NinuK-st9i7-"
      }
    },
    {
      "cell_type": "code",
      "source": [
        "import string\n",
        "\n",
        "string.punctuation"
      ],
      "metadata": {
        "id": "kCbAd8nrpelo",
        "outputId": "a6f3aa00-7691-4935-e128-f61e3a20c50e",
        "colab": {
          "base_uri": "https://localhost:8080/",
          "height": 35
        }
      },
      "execution_count": 31,
      "outputs": [
        {
          "output_type": "execute_result",
          "data": {
            "text/plain": [
              "'!\"#$%&\\'()*+,-./:;<=>?@[\\\\]^_`{|}~'"
            ],
            "application/vnd.google.colaboratory.intrinsic+json": {
              "type": "string"
            }
          },
          "metadata": {},
          "execution_count": 31
        }
      ]
    },
    {
      "cell_type": "code",
      "source": [
        "text = input('text>>')\n",
        "for item in string.punctuation:\n",
        "  text = text.replace(item, ' ')\n",
        "\n",
        "words = [item for item in text.split() if len(item) > 4]\n",
        "words"
      ],
      "metadata": {
        "id": "0nvv2F7oJKAC",
        "outputId": "cb37b440-63fd-48c5-e74e-58df38a3c402",
        "colab": {
          "base_uri": "https://localhost:8080/"
        }
      },
      "execution_count": 32,
      "outputs": [
        {
          "name": "stdout",
          "output_type": "stream",
          "text": [
            "text>>gggggggggggggg jjj hhhh hhhhhhhhhhhhhh\n"
          ]
        },
        {
          "output_type": "execute_result",
          "data": {
            "text/plain": [
              "['gggggggggggggg', 'hhhhhhhhhhhhhh']"
            ]
          },
          "metadata": {},
          "execution_count": 32
        }
      ]
    },
    {
      "cell_type": "code",
      "source": [
        "words1 = [item for item in text.split() if len(item) > 4]\n",
        "words2 = (item for item in text.split() if len(item) > 4)"
      ],
      "metadata": {
        "id": "IEpsaXVzp60_"
      },
      "execution_count": 34,
      "outputs": []
    },
    {
      "cell_type": "code",
      "source": [
        "words1"
      ],
      "metadata": {
        "id": "P8rAG1D1rGRI",
        "outputId": "d66fda9a-5dbd-43e0-81f1-335ac79ef678",
        "colab": {
          "base_uri": "https://localhost:8080/"
        }
      },
      "execution_count": 35,
      "outputs": [
        {
          "output_type": "execute_result",
          "data": {
            "text/plain": [
              "['gggggggggggggg', 'hhhhhhhhhhhhhh']"
            ]
          },
          "metadata": {},
          "execution_count": 35
        }
      ]
    },
    {
      "cell_type": "code",
      "source": [
        "print(*words2)"
      ],
      "metadata": {
        "id": "-OKXBXVprJ6-",
        "outputId": "e2297d50-1ef4-42ff-c75d-0e71d8c28d42",
        "colab": {
          "base_uri": "https://localhost:8080/"
        }
      },
      "execution_count": 37,
      "outputs": [
        {
          "output_type": "stream",
          "name": "stdout",
          "text": [
            "gggggggggggggg hhhhhhhhhhhhhh\n"
          ]
        }
      ]
    },
    {
      "cell_type": "markdown",
      "source": [
        "**Task 8.** В строке замените все цифры на символ *."
      ],
      "metadata": {
        "id": "SoBQ6eDa9n_z"
      }
    },
    {
      "cell_type": "code",
      "source": [
        "text = input('text>>')\n",
        "\n",
        "for digit in string.digits:\n",
        "  text = text.replace(digit, '*')\n",
        "\n",
        "text"
      ],
      "metadata": {
        "id": "OOPVls-eJIF2",
        "outputId": "f13c2695-c588-4da8-b51a-5327dcb945c5",
        "colab": {
          "base_uri": "https://localhost:8080/",
          "height": 52
        }
      },
      "execution_count": 39,
      "outputs": [
        {
          "name": "stdout",
          "output_type": "stream",
          "text": [
            "text>>jhghjg1kjhjkhkjhjk3kjhkjhjkh4444444\n"
          ]
        },
        {
          "output_type": "execute_result",
          "data": {
            "text/plain": [
              "'jhghjg*kjhjkhkjhjk*kjhkjhjkh*******'"
            ],
            "application/vnd.google.colaboratory.intrinsic+json": {
              "type": "string"
            }
          },
          "metadata": {},
          "execution_count": 39
        }
      ]
    },
    {
      "cell_type": "markdown",
      "source": [
        "**Task 9.** Втексте найдите все слова, состоящие только из прописных букв."
      ],
      "metadata": {
        "id": "vYCZn8wr9qHN"
      }
    },
    {
      "cell_type": "code",
      "source": [
        "text = input('text>>')\n",
        "for item in string.punctuation:\n",
        "  text = text.replace(item, ' ')\n",
        "\n",
        "words = [item for item in text.split() if item.istitle()]"
      ],
      "metadata": {
        "id": "VLlhdD_MJHvO",
        "outputId": "ec888c2b-b75f-4658-b1cc-503d797ee86f",
        "colab": {
          "base_uri": "https://localhost:8080/"
        }
      },
      "execution_count": 44,
      "outputs": [
        {
          "name": "stdout",
          "output_type": "stream",
          "text": [
            "text>>Hello PYTHON\n"
          ]
        }
      ]
    },
    {
      "cell_type": "code",
      "source": [
        "words"
      ],
      "metadata": {
        "id": "z2w51R5tstKP",
        "outputId": "ed43dda6-6ab1-4fd3-cc8a-6f2761207b51",
        "colab": {
          "base_uri": "https://localhost:8080/"
        }
      },
      "execution_count": 45,
      "outputs": [
        {
          "output_type": "execute_result",
          "data": {
            "text/plain": [
              "['Hello']"
            ]
          },
          "metadata": {},
          "execution_count": 45
        }
      ]
    },
    {
      "cell_type": "markdown",
      "source": [
        "**Task 10.**  В строке удалите все повторяющиеся слова, сохранив их порядок."
      ],
      "metadata": {
        "id": "YxIQLC239rxp"
      }
    },
    {
      "cell_type": "code",
      "source": [
        "x = 'Hello world Hello hello HELLO Python'\n",
        "y = []\n",
        "\n",
        "for item in x.split():\n",
        "  tmp = item.lower()\n",
        "  if tmp not in y:\n",
        "    y.append(tmp)\n",
        "\n",
        "y"
      ],
      "metadata": {
        "id": "flI5EQtUJHeb",
        "outputId": "65da9335-ef0a-45fa-a588-aab68fb95a58",
        "colab": {
          "base_uri": "https://localhost:8080/"
        }
      },
      "execution_count": 51,
      "outputs": [
        {
          "output_type": "execute_result",
          "data": {
            "text/plain": [
              "['hello', 'world', 'python']"
            ]
          },
          "metadata": {},
          "execution_count": 51
        }
      ]
    }
  ]
}