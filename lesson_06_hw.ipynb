{
  "nbformat": 4,
  "nbformat_minor": 0,
  "metadata": {
    "colab": {
      "provenance": [],
      "authorship_tag": "ABX9TyOMXAfW2ejpB3TBx1xi01Vj",
      "include_colab_link": true
    },
    "kernelspec": {
      "name": "python3",
      "display_name": "Python 3"
    },
    "language_info": {
      "name": "python"
    }
  },
  "cells": [
    {
      "cell_type": "markdown",
      "metadata": {
        "id": "view-in-github",
        "colab_type": "text"
      },
      "source": [
        "<a href=\"https://colab.research.google.com/github/cpython-projects/da_1709/blob/main/lesson_06_hw.ipynb\" target=\"_parent\"><img src=\"https://colab.research.google.com/assets/colab-badge.svg\" alt=\"Open In Colab\"/></a>"
      ]
    },
    {
      "cell_type": "markdown",
      "source": [
        "**Task 1.** Дана строка с данными. Напишите скрипт, который посчитает, сколько букв \"b\" в ней содержится."
      ],
      "metadata": {
        "id": "O6teC2P07psv"
      }
    },
    {
      "cell_type": "code",
      "source": [],
      "metadata": {
        "id": "EqJH-jHiJMl_"
      },
      "execution_count": null,
      "outputs": []
    },
    {
      "cell_type": "markdown",
      "source": [
        "**Task 2.** Пользователь вводит с клавиатуры имя человека. Напишите скрипт для проверки введенного имени на валидность (имеется в виду, что, например, имя не может содержать цифр, оно должно начинаться со строчной буквы, за которой должны следовать прописные)."
      ],
      "metadata": {
        "id": "xB452BRU9VCN"
      }
    },
    {
      "cell_type": "code",
      "source": [],
      "metadata": {
        "id": "2CkCXleCJMWe"
      },
      "execution_count": null,
      "outputs": []
    },
    {
      "cell_type": "markdown",
      "source": [
        "**Task 3.** Выведите на экран 10 строк с числом Pi. В первой строке должно быть 2 знака после запятой, во второй - 3 и так далее."
      ],
      "metadata": {
        "id": "QQLC70s59XpR"
      }
    },
    {
      "cell_type": "code",
      "source": [],
      "metadata": {
        "id": "rlarLIwYJLuG"
      },
      "execution_count": null,
      "outputs": []
    },
    {
      "cell_type": "markdown",
      "source": [
        "**Task 4.** Пользователь вводит с клавиатуры текст. Найдите в нем самое длинное слово и выведите его на экран."
      ],
      "metadata": {
        "id": "FU0ULuP69acS"
      }
    },
    {
      "cell_type": "code",
      "source": [],
      "metadata": {
        "id": "nhx7jNPEJK7U"
      },
      "execution_count": null,
      "outputs": []
    },
    {
      "cell_type": "markdown",
      "source": [
        "**Task 5.** Дана строка с данными, разделенными разными символами (запятыми, точками, точками с запятой). Разбейте строку на части."
      ],
      "metadata": {
        "id": "7LagAntY9dYV"
      }
    },
    {
      "cell_type": "code",
      "source": [],
      "metadata": {
        "id": "5PJWjZGvJKiy"
      },
      "execution_count": null,
      "outputs": []
    },
    {
      "cell_type": "markdown",
      "source": [
        "**Task 6.** Дана строка с текстом, содержащая хэштеги (например, \"#data #Python\"). Извлеките их в список."
      ],
      "metadata": {
        "id": "IEv3-7fq9gu-"
      }
    },
    {
      "cell_type": "code",
      "source": [],
      "metadata": {
        "id": "BqfRN35JJKTX"
      },
      "execution_count": null,
      "outputs": []
    },
    {
      "cell_type": "markdown",
      "source": [
        "**Task 7.** Дана строка с текстом. Оставьте только слова длиной больше 4 символов."
      ],
      "metadata": {
        "id": "NinuK-st9i7-"
      }
    },
    {
      "cell_type": "code",
      "source": [],
      "metadata": {
        "id": "0nvv2F7oJKAC"
      },
      "execution_count": null,
      "outputs": []
    },
    {
      "cell_type": "markdown",
      "source": [
        "**Task 8.** В строке замените все цифры на символ *."
      ],
      "metadata": {
        "id": "SoBQ6eDa9n_z"
      }
    },
    {
      "cell_type": "code",
      "source": [],
      "metadata": {
        "id": "OOPVls-eJIF2"
      },
      "execution_count": null,
      "outputs": []
    },
    {
      "cell_type": "markdown",
      "source": [
        "**Task 9.** Втексте найдите все слова, состоящие только из прописных букв."
      ],
      "metadata": {
        "id": "vYCZn8wr9qHN"
      }
    },
    {
      "cell_type": "code",
      "source": [],
      "metadata": {
        "id": "VLlhdD_MJHvO"
      },
      "execution_count": null,
      "outputs": []
    },
    {
      "cell_type": "markdown",
      "source": [
        "**Task 10.**  В строке удалите все повторяющиеся слова, сохранив их порядок."
      ],
      "metadata": {
        "id": "YxIQLC239rxp"
      }
    },
    {
      "cell_type": "code",
      "source": [],
      "metadata": {
        "id": "flI5EQtUJHeb"
      },
      "execution_count": null,
      "outputs": []
    }
  ]
}