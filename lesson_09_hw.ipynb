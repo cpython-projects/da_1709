{
  "cells": [
    {
      "cell_type": "markdown",
      "metadata": {
        "id": "view-in-github",
        "colab_type": "text"
      },
      "source": [
        "<a href=\"https://colab.research.google.com/github/cpython-projects/da_1709/blob/main/lesson_09_hw.ipynb\" target=\"_parent\"><img src=\"https://colab.research.google.com/assets/colab-badge.svg\" alt=\"Open In Colab\"/></a>"
      ]
    },
    {
      "cell_type": "markdown",
      "id": "283d434d",
      "metadata": {
        "id": "283d434d"
      },
      "source": [
        "**Task 1. Среднее значение**  \n",
        "Напишите функцию `mean(numbers)`, которая возвращает среднее арифметическое чисел в списке. Если список пуст, функция должна возвращать `None`.\n",
        "\n",
        "*Пример:*\n",
        "```python\n",
        "mean([10, 20, 30])  # ➞ 20.0\n",
        "mean([])            # ➞ None\n",
        "```"
      ]
    },
    {
      "cell_type": "code",
      "source": [
        "import statistics\n",
        "\n",
        "def mean(numbers: list | tuple):\n",
        "    if not numbers:\n",
        "      return None\n",
        "\n",
        "    total = 0\n",
        "    counter = 0\n",
        "    for number in numbers:\n",
        "      if number is not None:\n",
        "        total += number\n",
        "        counter += 1\n",
        "\n",
        "    if counter == 0:\n",
        "      return None\n",
        "    return total / counter"
      ],
      "metadata": {
        "id": "Luxn47AwW8R8"
      },
      "id": "Luxn47AwW8R8",
      "execution_count": 5,
      "outputs": []
    },
    {
      "cell_type": "code",
      "source": [
        "x = [10, None, 20, 30]\n",
        "print(mean(x))"
      ],
      "metadata": {
        "id": "uQxGlymbooYQ",
        "outputId": "c8a460ea-817d-4de2-a515-04e7bf602b20",
        "colab": {
          "base_uri": "https://localhost:8080/"
        }
      },
      "id": "uQxGlymbooYQ",
      "execution_count": 6,
      "outputs": [
        {
          "output_type": "stream",
          "name": "stdout",
          "text": [
            "20.0\n"
          ]
        }
      ]
    },
    {
      "cell_type": "markdown",
      "id": "8329761e",
      "metadata": {
        "id": "8329761e"
      },
      "source": [
        "**Task 2. Проверка на простое число**  \n",
        "Напишите функцию `is_prime(n)`, которая возвращает `True`, если число `n` — простое, иначе `False`.\n",
        "\n",
        "*Пример:*\n",
        "```python\n",
        "is_prime(7)   # ➞ True\n",
        "is_prime(10)  # ➞ False\n",
        "```"
      ]
    },
    {
      "cell_type": "code",
      "source": [
        "def is_prime(n: int):\n",
        "    if n <= 1:\n",
        "        return False\n",
        "    # if n <= 3:\n",
        "    #     return True\n",
        "    # if n % 2 == 0 or n % 3 == 0:\n",
        "    #     return False\n",
        "\n",
        "    for i in range(2, n):\n",
        "        if n % i == 0:\n",
        "            return False\n",
        "    return True"
      ],
      "metadata": {
        "id": "_-qVm2SuXAPS"
      },
      "id": "_-qVm2SuXAPS",
      "execution_count": 7,
      "outputs": []
    },
    {
      "cell_type": "markdown",
      "id": "93c310cb",
      "metadata": {
        "id": "93c310cb"
      },
      "source": [
        "**Task 3. Подсчёт значений выше порога**  \n",
        "Напишите функцию `above_threshold(data, threshold)`, которая возвращает количество элементов в списке `data`, превышающих значение `threshold`.\n",
        "\n",
        "*Пример:*\n",
        "```python\n",
        "above_threshold([10.0, 15.5, 20.0, 8.0], 12.0)  # ➞ 2\n",
        "```"
      ]
    },
    {
      "cell_type": "code",
      "source": [
        "def above_threshold(data: list | tuple, threshold: float | int):\n",
        "    counter = 0\n",
        "    for value in data:\n",
        "        if value > threshold:\n",
        "            counter += 1\n",
        "    return counter"
      ],
      "metadata": {
        "id": "9oOYfrNxXAzh"
      },
      "id": "9oOYfrNxXAzh",
      "execution_count": 8,
      "outputs": []
    },
    {
      "cell_type": "code",
      "source": [
        "above_threshold([10.0, 15.5, 20.0, 8.0], 12.0)"
      ],
      "metadata": {
        "id": "dCDwt9kVqnAZ",
        "outputId": "2c8c637c-86e6-4330-8382-44d715a0fe1a",
        "colab": {
          "base_uri": "https://localhost:8080/"
        }
      },
      "id": "dCDwt9kVqnAZ",
      "execution_count": 9,
      "outputs": [
        {
          "output_type": "execute_result",
          "data": {
            "text/plain": [
              "2"
            ]
          },
          "metadata": {},
          "execution_count": 9
        }
      ]
    },
    {
      "cell_type": "markdown",
      "id": "d7237160",
      "metadata": {
        "id": "d7237160"
      },
      "source": [
        "**Task 4. Покупки по пользователям**  \n",
        "Напишите функцию `purchases_by_user(transactions)`, которая по списку транзакций (имя покупателя, товар) возвращает словарь, где ключ — имя покупателя, а значение — множество названий купленных товаров.\n",
        "\n",
        "*Пример:*\n",
        "```python\n",
        "purchases_by_user([\n",
        "    (\"Alice\", \"Book\"),\n",
        "    (\"Alice\", \"Pen\"),\n",
        "    (\"Bob\", \"Book\")\n",
        "])\n",
        "# ➞ {\"Alice\": {\"Book\", \"Pen\"}, \"Bob\": {\"Book\"}}\n",
        "```"
      ]
    },
    {
      "cell_type": "code",
      "source": [
        "from collections import defaultdict\n",
        "\n",
        "def purchases_by_user(transactions):\n",
        "    purchases = defaultdict(set)\n",
        "    for user, product in transactions:\n",
        "        purchases[user].add(product)\n",
        "    return purchases"
      ],
      "metadata": {
        "id": "ZQgX_nfbXCO2"
      },
      "id": "ZQgX_nfbXCO2",
      "execution_count": 10,
      "outputs": []
    },
    {
      "cell_type": "code",
      "source": [
        "purchases_by_user([\n",
        "    (\"Alice\", \"Book\"),\n",
        "    (\"Alice\", \"Pen\"),\n",
        "    (\"Bob\", \"Book\")\n",
        "])"
      ],
      "metadata": {
        "id": "VwogJU-oroyG",
        "outputId": "25a02d8e-fbdd-46fc-c884-ad996d3a665a",
        "colab": {
          "base_uri": "https://localhost:8080/"
        }
      },
      "id": "VwogJU-oroyG",
      "execution_count": 11,
      "outputs": [
        {
          "output_type": "execute_result",
          "data": {
            "text/plain": [
              "defaultdict(set, {'Alice': {'Book', 'Pen'}, 'Bob': {'Book'}})"
            ]
          },
          "metadata": {},
          "execution_count": 11
        }
      ]
    },
    {
      "cell_type": "markdown",
      "id": "6cd60ec6",
      "metadata": {
        "id": "6cd60ec6"
      },
      "source": [
        "**Task 5. Фильтрация заказов по цене**\n",
        "\n",
        "Напишите функцию `filter_orders_by_price(orders, min_price, max_price)`, которая возвращает список заказов, где цена попадает в указанный диапазон `[min_price, max_price]`.\n",
        "\n",
        "*Пример:*\n",
        "```python\n",
        "orders = [\n",
        "    {\"item\": \"Book\", \"price\": 12.5},\n",
        "    {\"item\": \"Pen\", \"price\": 2.0},\n",
        "    {\"item\": \"Bag\", \"price\": 25.0}\n",
        "]\n",
        "filter_orders_by_price(orders, 5.0, 20.0)\n",
        "# ➞ [{\"item\": \"Book\", \"price\": 12.5}]\n",
        "```"
      ]
    },
    {
      "cell_type": "code",
      "source": [
        "def filter_orders_by_price(orders, min_price, max_price):\n",
        "    filtered_orders = []\n",
        "    for order in orders:\n",
        "        if min_price <= order[\"price\"] <= max_price:\n",
        "            filtered_orders.append(order)\n",
        "    return filtered_orders"
      ],
      "metadata": {
        "id": "BCgN60myXDf9"
      },
      "id": "BCgN60myXDf9",
      "execution_count": 12,
      "outputs": []
    },
    {
      "cell_type": "code",
      "source": [
        "orders = [\n",
        "    {\"item\": \"Book\", \"price\": 12.5},\n",
        "    {\"item\": \"Pen\", \"price\": 2.0},\n",
        "    {\"item\": \"Bag\", \"price\": 25.0}\n",
        "]\n",
        "filter_orders_by_price(orders, 5.0, 20.0)"
      ],
      "metadata": {
        "id": "xys5YwdSsEQK",
        "outputId": "20b75610-c721-4a5f-8731-d5a3014a7c7f",
        "colab": {
          "base_uri": "https://localhost:8080/"
        }
      },
      "id": "xys5YwdSsEQK",
      "execution_count": 13,
      "outputs": [
        {
          "output_type": "execute_result",
          "data": {
            "text/plain": [
              "[{'item': 'Book', 'price': 12.5}]"
            ]
          },
          "metadata": {},
          "execution_count": 13
        }
      ]
    },
    {
      "cell_type": "markdown",
      "id": "626cb2a1",
      "metadata": {
        "id": "626cb2a1"
      },
      "source": [
        "**Task 6. Группировка клиентов по странам**\n",
        "\n",
        "Напишите функцию `group_customers_by_country(customers)`, которая по списку клиентов вернёт словарь, где ключ — страна, а значение — список имён клиентов из этой страны.\n",
        "\n",
        "*Пример:*\n",
        "```python\n",
        "customers = [\n",
        "    {\"name\": \"Alice\", \"country\": \"USA\"},\n",
        "    {\"name\": \"Bob\", \"country\": \"Germany\"},\n",
        "    {\"name\": \"Charlie\", \"country\": \"USA\"}\n",
        "]\n",
        "group_customers_by_country(customers)\n",
        "# ➞ {'USA': ['Alice', 'Charlie'], 'Germany': ['Bob']}\n",
        "```"
      ]
    },
    {
      "cell_type": "code",
      "source": [
        "from collections import defaultdict\n",
        "\n",
        "def group_customers_by_country(customers):\n",
        "    grouped_customers = defaultdict(list)\n",
        "    for customer in customers:\n",
        "        country = customer[\"country\"]\n",
        "        name = customer[\"name\"]\n",
        "\n",
        "        grouped_customers[country].append(name)\n",
        "\n",
        "    return grouped_customers"
      ],
      "metadata": {
        "id": "3dNHytpHXEmq"
      },
      "id": "3dNHytpHXEmq",
      "execution_count": 15,
      "outputs": []
    },
    {
      "cell_type": "code",
      "source": [
        "customers = [\n",
        "    {\"name\": \"Alice\", \"country\": \"USA\"},\n",
        "    {\"name\": \"Bob\", \"country\": \"Germany\"},\n",
        "    {\"name\": \"Charlie\", \"country\": \"USA\"}\n",
        "]\n",
        "group_customers_by_country(customers)"
      ],
      "metadata": {
        "id": "BISM9YuKss7L",
        "outputId": "bcd11b0b-8988-4fd9-8b97-dd5b9ec71c9e",
        "colab": {
          "base_uri": "https://localhost:8080/"
        }
      },
      "id": "BISM9YuKss7L",
      "execution_count": 16,
      "outputs": [
        {
          "output_type": "execute_result",
          "data": {
            "text/plain": [
              "defaultdict(list, {'USA': ['Alice', 'Charlie'], 'Germany': ['Bob']})"
            ]
          },
          "metadata": {},
          "execution_count": 16
        }
      ]
    },
    {
      "cell_type": "markdown",
      "id": "43715441",
      "metadata": {
        "id": "43715441"
      },
      "source": [
        "**Task 7. Топ-N популярных товаров**  \n",
        "Напишите функцию `top_n_items(sales, n)`, которая возвращает список `n` товаров с наибольшим количеством продаж.\n",
        "\n",
        "*Пример:*\n",
        "```python\n",
        "sales = {\"Book\": 100, \"Pen\": 75, \"Bag\": 50}\n",
        "top_n_items(sales, 2)\n",
        "# ➞ ['Book', 'Pen']\n",
        "```"
      ]
    },
    {
      "cell_type": "code",
      "source": [
        "sales = {\"Book\": 100, \"Pen\": 75, \"Bag\": 50}"
      ],
      "metadata": {
        "id": "uiVuxlv8tFYW"
      },
      "id": "uiVuxlv8tFYW",
      "execution_count": 17,
      "outputs": []
    },
    {
      "cell_type": "code",
      "source": [
        "sales.items()"
      ],
      "metadata": {
        "id": "sVP3-718tvsV",
        "outputId": "9bff4a3f-d4c5-4230-dc63-223eccb60a41",
        "colab": {
          "base_uri": "https://localhost:8080/"
        }
      },
      "id": "sVP3-718tvsV",
      "execution_count": 19,
      "outputs": [
        {
          "output_type": "execute_result",
          "data": {
            "text/plain": [
              "dict_items([('Book', 100), ('Pen', 75), ('Bag', 50)])"
            ]
          },
          "metadata": {},
          "execution_count": 19
        }
      ]
    },
    {
      "cell_type": "code",
      "source": [
        "def top_n_items(sales: dict, n):\n",
        "    return sorted(sales.items(), key=lambda x: x[1], reverse=True)[:n]"
      ],
      "metadata": {
        "id": "pszbrbyaXGAR"
      },
      "id": "pszbrbyaXGAR",
      "execution_count": 22,
      "outputs": []
    },
    {
      "cell_type": "code",
      "source": [
        "sales = {\"Book\": 100, \"Pen\": 75, \"Bag\": 50}\n",
        "top_n_items(sales, 2)"
      ],
      "metadata": {
        "id": "mDB0sApuuMVc",
        "outputId": "86a310e9-7072-4c69-f215-b8e3f23a1fc9",
        "colab": {
          "base_uri": "https://localhost:8080/"
        }
      },
      "id": "mDB0sApuuMVc",
      "execution_count": 23,
      "outputs": [
        {
          "output_type": "execute_result",
          "data": {
            "text/plain": [
              "[('Book', 100), ('Pen', 75)]"
            ]
          },
          "metadata": {},
          "execution_count": 23
        }
      ]
    },
    {
      "cell_type": "markdown",
      "id": "ac1f3cc8",
      "metadata": {
        "id": "ac1f3cc8"
      },
      "source": [
        "**Task 8. Подсчёт ключевого слова в отзывах**\n",
        "\n",
        "Напишите функцию `count_keyword_occurrences(reviews: list[str], keyword: str)`, которая подсчитывает, сколько раз ключевое слово встречается в списке отзывов. Поиск — без учёта регистра.\n",
        "\n",
        "*Пример:*\n",
        "```python\n",
        "reviews = [\"Быстрая доставка\", \"Доставка была медленной\", \"Нет доставки\"]\n",
        "count_keyword_occurrences(reviews, \"доставка\")\n",
        "# ➞ 3\n",
        "```"
      ]
    },
    {
      "cell_type": "code",
      "source": [
        "# nltk\n",
        "\n",
        "def count_keyword_occurrences(reviews: list[str], keyword: str):\n",
        "    counter = 0\n",
        "    keyword = keyword.strip().lower()\n",
        "    for review in reviews:\n",
        "        review = review.lower()\n",
        "        if keyword in review:\n",
        "            counter += 1\n",
        "    return counter\n",
        "\n"
      ],
      "metadata": {
        "id": "rvjD9EKxRxgc"
      },
      "id": "rvjD9EKxRxgc",
      "execution_count": 24,
      "outputs": []
    },
    {
      "cell_type": "code",
      "source": [
        "reviews = [\"Быстрая доставка\", \"Доставка была медленной\", \"Нет доставки\"]\n",
        "count_keyword_occurrences(reviews, \"доставка\")"
      ],
      "metadata": {
        "id": "fGdWoy9Evqhj",
        "outputId": "2ec00dbe-5a81-423b-d578-01a88079c3e2",
        "colab": {
          "base_uri": "https://localhost:8080/"
        }
      },
      "id": "fGdWoy9Evqhj",
      "execution_count": 25,
      "outputs": [
        {
          "output_type": "execute_result",
          "data": {
            "text/plain": [
              "2"
            ]
          },
          "metadata": {},
          "execution_count": 25
        }
      ]
    },
    {
      "cell_type": "code",
      "source": [
        "x = ['wefrwef', 'wrfwrfrfrf', 'ewfewfrewr']"
      ],
      "metadata": {
        "id": "W2a0t2fTwCFg"
      },
      "id": "W2a0t2fTwCFg",
      "execution_count": 26,
      "outputs": []
    },
    {
      "cell_type": "code",
      "source": [
        "min(x)"
      ],
      "metadata": {
        "id": "kjzlQ74wwHUv",
        "outputId": "4b237b21-1e98-4c19-af9a-16ac789be675",
        "colab": {
          "base_uri": "https://localhost:8080/",
          "height": 36
        }
      },
      "id": "kjzlQ74wwHUv",
      "execution_count": 27,
      "outputs": [
        {
          "output_type": "execute_result",
          "data": {
            "text/plain": [
              "'ewfewfrewr'"
            ],
            "application/vnd.google.colaboratory.intrinsic+json": {
              "type": "string"
            }
          },
          "metadata": {},
          "execution_count": 27
        }
      ]
    },
    {
      "cell_type": "code",
      "source": [
        "max(x)"
      ],
      "metadata": {
        "id": "uZrE0pL8wS1n",
        "outputId": "00f19933-f2c0-4b39-d6c2-beac18143427",
        "colab": {
          "base_uri": "https://localhost:8080/",
          "height": 36
        }
      },
      "id": "uZrE0pL8wS1n",
      "execution_count": 28,
      "outputs": [
        {
          "output_type": "execute_result",
          "data": {
            "text/plain": [
              "'wrfwrfrfrf'"
            ],
            "application/vnd.google.colaboratory.intrinsic+json": {
              "type": "string"
            }
          },
          "metadata": {},
          "execution_count": 28
        }
      ]
    },
    {
      "cell_type": "code",
      "source": [
        "min(x, key=len)"
      ],
      "metadata": {
        "id": "rQxtHTL8wWDw",
        "outputId": "246e6773-cdc9-440a-fadb-eecd6ca8f2e3",
        "colab": {
          "base_uri": "https://localhost:8080/",
          "height": 36
        }
      },
      "id": "rQxtHTL8wWDw",
      "execution_count": 29,
      "outputs": [
        {
          "output_type": "execute_result",
          "data": {
            "text/plain": [
              "'wefrwef'"
            ],
            "application/vnd.google.colaboratory.intrinsic+json": {
              "type": "string"
            }
          },
          "metadata": {},
          "execution_count": 29
        }
      ]
    },
    {
      "cell_type": "code",
      "source": [
        "max(x, key=len)"
      ],
      "metadata": {
        "id": "F4m3eZ5TwgVA",
        "outputId": "d446598d-8afe-46f4-ecdf-18ad88eb590b",
        "colab": {
          "base_uri": "https://localhost:8080/",
          "height": 36
        }
      },
      "id": "F4m3eZ5TwgVA",
      "execution_count": 30,
      "outputs": [
        {
          "output_type": "execute_result",
          "data": {
            "text/plain": [
              "'wrfwrfrfrf'"
            ],
            "application/vnd.google.colaboratory.intrinsic+json": {
              "type": "string"
            }
          },
          "metadata": {},
          "execution_count": 30
        }
      ]
    },
    {
      "cell_type": "code",
      "source": [
        "max(x, key=lambda item: item.count('w'))"
      ],
      "metadata": {
        "id": "Kf254Vd0wjVk",
        "outputId": "a1065862-d8d8-4367-c33d-d6d52c568abf",
        "colab": {
          "base_uri": "https://localhost:8080/",
          "height": 36
        }
      },
      "id": "Kf254Vd0wjVk",
      "execution_count": 32,
      "outputs": [
        {
          "output_type": "execute_result",
          "data": {
            "text/plain": [
              "'ewfewfrewr'"
            ],
            "application/vnd.google.colaboratory.intrinsic+json": {
              "type": "string"
            }
          },
          "metadata": {},
          "execution_count": 32
        }
      ]
    },
    {
      "cell_type": "code",
      "source": [
        "x = [1, 2, 3]\n",
        "y = ['one', 'two', 'three']\n",
        "res = list(zip(x, y))"
      ],
      "metadata": {
        "id": "7HFXhr-ywwgY"
      },
      "id": "7HFXhr-ywwgY",
      "execution_count": 36,
      "outputs": []
    },
    {
      "cell_type": "code",
      "source": [
        "res"
      ],
      "metadata": {
        "id": "VlzX7Esbw6Ov",
        "outputId": "153d3789-ef04-491f-906c-c25bc0dcbd68",
        "colab": {
          "base_uri": "https://localhost:8080/"
        }
      },
      "id": "VlzX7Esbw6Ov",
      "execution_count": 37,
      "outputs": [
        {
          "output_type": "execute_result",
          "data": {
            "text/plain": [
              "[(1, 'one'), (2, 'two'), (3, 'three')]"
            ]
          },
          "metadata": {},
          "execution_count": 37
        }
      ]
    },
    {
      "cell_type": "code",
      "source": [
        "x = [1, 2, 3, 4, 5, 6, 7, 8, 9, -10, -20, -15]\n",
        "\n",
        "res = filter(lambda item: item % 2 == 0, x)\n",
        "print(list(res))"
      ],
      "metadata": {
        "id": "Keije7y3xNv3",
        "outputId": "6397550d-2331-48af-fec9-24c43151f8d3",
        "colab": {
          "base_uri": "https://localhost:8080/"
        }
      },
      "id": "Keije7y3xNv3",
      "execution_count": 38,
      "outputs": [
        {
          "output_type": "stream",
          "name": "stdout",
          "text": [
            "[2, 4, 6, 8, -10, -20]\n"
          ]
        }
      ]
    },
    {
      "cell_type": "code",
      "source": [
        "x = ['1', '23', '34']\n",
        "\n",
        "res = list(map(int, x))\n",
        "print(res)"
      ],
      "metadata": {
        "id": "kjd0CU4gxkmR",
        "outputId": "b9991f83-9768-4c75-9ae8-f020dd315b40",
        "colab": {
          "base_uri": "https://localhost:8080/"
        }
      },
      "id": "kjd0CU4gxkmR",
      "execution_count": 39,
      "outputs": [
        {
          "output_type": "stream",
          "name": "stdout",
          "text": [
            "[1, 23, 34]\n"
          ]
        }
      ]
    },
    {
      "cell_type": "code",
      "source": [
        "x = [1, 2, 3, 4, 5, 6, 10]\n",
        "\n",
        "all(x)"
      ],
      "metadata": {
        "id": "3lZ6eAoHxsOn",
        "outputId": "f04ed9ea-5a3c-47cd-b54d-3a0df98ce512",
        "colab": {
          "base_uri": "https://localhost:8080/"
        }
      },
      "id": "3lZ6eAoHxsOn",
      "execution_count": 41,
      "outputs": [
        {
          "output_type": "execute_result",
          "data": {
            "text/plain": [
              "True"
            ]
          },
          "metadata": {},
          "execution_count": 41
        }
      ]
    },
    {
      "cell_type": "code",
      "source": [
        "x = [0, 0, 0]\n",
        "\n",
        "any(x)"
      ],
      "metadata": {
        "id": "v8xLPLqJyE8l",
        "outputId": "3cf82e8f-c10d-4e44-823f-6c5011cb99db",
        "colab": {
          "base_uri": "https://localhost:8080/"
        }
      },
      "id": "v8xLPLqJyE8l",
      "execution_count": 44,
      "outputs": [
        {
          "output_type": "execute_result",
          "data": {
            "text/plain": [
              "False"
            ]
          },
          "metadata": {},
          "execution_count": 44
        }
      ]
    }
  ],
  "metadata": {
    "colab": {
      "provenance": [],
      "include_colab_link": true
    },
    "language_info": {
      "name": "python"
    },
    "kernelspec": {
      "name": "python3",
      "display_name": "Python 3"
    }
  },
  "nbformat": 4,
  "nbformat_minor": 5
}