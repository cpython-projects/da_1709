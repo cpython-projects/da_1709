{
  "nbformat": 4,
  "nbformat_minor": 0,
  "metadata": {
    "colab": {
      "provenance": [],
      "authorship_tag": "ABX9TyOXNruTdNVjfIY6aLScJtUt",
      "include_colab_link": true
    },
    "kernelspec": {
      "name": "python3",
      "display_name": "Python 3"
    },
    "language_info": {
      "name": "python"
    }
  },
  "cells": [
    {
      "cell_type": "markdown",
      "metadata": {
        "id": "view-in-github",
        "colab_type": "text"
      },
      "source": [
        "<a href=\"https://colab.research.google.com/github/cpython-projects/da_1709/blob/main/lesson_5.ipynb\" target=\"_parent\"><img src=\"https://colab.research.google.com/assets/colab-badge.svg\" alt=\"Open In Colab\"/></a>"
      ]
    },
    {
      "cell_type": "markdown",
      "source": [
        "# WHILE"
      ],
      "metadata": {
        "id": "P4S2FCNFnGVd"
      }
    },
    {
      "cell_type": "code",
      "source": [
        "i = 1\n",
        "while i < 10:\n",
        "  print(i)\n",
        "  i += 1"
      ],
      "metadata": {
        "id": "8ZuDLN_OnJDz",
        "outputId": "99da396e-80ce-4d61-c0aa-67de220d3c2f",
        "colab": {
          "base_uri": "https://localhost:8080/"
        }
      },
      "execution_count": 2,
      "outputs": [
        {
          "output_type": "stream",
          "name": "stdout",
          "text": [
            "1\n",
            "2\n",
            "3\n",
            "4\n",
            "5\n",
            "6\n",
            "7\n",
            "8\n",
            "9\n"
          ]
        }
      ]
    },
    {
      "cell_type": "code",
      "source": [
        "income = [100, 200, 300, 40, 50, 100, 123, 345, 55, 99]\n",
        "total = 0\n",
        "x = 2000\n",
        "i = 0\n",
        "while i < len(income) and total < x:\n",
        "  total += income[i]\n",
        "  i += 1\n",
        "\n",
        "print(f'day: {i + 1}, amount: {total}')"
      ],
      "metadata": {
        "id": "y1L_DbUgnUFZ",
        "outputId": "6d01d996-9379-44b6-dcdc-7271dc9572b8",
        "colab": {
          "base_uri": "https://localhost:8080/"
        }
      },
      "execution_count": 5,
      "outputs": [
        {
          "output_type": "stream",
          "name": "stdout",
          "text": [
            "day: 11, amount: 1412\n"
          ]
        }
      ]
    },
    {
      "cell_type": "code",
      "source": [
        "x = [1, 2, 3, 4, 5]\n",
        "\n",
        "i = 0\n",
        "total = 0\n",
        "\n",
        "while i < len(x) and total + x[i] < 1000:\n",
        "  total += x[i]\n",
        "  i += 1\n",
        "\n",
        "print(i)\n"
      ],
      "metadata": {
        "id": "pk-OWT2ppbNe",
        "outputId": "5750be3a-9817-4bda-ceb9-60fe35c74600",
        "colab": {
          "base_uri": "https://localhost:8080/"
        }
      },
      "execution_count": 8,
      "outputs": [
        {
          "output_type": "stream",
          "name": "stdout",
          "text": [
            "5\n"
          ]
        }
      ]
    },
    {
      "cell_type": "code",
      "source": [
        "# break, continue\n",
        "\n",
        "\n",
        "x = [1, 1, 3, 4, 5, 56, 7]\n",
        "total = 0\n",
        "\n",
        "i = 0\n",
        "while i < len(x):\n",
        "  if not x[i] % 2:\n",
        "    break\n",
        "  total += x[i]\n",
        "  i += 1\n",
        "\n",
        "print(total)"
      ],
      "metadata": {
        "id": "_85QYpeep_V8",
        "outputId": "7c9ab723-2f49-4e99-a691-1bfb7fffdc96",
        "colab": {
          "base_uri": "https://localhost:8080/"
        }
      },
      "execution_count": 10,
      "outputs": [
        {
          "output_type": "stream",
          "name": "stdout",
          "text": [
            "5\n"
          ]
        }
      ]
    },
    {
      "cell_type": "code",
      "source": [
        "x = [1, 2, 3]\n",
        "\n",
        "total = 0\n",
        "i = 0\n",
        "\n",
        "while i < len(x):\n",
        "\n",
        "  if x[i] % 2:\n",
        "    total += x[i]\n",
        "  i += 1\n",
        "\n",
        "print(total)\n"
      ],
      "metadata": {
        "id": "loqKmqi_qvl4",
        "outputId": "3796d92e-cd43-4c1c-aaef-198a6f1129a9",
        "colab": {
          "base_uri": "https://localhost:8080/"
        }
      },
      "execution_count": 15,
      "outputs": [
        {
          "output_type": "stream",
          "name": "stdout",
          "text": [
            "4\n"
          ]
        }
      ]
    },
    {
      "cell_type": "code",
      "source": [
        "total = 0\n",
        "\n",
        "while True:\n",
        "  x = int(input('x>>'))\n",
        "  if x == 0:\n",
        "    break\n",
        "  total += x\n",
        "\n",
        "print(total)\n"
      ],
      "metadata": {
        "id": "zxkF2VDYsImw",
        "outputId": "e4a5944d-f2b5-4249-e3b0-5b4683974322",
        "colab": {
          "base_uri": "https://localhost:8080/"
        }
      },
      "execution_count": 16,
      "outputs": [
        {
          "output_type": "stream",
          "name": "stdout",
          "text": [
            "x>>78\n",
            "x>>656\n",
            "x>>45\n",
            "x>>87\n",
            "x>>56\n",
            "x>>0\n",
            "922\n"
          ]
        }
      ]
    },
    {
      "cell_type": "code",
      "source": [
        "x = [1, 2, -3, 4, -5, 43, -23, 23]\n",
        "total = 0\n",
        "for item in x:\n",
        "  if item > 0:\n",
        "    total += item\n",
        "\n",
        "print(total)"
      ],
      "metadata": {
        "id": "mxGeH-9uspVP",
        "outputId": "5bd444d5-e018-46ab-a357-e977c0e13968",
        "colab": {
          "base_uri": "https://localhost:8080/"
        }
      },
      "execution_count": 17,
      "outputs": [
        {
          "output_type": "stream",
          "name": "stdout",
          "text": [
            "73\n"
          ]
        }
      ]
    },
    {
      "cell_type": "markdown",
      "source": [
        "# Задачи"
      ],
      "metadata": {
        "id": "-Pki4WBER-KX"
      }
    },
    {
      "cell_type": "markdown",
      "source": [
        "**1. Очистка данных (простое удаление значений)**\n",
        "\n",
        "У тебя есть список значений с пропусками:\n",
        "\n",
        "```python\n",
        "data = [120, None, 150, 200, None, 175, 190]\n",
        "```\n",
        "\n",
        "**Задача:** убрать `None` и получить чистый список."
      ],
      "metadata": {
        "id": "r6guuYh_SVF0"
      }
    },
    {
      "cell_type": "code",
      "execution_count": 19,
      "metadata": {
        "id": "PU3Q8N-AR0wc",
        "outputId": "66062c3f-75db-482e-fe3f-3930984a0975",
        "colab": {
          "base_uri": "https://localhost:8080/"
        }
      },
      "outputs": [
        {
          "output_type": "stream",
          "name": "stdout",
          "text": [
            "[120, 150, 200, 175, 190]\n"
          ]
        }
      ],
      "source": [
        "data = [120, None, 150, 200, None, 175, 190]\n",
        "\n",
        "x = []\n",
        "\n",
        "for item in data:\n",
        "  if item is not None:\n",
        "    x.append(item)\n",
        "\n",
        "print(x)"
      ]
    },
    {
      "cell_type": "code",
      "source": [
        "import statistics\n",
        "\n",
        "data = [120, None, 150, 200, None, 175, 190]\n",
        "\n",
        "\n",
        "avg = 0\n",
        "count = 0\n",
        "\n",
        "for item in data:\n",
        "  if item is not None:\n",
        "    avg += item\n",
        "    count += 1\n",
        "\n",
        "avg = avg / count\n",
        "print(avg)\n",
        "\n",
        "\n",
        "\n",
        "for i, item in enumerate(data):\n",
        "  if item is None:\n",
        "    data[i] = avg\n",
        "\n",
        "print(data)"
      ],
      "metadata": {
        "id": "BZtDGneYwKwf",
        "outputId": "bc3c8d03-344c-4720-febe-fffaa24a8de4",
        "colab": {
          "base_uri": "https://localhost:8080/"
        }
      },
      "execution_count": 23,
      "outputs": [
        {
          "output_type": "stream",
          "name": "stdout",
          "text": [
            "167.0\n",
            "[120, 167.0, 150, 200, 167.0, 175, 190]\n"
          ]
        }
      ]
    },
    {
      "cell_type": "code",
      "source": [
        "x = [0, 10]\n",
        "\n",
        "y = x[0]\n",
        "\n",
        "y = 100\n",
        "\n",
        "\n",
        "print(x)"
      ],
      "metadata": {
        "id": "SuQ22fRLxJO_",
        "outputId": "8f04ae76-ba47-4867-b08b-d7b8a4d8e40f",
        "colab": {
          "base_uri": "https://localhost:8080/"
        }
      },
      "execution_count": 22,
      "outputs": [
        {
          "output_type": "stream",
          "name": "stdout",
          "text": [
            "[0, 10]\n"
          ]
        }
      ]
    },
    {
      "cell_type": "markdown",
      "source": [
        "**2. Работа с уникальными значениями (сортировка дат)**\n",
        "\n",
        "Список дат посещений:\n",
        "\n",
        "```python\n",
        "dates = [\"2025-01-05\", \"2025-01-07\", \"2025-01-05\", \"2025-01-09\", \"2025-01-07\"]\n",
        "```\n",
        "\n",
        "**Задача:** оставить только уникальные даты и отсортировать их."
      ],
      "metadata": {
        "id": "x1eRmc9kSZVz"
      }
    },
    {
      "cell_type": "code",
      "source": [
        "dates = [\"2025-01-05\", \"2025-01-07\", \"2025-01-05\", \"2025-01-09\", \"2025-01-07\"]\n",
        "\n",
        "unique_dates = []\n",
        "\n",
        "for item in dates:\n",
        "  if item not in unique_dates:\n",
        "    unique_dates.append(item)\n",
        "\n",
        "print(unique_dates)"
      ],
      "metadata": {
        "id": "XO99NtfQSeYy",
        "outputId": "a5aea7db-79c3-458c-df4f-f3017a4fa333",
        "colab": {
          "base_uri": "https://localhost:8080/"
        }
      },
      "execution_count": 25,
      "outputs": [
        {
          "output_type": "stream",
          "name": "stdout",
          "text": [
            "['2025-01-05', '2025-01-07', '2025-01-09']\n"
          ]
        }
      ]
    },
    {
      "cell_type": "code",
      "source": [
        "import datetime\n",
        "\n",
        "for i, item in enumerate(unique_dates):\n",
        "  unique_dates[i] = datetime.datetime.strptime(item, '%Y-%m-%d')\n",
        "\n",
        "print(unique_dates)"
      ],
      "metadata": {
        "id": "J9C3WnEsyfuJ",
        "outputId": "ab6168ee-666e-4692-d1d2-b7faabdf4a4d",
        "colab": {
          "base_uri": "https://localhost:8080/"
        }
      },
      "execution_count": 26,
      "outputs": [
        {
          "output_type": "stream",
          "name": "stdout",
          "text": [
            "[datetime.datetime(2025, 1, 5, 0, 0), datetime.datetime(2025, 1, 7, 0, 0), datetime.datetime(2025, 1, 9, 0, 0)]\n"
          ]
        }
      ]
    },
    {
      "cell_type": "code",
      "source": [
        "unique_dates.sort()\n",
        "print(unique_dates)"
      ],
      "metadata": {
        "id": "uojzf-gqy91h",
        "outputId": "9f5465e4-c006-438d-ac2b-79269d8d4d08",
        "colab": {
          "base_uri": "https://localhost:8080/"
        }
      },
      "execution_count": 27,
      "outputs": [
        {
          "output_type": "stream",
          "name": "stdout",
          "text": [
            "[datetime.datetime(2025, 1, 5, 0, 0), datetime.datetime(2025, 1, 7, 0, 0), datetime.datetime(2025, 1, 9, 0, 0)]\n"
          ]
        }
      ]
    },
    {
      "cell_type": "markdown",
      "source": [
        "**3. Подсчёт конверсии**\n",
        "\n",
        "Список пользователей и факт покупки:\n",
        "\n",
        "```python\n",
        "users = [\"Anna\", \"Boris\", \"Clara\", \"David\", \"Eva\"]\n",
        "purchases = [1, 0, 1, 0, 1]  # 1 — покупка, 0 — нет\n",
        "```\n",
        "\n",
        "**Задача:** посчитать долю пользователей, которые совершили покупку."
      ],
      "metadata": {
        "id": "Rfhx6fZbSenx"
      }
    },
    {
      "cell_type": "code",
      "source": [
        "users = [\"Anna\", \"Boris\", \"Clara\", \"David\", \"Eva\"]\n",
        "purchases = [1, 0, 1, 0, 1]  # 1 — покупка, 0 — нет\n",
        "\n",
        "number_of_users = len(users)\n",
        "number_of_orders = sum(purchases)\n",
        "\n",
        "conversion = number_of_orders / number_of_users\n",
        "\n",
        "print(conversion)"
      ],
      "metadata": {
        "id": "rGoB8rsGSkPb",
        "outputId": "ad698809-94ba-4192-c10c-cd75c97e7abb",
        "colab": {
          "base_uri": "https://localhost:8080/"
        }
      },
      "execution_count": 29,
      "outputs": [
        {
          "output_type": "stream",
          "name": "stdout",
          "text": [
            "0.6\n"
          ]
        }
      ]
    },
    {
      "cell_type": "markdown",
      "source": [
        "**4. Проверка тренда**\n",
        "\n",
        "Данные о посещениях сайта по дням:\n",
        "\n",
        "```python\n",
        "visits = [100, 120, 130, 140, 200, 220, 210]\n",
        "```\n",
        "\n",
        "**Задача:** проверить, растёт ли список посещений (каждое следующее значение ≥ предыдущего)."
      ],
      "metadata": {
        "id": "iO5nwHh3Sklf"
      }
    },
    {
      "cell_type": "code",
      "source": [
        "visits = [100, 120, 130, 140, 200, 220, 210]\n",
        "\n",
        "trend = sorted(visits)\n",
        "\n",
        "result = 'Yes' if visits == trend else 'No'\n",
        "print(result)"
      ],
      "metadata": {
        "id": "5d7b6RTwSrHZ",
        "outputId": "1d6d25b8-f6d7-448a-fe32-f3d493c44dce",
        "colab": {
          "base_uri": "https://localhost:8080/"
        }
      },
      "execution_count": 30,
      "outputs": [
        {
          "output_type": "stream",
          "name": "stdout",
          "text": [
            "No\n"
          ]
        }
      ]
    },
    {
      "cell_type": "code",
      "source": [
        "visits = [100, 120, 130, 140, 200, 220, 210]\n",
        "\n",
        "trend = True\n",
        "\n",
        "for i in range(1, len(visits)):\n",
        "  if visits[i] < visits[i - 1]:\n",
        "    trend = False\n",
        "    break\n",
        "\n",
        "result = 'Yes' if trend else 'No'\n",
        "print(result)"
      ],
      "metadata": {
        "id": "vw0r3l4g1A-E",
        "outputId": "651000f5-27e5-4967-ff61-648e409e12b1",
        "colab": {
          "base_uri": "https://localhost:8080/"
        }
      },
      "execution_count": 31,
      "outputs": [
        {
          "output_type": "stream",
          "name": "stdout",
          "text": [
            "No\n"
          ]
        }
      ]
    },
    {
      "cell_type": "markdown",
      "source": [
        "**5. Разделение на группы (частые и редкие)**\n",
        "\n",
        "Данные о количестве сессий на пользователя:\n",
        "\n",
        "```python\n",
        "sessions = [5, 12, 7, 20, 3, 8, 15, 10]\n",
        "```\n",
        "\n",
        "**Задача:** разделить пользователей на две группы:\n",
        "\n",
        "* \"частые\" (>=10)\n",
        "* \"редкие\" (<10)."
      ],
      "metadata": {
        "id": "rJ_MaKKgSrcS"
      }
    },
    {
      "cell_type": "code",
      "source": [
        "sessions = [5, 12, 7, 20, 3, 8, 15, 10]\n",
        "\n",
        "group_1 = []\n",
        "group_2 = []\n",
        "\n",
        "for item in sessions:\n",
        "  if item >= 10:\n",
        "    group_1.append(item)\n",
        "  else:\n",
        "    group_2.append(item)\n",
        "\n",
        "print(group_1)\n",
        "print(group_2)"
      ],
      "metadata": {
        "id": "8HF0fApVSwWw",
        "outputId": "3be2f110-ea09-4d67-f97c-de918cea1a24",
        "colab": {
          "base_uri": "https://localhost:8080/"
        }
      },
      "execution_count": 32,
      "outputs": [
        {
          "output_type": "stream",
          "name": "stdout",
          "text": [
            "[12, 20, 15, 10]\n",
            "[5, 7, 3, 8]\n"
          ]
        }
      ]
    },
    {
      "cell_type": "markdown",
      "source": [
        "**6. Средний рост пользователей по полу**\n",
        "\n",
        "Рост и пол пользователей:\n",
        "\n",
        "```python\n",
        "heights = [170, 165, 180, 155, 175, 160]\n",
        "gender = [\"M\", \"F\", \"M\", \"F\", \"M\", \"F\"]\n",
        "```\n",
        "\n",
        "**Задача:** посчитать средний рост отдельно для мужчин и отдельно для женщин."
      ],
      "metadata": {
        "id": "Ti7Vr3_YSwlF"
      }
    },
    {
      "cell_type": "code",
      "source": [
        "import statistics\n",
        "\n",
        "heights = [170, 165, 180, 155, 175, 160]\n",
        "gender = [\"M\", \"F\", \"M\", \"F\", \"M\", \"F\"]\n",
        "\n",
        "\n",
        "h_f = []\n",
        "h_m = []\n",
        "\n",
        "for i, item in enumerate(gender):\n",
        "  if item == 'F':\n",
        "    h_f.append(heights[i])\n",
        "  else:\n",
        "    h_m.append(heights[i])\n",
        "\n",
        "print(f'Average height of women: {statistics.mean(h_f):.0f}')\n",
        "print(f'Average height of men: {statistics.mean(h_m):.0f}')"
      ],
      "metadata": {
        "id": "wOSTTnw9S1e9",
        "outputId": "3ed5bc6f-3c17-4468-dab2-be1aeb0b8767",
        "colab": {
          "base_uri": "https://localhost:8080/"
        }
      },
      "execution_count": 37,
      "outputs": [
        {
          "output_type": "stream",
          "name": "stdout",
          "text": [
            "Average height of women: 160\n",
            "Average height of men: 175\n"
          ]
        }
      ]
    },
    {
      "cell_type": "code",
      "source": [
        "x = [1, 2, 3, 4, 5, 6, 7]\n",
        "y = ['one', 'two', 'three']\n",
        "z = ['a', 'b', 'c']\n",
        "\n",
        "res = list(zip(y, x, z))\n",
        "res"
      ],
      "metadata": {
        "id": "i7tkOOBE4TiR",
        "outputId": "5b49fa68-077a-4c5d-d703-29f6f61c795a",
        "colab": {
          "base_uri": "https://localhost:8080/"
        }
      },
      "execution_count": 43,
      "outputs": [
        {
          "output_type": "execute_result",
          "data": {
            "text/plain": [
              "[('one', 1, 'a'), ('two', 2, 'b'), ('three', 3, 'c')]"
            ]
          },
          "metadata": {},
          "execution_count": 43
        }
      ]
    },
    {
      "cell_type": "code",
      "source": [
        "import statistics\n",
        "\n",
        "heights = [170, 165, 180, 155, 175, 160]\n",
        "gender = [\"M\", \"F\", \"M\", \"F\", \"M\", \"F\"]\n",
        "\n",
        "\n",
        "h_f = []\n",
        "h_m = []\n",
        "\n",
        "for h, g in zip(heights, gender):\n",
        "  if g == 'F':\n",
        "    h_f.append(h)\n",
        "  else:\n",
        "    h_m.append(h)\n",
        "\n",
        "print(f'Average height of women: {statistics.mean(h_f):.0f}')\n",
        "print(f'Average height of men: {statistics.mean(h_m):.0f}')"
      ],
      "metadata": {
        "id": "JiYXWUd15ecg",
        "outputId": "95ad701e-3e66-4bd2-b343-794697067d3d",
        "colab": {
          "base_uri": "https://localhost:8080/"
        }
      },
      "execution_count": 44,
      "outputs": [
        {
          "output_type": "stream",
          "name": "stdout",
          "text": [
            "Average height of women: 160\n",
            "Average height of men: 175\n"
          ]
        }
      ]
    },
    {
      "cell_type": "markdown",
      "source": [
        "**7. Нормализация данных**\n",
        "\n",
        "Оценки пользователей:\n",
        "\n",
        "```python\n",
        "scores = [10, 20, 30, 40, 50]\n",
        "```\n",
        "\n",
        "**Задача:** перевести значения в шкалу от 0 до 1 (**min–max нормализация**)."
      ],
      "metadata": {
        "id": "Aj97uXAFS1wI"
      }
    },
    {
      "cell_type": "code",
      "source": [],
      "metadata": {
        "id": "v2tNgBuZS-rh"
      },
      "execution_count": null,
      "outputs": []
    },
    {
      "cell_type": "markdown",
      "source": [
        "**8. Скользящее среднее**\n",
        "\n",
        "Продажи по дням:\n",
        "\n",
        "```python\n",
        "sales = [100, 120, 130, 90, 80, 150, 170, 160]\n",
        "```\n",
        "\n",
        "**Задача:** посчитать **3-дневное скользящее среднее**."
      ],
      "metadata": {
        "id": "ptUJvetjS_DL"
      }
    },
    {
      "cell_type": "code",
      "source": [],
      "metadata": {
        "id": "x1S3p98DS_sl"
      },
      "execution_count": null,
      "outputs": []
    },
    {
      "cell_type": "code",
      "source": [
        "import random\n",
        "\n",
        "random.random()"
      ],
      "metadata": {
        "id": "J1ipVfCQ5-pK",
        "outputId": "2b01c1db-2545-4c5e-eb10-44cdc6700293",
        "colab": {
          "base_uri": "https://localhost:8080/"
        }
      },
      "execution_count": 45,
      "outputs": [
        {
          "output_type": "execute_result",
          "data": {
            "text/plain": [
              "0.899716895411339"
            ]
          },
          "metadata": {},
          "execution_count": 45
        }
      ]
    },
    {
      "cell_type": "code",
      "source": [
        "random.randint(1, 10)"
      ],
      "metadata": {
        "id": "S2Kbm8ID6Q1d",
        "outputId": "09e2c00c-3e22-40ba-d700-9eb4733422b5",
        "colab": {
          "base_uri": "https://localhost:8080/"
        }
      },
      "execution_count": 46,
      "outputs": [
        {
          "output_type": "execute_result",
          "data": {
            "text/plain": [
              "6"
            ]
          },
          "metadata": {},
          "execution_count": 46
        }
      ]
    },
    {
      "cell_type": "code",
      "source": [
        "random.randrange(1, 10, 2)"
      ],
      "metadata": {
        "id": "cDbJ-RFT6WW0",
        "outputId": "0bb22134-126b-4559-c6a6-40b66ce68da0",
        "colab": {
          "base_uri": "https://localhost:8080/"
        }
      },
      "execution_count": 47,
      "outputs": [
        {
          "output_type": "execute_result",
          "data": {
            "text/plain": [
              "1"
            ]
          },
          "metadata": {},
          "execution_count": 47
        }
      ]
    },
    {
      "cell_type": "code",
      "source": [
        "x = [1, 2, 3, 4]\n",
        "\n",
        "random.shuffle(x)\n",
        "\n",
        "print(x)"
      ],
      "metadata": {
        "id": "lZhkXxMC6gD1",
        "outputId": "61403bdf-319a-486e-e96a-3e036d02c142",
        "colab": {
          "base_uri": "https://localhost:8080/"
        }
      },
      "execution_count": 58,
      "outputs": [
        {
          "output_type": "stream",
          "name": "stdout",
          "text": [
            "[4, 3, 1, 2]\n"
          ]
        }
      ]
    },
    {
      "cell_type": "code",
      "source": [
        "random.choice(x)"
      ],
      "metadata": {
        "id": "MgoDDlCd6si2",
        "outputId": "bc0a3d9d-8b73-42db-84ea-698c056e7078",
        "colab": {
          "base_uri": "https://localhost:8080/"
        }
      },
      "execution_count": 65,
      "outputs": [
        {
          "output_type": "execute_result",
          "data": {
            "text/plain": [
              "1"
            ]
          },
          "metadata": {},
          "execution_count": 65
        }
      ]
    },
    {
      "cell_type": "code",
      "source": [
        "random.choices(x, k=2)"
      ],
      "metadata": {
        "id": "B5SPXBKM6xce",
        "outputId": "263c914c-6abb-47cd-9072-45aa48c824f1",
        "colab": {
          "base_uri": "https://localhost:8080/"
        }
      },
      "execution_count": 75,
      "outputs": [
        {
          "output_type": "execute_result",
          "data": {
            "text/plain": [
              "[3, 2]"
            ]
          },
          "metadata": {},
          "execution_count": 75
        }
      ]
    },
    {
      "cell_type": "code",
      "source": [
        "x = []\n",
        "\n",
        "for i in range(10):\n",
        "  tmp = random.randint(1, 100)\n",
        "  x.append(tmp)\n",
        "\n",
        "print(x)"
      ],
      "metadata": {
        "id": "5FmzfCLQ68zt",
        "outputId": "8e22bb93-0dcb-4df8-eaad-a5b97b28e263",
        "colab": {
          "base_uri": "https://localhost:8080/"
        }
      },
      "execution_count": 80,
      "outputs": [
        {
          "output_type": "stream",
          "name": "stdout",
          "text": [
            "[84, 63, 88, 8, 84, 26, 49, 56, 98, 100]\n"
          ]
        }
      ]
    },
    {
      "cell_type": "code",
      "source": [
        "x = [random.randint(1, 100) for i in range(10)]\n",
        "print(x)"
      ],
      "metadata": {
        "id": "8yfrFDr77aJp",
        "outputId": "35c72592-3cdc-4f34-808b-d43a9dc52046",
        "colab": {
          "base_uri": "https://localhost:8080/"
        }
      },
      "execution_count": 83,
      "outputs": [
        {
          "output_type": "stream",
          "name": "stdout",
          "text": [
            "[72, 34, 51, 35, 69, 48, 88, 20, 41, 55]\n"
          ]
        }
      ]
    },
    {
      "cell_type": "code",
      "source": [
        "x = [7, 8, 9, 5, 3]\n",
        "\n",
        "y = [item * 2 for item in x]\n",
        "\n",
        "print(y)"
      ],
      "metadata": {
        "id": "X6_35W3t7j9c",
        "outputId": "0460b92b-7cf9-4d1d-e159-919d889fb304",
        "colab": {
          "base_uri": "https://localhost:8080/"
        }
      },
      "execution_count": 84,
      "outputs": [
        {
          "output_type": "stream",
          "name": "stdout",
          "text": [
            "[14, 16, 18, 10, 6]\n"
          ]
        }
      ]
    }
  ]
}