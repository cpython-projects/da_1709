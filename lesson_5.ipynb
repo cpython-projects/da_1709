{
  "nbformat": 4,
  "nbformat_minor": 0,
  "metadata": {
    "colab": {
      "provenance": [],
      "authorship_tag": "ABX9TyMzBtFjBvk4oUHPrXYaeq81",
      "include_colab_link": true
    },
    "kernelspec": {
      "name": "python3",
      "display_name": "Python 3"
    },
    "language_info": {
      "name": "python"
    }
  },
  "cells": [
    {
      "cell_type": "markdown",
      "metadata": {
        "id": "view-in-github",
        "colab_type": "text"
      },
      "source": [
        "<a href=\"https://colab.research.google.com/github/cpython-projects/da_1709/blob/main/lesson_5.ipynb\" target=\"_parent\"><img src=\"https://colab.research.google.com/assets/colab-badge.svg\" alt=\"Open In Colab\"/></a>"
      ]
    },
    {
      "cell_type": "markdown",
      "source": [
        "# Задачи"
      ],
      "metadata": {
        "id": "-Pki4WBER-KX"
      }
    },
    {
      "cell_type": "markdown",
      "source": [
        "**1. Очистка данных (простое удаление значений)**\n",
        "\n",
        "У тебя есть список значений с пропусками:\n",
        "\n",
        "```python\n",
        "data = [120, None, 150, 200, None, 175, 190]\n",
        "```\n",
        "\n",
        "**Задача:** убрать `None` и получить чистый список."
      ],
      "metadata": {
        "id": "r6guuYh_SVF0"
      }
    },
    {
      "cell_type": "code",
      "execution_count": null,
      "metadata": {
        "id": "PU3Q8N-AR0wc"
      },
      "outputs": [],
      "source": []
    },
    {
      "cell_type": "markdown",
      "source": [
        "**2. Работа с уникальными значениями (сортировка дат)**\n",
        "\n",
        "Список дат посещений:\n",
        "\n",
        "```python\n",
        "dates = [\"2025-01-05\", \"2025-01-07\", \"2025-01-05\", \"2025-01-09\", \"2025-01-07\"]\n",
        "```\n",
        "\n",
        "**Задача:** оставить только уникальные даты и отсортировать их."
      ],
      "metadata": {
        "id": "x1eRmc9kSZVz"
      }
    },
    {
      "cell_type": "code",
      "source": [],
      "metadata": {
        "id": "XO99NtfQSeYy"
      },
      "execution_count": null,
      "outputs": []
    },
    {
      "cell_type": "markdown",
      "source": [
        "**3. Подсчёт конверсии**\n",
        "\n",
        "Список пользователей и факт покупки:\n",
        "\n",
        "```python\n",
        "users = [\"Anna\", \"Boris\", \"Clara\", \"David\", \"Eva\"]\n",
        "purchases = [1, 0, 1, 0, 1]  # 1 — покупка, 0 — нет\n",
        "```\n",
        "\n",
        "**Задача:** посчитать долю пользователей, которые совершили покупку."
      ],
      "metadata": {
        "id": "Rfhx6fZbSenx"
      }
    },
    {
      "cell_type": "code",
      "source": [],
      "metadata": {
        "id": "rGoB8rsGSkPb"
      },
      "execution_count": null,
      "outputs": []
    },
    {
      "cell_type": "markdown",
      "source": [
        "**4. Проверка тренда**\n",
        "\n",
        "Данные о посещениях сайта по дням:\n",
        "\n",
        "```python\n",
        "visits = [100, 120, 130, 140, 200, 220, 210]\n",
        "```\n",
        "\n",
        "**Задача:** проверить, растёт ли список посещений (каждое следующее значение ≥ предыдущего)."
      ],
      "metadata": {
        "id": "iO5nwHh3Sklf"
      }
    },
    {
      "cell_type": "code",
      "source": [],
      "metadata": {
        "id": "5d7b6RTwSrHZ"
      },
      "execution_count": null,
      "outputs": []
    },
    {
      "cell_type": "markdown",
      "source": [
        "**5. Разделение на группы (частые и редкие)**\n",
        "\n",
        "Данные о количестве сессий на пользователя:\n",
        "\n",
        "```python\n",
        "sessions = [5, 12, 7, 20, 3, 8, 15, 10]\n",
        "```\n",
        "\n",
        "**Задача:** разделить пользователей на две группы:\n",
        "\n",
        "* \"частые\" (>=10)\n",
        "* \"редкие\" (<10)."
      ],
      "metadata": {
        "id": "rJ_MaKKgSrcS"
      }
    },
    {
      "cell_type": "code",
      "source": [],
      "metadata": {
        "id": "8HF0fApVSwWw"
      },
      "execution_count": null,
      "outputs": []
    },
    {
      "cell_type": "markdown",
      "source": [
        "**6. Средний рост пользователей по полу**\n",
        "\n",
        "Рост и пол пользователей:\n",
        "\n",
        "```python\n",
        "heights = [170, 165, 180, 155, 175, 160]\n",
        "gender = [\"M\", \"F\", \"M\", \"F\", \"M\", \"F\"]\n",
        "```\n",
        "\n",
        "**Задача:** посчитать средний рост отдельно для мужчин и отдельно для женщин."
      ],
      "metadata": {
        "id": "Ti7Vr3_YSwlF"
      }
    },
    {
      "cell_type": "code",
      "source": [],
      "metadata": {
        "id": "wOSTTnw9S1e9"
      },
      "execution_count": null,
      "outputs": []
    },
    {
      "cell_type": "markdown",
      "source": [
        "**7. Нормализация данных**\n",
        "\n",
        "Оценки пользователей:\n",
        "\n",
        "```python\n",
        "scores = [10, 20, 30, 40, 50]\n",
        "```\n",
        "\n",
        "**Задача:** перевести значения в шкалу от 0 до 1 (**min–max нормализация**)."
      ],
      "metadata": {
        "id": "Aj97uXAFS1wI"
      }
    },
    {
      "cell_type": "code",
      "source": [],
      "metadata": {
        "id": "v2tNgBuZS-rh"
      },
      "execution_count": null,
      "outputs": []
    },
    {
      "cell_type": "markdown",
      "source": [
        "**8. Скользящее среднее**\n",
        "\n",
        "Продажи по дням:\n",
        "\n",
        "```python\n",
        "sales = [100, 120, 130, 90, 80, 150, 170, 160]\n",
        "```\n",
        "\n",
        "**Задача:** посчитать **3-дневное скользящее среднее**."
      ],
      "metadata": {
        "id": "ptUJvetjS_DL"
      }
    },
    {
      "cell_type": "code",
      "source": [],
      "metadata": {
        "id": "x1S3p98DS_sl"
      },
      "execution_count": null,
      "outputs": []
    }
  ]
}