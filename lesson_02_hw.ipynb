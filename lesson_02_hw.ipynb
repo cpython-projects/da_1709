{
  "nbformat": 4,
  "nbformat_minor": 0,
  "metadata": {
    "colab": {
      "provenance": [],
      "authorship_tag": "ABX9TyOYRRdiHfjkMczBjiUmeDMn",
      "include_colab_link": true
    },
    "kernelspec": {
      "name": "python3",
      "display_name": "Python 3"
    },
    "language_info": {
      "name": "python"
    }
  },
  "cells": [
    {
      "cell_type": "markdown",
      "metadata": {
        "id": "view-in-github",
        "colab_type": "text"
      },
      "source": [
        "<a href=\"https://colab.research.google.com/github/cpython-projects/da_1709/blob/main/lesson_02_hw.ipynb\" target=\"_parent\"><img src=\"https://colab.research.google.com/assets/colab-badge.svg\" alt=\"Open In Colab\"/></a>"
      ]
    },
    {
      "cell_type": "markdown",
      "source": [
        "**Task 1.** Цена товара — 799.99. Скидка — 15%. Вычислите сумму скидки и итоговую цену."
      ],
      "metadata": {
        "id": "GbrNhozjvmLP"
      }
    },
    {
      "cell_type": "code",
      "execution_count": 3,
      "metadata": {
        "id": "xC10NTu3vKDb",
        "outputId": "4c818726-6bf3-4d7b-cbec-a19f210b40d8",
        "colab": {
          "base_uri": "https://localhost:8080/"
        }
      },
      "outputs": [
        {
          "output_type": "stream",
          "name": "stdout",
          "text": [
            "Discount: 120.00\n",
            "Total price: 679.99\n"
          ]
        }
      ],
      "source": [
        "price = 799.99\n",
        "discount = 0.15\n",
        "\n",
        "\n",
        "print(f'Discount: {price * discount:.2f}')\n",
        "print(f'Total price: {price * (1 - discount):.2f}')"
      ]
    },
    {
      "cell_type": "markdown",
      "source": [
        "**Task 2.** Один товар стоит 349.75. Клиент купил 4 штуки. Найдите общую стоимость заказа."
      ],
      "metadata": {
        "id": "Raw8jmMtvnaQ"
      }
    },
    {
      "cell_type": "code",
      "source": [
        "item = 349.75\n",
        "quantity = 4\n",
        "\n",
        "\n",
        "print(f'Total price: {item * quantity:.2f}')"
      ],
      "metadata": {
        "id": "53ShW0lzvns1",
        "outputId": "432816de-09de-445a-a1c5-cd74e57307f6",
        "colab": {
          "base_uri": "https://localhost:8080/"
        }
      },
      "execution_count": 4,
      "outputs": [
        {
          "output_type": "stream",
          "name": "stdout",
          "text": [
            "Total price: 1399.00\n"
          ]
        }
      ]
    },
    {
      "cell_type": "markdown",
      "source": [
        "**Task 3.** Цена товара в евро: 129.99.  \n",
        "Курс: 1 евро = 1.08 долл. США.  \n",
        "Найдите цену товара в долл США."
      ],
      "metadata": {
        "id": "EGHCp0BOvn6r"
      }
    },
    {
      "cell_type": "code",
      "source": [
        "price = 129.99\n",
        "rate = 1.08\n",
        "\n",
        "print(f'Price in ISD is {price * rate:.2f}')"
      ],
      "metadata": {
        "id": "ZRTeaODyvoFl",
        "outputId": "bd6e7fe0-3fc6-4aca-f4e5-212eccb7ddc5",
        "colab": {
          "base_uri": "https://localhost:8080/"
        }
      },
      "execution_count": 5,
      "outputs": [
        {
          "output_type": "stream",
          "name": "stdout",
          "text": [
            "Price in ISD is 140.39\n"
          ]
        }
      ]
    },
    {
      "cell_type": "markdown",
      "source": [
        "**Task 4.** Цена товара 543.6789.  \n",
        "Округлите:\n",
        "-  до двух знаков после запятой\n",
        "-  до целого числа"
      ],
      "metadata": {
        "id": "a-Zh4HENvoQ4"
      }
    },
    {
      "cell_type": "code",
      "source": [
        "price = 542.5"
      ],
      "metadata": {
        "id": "HX_2d1jZvoac"
      },
      "execution_count": 14,
      "outputs": []
    },
    {
      "cell_type": "code",
      "source": [
        "print(f'Price: {price:.2f}')\n",
        "\n",
        "rounded_price = round(price, 2)\n",
        "print(f'Price: {rounded_price}')"
      ],
      "metadata": {
        "id": "s9ylYywCfo0P",
        "outputId": "9cc83f86-22dd-4334-957b-3fdce4a8e5ad",
        "colab": {
          "base_uri": "https://localhost:8080/"
        }
      },
      "execution_count": 15,
      "outputs": [
        {
          "output_type": "stream",
          "name": "stdout",
          "text": [
            "Price: 542.50\n",
            "Price: 542.5\n"
          ]
        }
      ]
    },
    {
      "cell_type": "code",
      "source": [
        "print(f'Price: {round(price)}')"
      ],
      "metadata": {
        "id": "axB0NtL7f1m5",
        "outputId": "ce262988-5c59-48f8-fa83-0bd7fb0f9c1e",
        "colab": {
          "base_uri": "https://localhost:8080/"
        }
      },
      "execution_count": 16,
      "outputs": [
        {
          "output_type": "stream",
          "name": "stdout",
          "text": [
            "Price: 542\n"
          ]
        }
      ]
    },
    {
      "cell_type": "markdown",
      "source": [
        "**Task 5.** Цена без налога: 999.50 грн. НДС: 20%  \n",
        "Найдите сумму налога и итоговую цену, округлив результат до двух знаков после запятой"
      ],
      "metadata": {
        "id": "y7EvR4VPvolD"
      }
    },
    {
      "cell_type": "code",
      "source": [
        "price = 999.5\n",
        "\n",
        "tax = 0.2\n",
        "\n",
        "\n",
        "print(f'Tax: {price * tax:.2f}')\n",
        "print(f'Total price: {price * (1 + tax):.2f}')"
      ],
      "metadata": {
        "id": "EpSsWvfSvouc",
        "outputId": "98518f6f-fdb8-4a28-e093-2e1bcce2446e",
        "colab": {
          "base_uri": "https://localhost:8080/"
        }
      },
      "execution_count": 17,
      "outputs": [
        {
          "output_type": "stream",
          "name": "stdout",
          "text": [
            "Tax: 199.90\n",
            "Total price: 1199.40\n"
          ]
        }
      ]
    },
    {
      "cell_type": "markdown",
      "source": [
        "**Task 6.**\n",
        "Доход компании — 1578934.55 грн, расходы — 894732.67 грн.  \n",
        "Найдите чистую прибыль с точностью до двух знаков после запятой, используя decimal.Decimal."
      ],
      "metadata": {
        "id": "epR35N0vvo4s"
      }
    },
    {
      "cell_type": "code",
      "source": [
        "from decimal import Decimal\n",
        "\n",
        "income = Decimal('1578934.55')\n",
        "expenses = Decimal('894732.67')\n",
        "\n",
        "\n",
        "profit = income - expenses\n",
        "print(f'Profit: {profit:.2f}')"
      ],
      "metadata": {
        "id": "1TOb-GplvpCR",
        "outputId": "3b4a4532-fd72-412b-87c2-549fe97b047b",
        "colab": {
          "base_uri": "https://localhost:8080/"
        }
      },
      "execution_count": 19,
      "outputs": [
        {
          "output_type": "stream",
          "name": "stdout",
          "text": [
            "Profit: 684201.88\n"
          ]
        }
      ]
    },
    {
      "cell_type": "markdown",
      "source": [
        "**Task 7.**\n",
        "Если цена товара больше 500 грн, применяется скидка 10%, иначе 5%. Напишите логическое выражение, которое выбирает нужную скидку."
      ],
      "metadata": {
        "id": "wsHEpW5IvpMe"
      }
    },
    {
      "cell_type": "code",
      "source": [
        "price = int(input('price>>'))\n",
        "\n",
        "discount = (price > 500) * 0.1 + (price <= 500) * 0.05\n",
        "print(f'Discount: {price * discount:.2f}')\n",
        "\n"
      ],
      "metadata": {
        "id": "AIih7j3yvpWK",
        "outputId": "7a297dd6-4154-4f81-e8f4-ab55beb20523",
        "colab": {
          "base_uri": "https://localhost:8080/"
        }
      },
      "execution_count": 21,
      "outputs": [
        {
          "output_type": "stream",
          "name": "stdout",
          "text": [
            "price>>100\n",
            "Discount: 5.00\n"
          ]
        }
      ]
    },
    {
      "cell_type": "markdown",
      "source": [
        "**Task 8.**\n",
        "Цена товара 349.75 грн. Нужно проверить, входит ли она в диапазон от 300 до 500 грн включительно"
      ],
      "metadata": {
        "id": "oJ8Qh33kvpgp"
      }
    },
    {
      "cell_type": "code",
      "source": [
        "price = 1349.75\n",
        "print(300 <= price <= 500)"
      ],
      "metadata": {
        "id": "cXf7eGeRvpqU",
        "outputId": "3a0bce00-7a7c-47c0-efae-59027755e3ce",
        "colab": {
          "base_uri": "https://localhost:8080/"
        }
      },
      "execution_count": 23,
      "outputs": [
        {
          "output_type": "stream",
          "name": "stdout",
          "text": [
            "False\n"
          ]
        }
      ]
    },
    {
      "cell_type": "markdown",
      "source": [
        "**Task 9.**\n",
        "У клиента есть скидка по промокоду, но она применяется только если цена товара больше 100 грн и скидка не превышает 20% от стоимости товара.\n",
        "Определите, будет ли применен промокод при Price = 150.45 и Discount = 15%."
      ],
      "metadata": {
        "id": "ccDpxvJc1c6I"
      }
    },
    {
      "cell_type": "code",
      "source": [
        "price = 150.45\n",
        "discount = 0.15\n",
        "\n",
        "res = (price * discount <= 0.2 * price) * (price > 100)\n",
        "print(res)\n",
        "\n",
        "\n",
        "print(bool(res))"
      ],
      "metadata": {
        "id": "8yV8iT151fxf",
        "outputId": "69474a94-bd0b-4334-fe51-16fceb15e0f4",
        "colab": {
          "base_uri": "https://localhost:8080/"
        }
      },
      "execution_count": 30,
      "outputs": [
        {
          "output_type": "stream",
          "name": "stdout",
          "text": [
            "1\n",
            "True\n"
          ]
        }
      ]
    },
    {
      "cell_type": "markdown",
      "source": [
        "**Task 10.**\n",
        "Компания тестирует две схемы скидок:\n",
        "-  схема A: фиксированная скидка 50 у.е.\n",
        "-  схема B: скидка 8% от цены.\n",
        "При какой минимальной цене товара схема B становится выгоднее для покупателя?"
      ],
      "metadata": {
        "id": "5s4TXql31gGF"
      }
    },
    {
      "cell_type": "code",
      "source": [
        "A = 50\n",
        "B = 0.08\n",
        "\n",
        "print(A / B)"
      ],
      "metadata": {
        "id": "btfVoRAu1jYa",
        "outputId": "2e41dd7c-3f23-41d9-d07b-add15bd0c9ce",
        "colab": {
          "base_uri": "https://localhost:8080/"
        }
      },
      "execution_count": 31,
      "outputs": [
        {
          "output_type": "stream",
          "name": "stdout",
          "text": [
            "625.0\n"
          ]
        }
      ]
    },
    {
      "cell_type": "markdown",
      "source": [
        "**Task 11.**\n",
        "В разных странах используют разные методы округления налогов:\n",
        "-  в США округляют вниз\n",
        "-  в ЕС округляют к ближайшему\n",
        "-  в Японии округляют вверх  \n",
        "Для суммы налога 23.5678 покажите, какие значения получатся при разных методах округления"
      ],
      "metadata": {
        "id": "SQeggcAn1jn4"
      }
    },
    {
      "cell_type": "code",
      "source": [
        "from decimal import Decimal, ROUND_FLOOR, ROUND_CEILING, ROUND_HALF_UP\n",
        "\n",
        "tax = Decimal('23.5678')\n",
        "\n",
        "\n",
        "print(f'USA: {tax.quantize(Decimal('0.01'), rounding=ROUND_FLOOR)}')\n",
        "print(f'EU: {tax.quantize(Decimal(\"0.01\"), rounding=ROUND_CEILING)}')\n",
        "print(f'Japan: {tax.quantize(Decimal(\"0.01\"), rounding=ROUND_HALF_UP)}')"
      ],
      "metadata": {
        "id": "-EUMJM_U1mhz",
        "outputId": "59361b24-94f9-49fb-9776-fc9f02d4de34",
        "colab": {
          "base_uri": "https://localhost:8080/"
        }
      },
      "execution_count": 35,
      "outputs": [
        {
          "output_type": "stream",
          "name": "stdout",
          "text": [
            "USA: 23.56\n",
            "EU: 23.57\n",
            "Japan: 23.57\n"
          ]
        }
      ]
    },
    {
      "cell_type": "markdown",
      "source": [
        "**Task 12.**\n",
        "Вычислите разницу в расчете валютных операций при float и decimal.Decimal:\n",
        "конвертируйте 1000 евро в доллары при курсе 1.0873.\n",
        "Сравните результат округления до двух знаков после запятой при использовании float и Decimal."
      ],
      "metadata": {
        "id": "-1grcgNx1mui"
      }
    },
    {
      "cell_type": "code",
      "source": [
        "\n",
        "\n",
        "amount = 1000\n",
        "rate = Decimal('1.0873')\n",
        "\n",
        "print(f'Float: {(amount * rate):.2f}')\n",
        "print(f'Decimal: {(amount * rate).quantize(Decimal(\"0.01\"))}')\n",
        "\n",
        "print(f'Decimal: {(amount * rate).quantize(Decimal(\"0.01\"), rounding=ROUND_CEILING)}')\n",
        "print(f'Decimal: {(amount * rate).quantize(Decimal(\"0.01\"), rounding=ROUND_FLOOR)}')\n",
        "print(f'Decimal: {(amount * rate).quantize(Decimal(\"0.01\"), rounding=ROUND_HALF_UP)}')"
      ],
      "metadata": {
        "id": "rUpLR6vs1pCQ",
        "outputId": "08e2dce6-16f4-46a0-d41a-3d0c33eca0e6",
        "colab": {
          "base_uri": "https://localhost:8080/"
        }
      },
      "execution_count": 37,
      "outputs": [
        {
          "output_type": "stream",
          "name": "stdout",
          "text": [
            "Float: 1087.30\n",
            "Decimal: 1087.30\n",
            "Decimal: 1087.30\n",
            "Decimal: 1087.30\n",
            "Decimal: 1087.30\n"
          ]
        }
      ]
    },
    {
      "cell_type": "markdown",
      "source": [
        "**Task 13.**\n",
        "Банк начисляет проценты на вклад и использует банковское округление (до ближайшего четного числа после запятой). Какую сумму получит клиент через год, если у него на счету 1000.005 у.е., а ставка — 3.5%? Как изменится результат, если использовать стандартное округление ROUND_HALF_UP?"
      ],
      "metadata": {
        "id": "WsPoxW0F1pPq"
      }
    },
    {
      "cell_type": "code",
      "source": [],
      "metadata": {
        "id": "my2MHC5i1sYA"
      },
      "execution_count": null,
      "outputs": []
    },
    {
      "cell_type": "markdown",
      "source": [
        "**Task 14.**\n",
        "В стране X убрали монеты номиналом 1 и 2 цента, поэтому цены округляют до ближайших 5 центов.\n",
        "Какую сумму заплатит покупатель, если изначально она составляла 12.83, 14.88 и 19.92 у.е.?"
      ],
      "metadata": {
        "id": "UFo2GeKi1smB"
      }
    },
    {
      "cell_type": "code",
      "source": [
        "a = Decimal('12.83')\n",
        "b = Decimal('14.88')\n",
        "c = Decimal('19.92')\n",
        "\n",
        "print(a / Decimal('0.05'))\n",
        "print((a / Decimal('0.05')).quantize(Decimal(0), rounding=ROUND_HALF_UP) * Decimal('0.05'))"
      ],
      "metadata": {
        "id": "45FPkQrt1uwE",
        "outputId": "5e764b86-aa8d-4487-8872-b47f1f6926c5",
        "colab": {
          "base_uri": "https://localhost:8080/"
        }
      },
      "execution_count": 46,
      "outputs": [
        {
          "output_type": "stream",
          "name": "stdout",
          "text": [
            "256.6\n",
            "12.85\n"
          ]
        }
      ]
    },
    {
      "cell_type": "markdown",
      "source": [
        "**Task 15.**\n",
        "В университете оценки округляют по следующему правилу:\n",
        "Если дробная часть ≥ 0.75, округляют вверх.\n",
        "Если ≤ 0.25, округляют вниз.\n",
        "Если 0.26 – 0.74, округляют к ближайшему 0.5.\n",
        "Какую итоговую оценку получит студент, если его средний балл: 3.24, 4.77, 3.68, 2.50?"
      ],
      "metadata": {
        "id": "UGeECBGe1xOS"
      }
    },
    {
      "cell_type": "code",
      "source": [],
      "metadata": {
        "id": "bvGXhWVR1zK1"
      },
      "execution_count": null,
      "outputs": []
    },
    {
      "cell_type": "markdown",
      "source": [
        "**Task 16.**\n",
        "Компания платит зарплату с точностью до целого числа, округляя вниз (floor).\n",
        "Если сотруднику начислили 2350.89 у.е., сколько он получит?\n",
        "А если округление происходит до ближайшей десятки?"
      ],
      "metadata": {
        "id": "kJQ_8Ixz1zbF"
      }
    },
    {
      "cell_type": "code",
      "source": [],
      "metadata": {
        "id": "dyGbbw5O11Xh"
      },
      "execution_count": null,
      "outputs": []
    },
    {
      "cell_type": "markdown",
      "source": [
        "**Task 17.**\n",
        "У вас есть 1000 транзакций по 1.005 у.е. Каждая округляется до двух знаков (ROUND_HALF_UP).\n",
        "Какова разница между суммой после округления каждой транзакции отдельно и округлением итоговой суммы?"
      ],
      "metadata": {
        "id": "lGpEkB2J1134"
      }
    },
    {
      "cell_type": "code",
      "source": [],
      "metadata": {
        "id": "ivFSya6f123d"
      },
      "execution_count": null,
      "outputs": []
    }
  ]
}