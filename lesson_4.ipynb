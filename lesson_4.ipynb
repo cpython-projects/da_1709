{
  "nbformat": 4,
  "nbformat_minor": 0,
  "metadata": {
    "colab": {
      "provenance": [],
      "authorship_tag": "ABX9TyOlBYnwjTj/eG+a4LzDHGFI",
      "include_colab_link": true
    },
    "kernelspec": {
      "name": "python3",
      "display_name": "Python 3"
    },
    "language_info": {
      "name": "python"
    }
  },
  "cells": [
    {
      "cell_type": "markdown",
      "metadata": {
        "id": "view-in-github",
        "colab_type": "text"
      },
      "source": [
        "<a href=\"https://colab.research.google.com/github/cpython-projects/da_1709/blob/main/lesson_4.ipynb\" target=\"_parent\"><img src=\"https://colab.research.google.com/assets/colab-badge.svg\" alt=\"Open In Colab\"/></a>"
      ]
    },
    {
      "cell_type": "code",
      "source": [
        "x = [10, 20, 30]\n",
        "\n",
        "print(x)"
      ],
      "metadata": {
        "id": "mcMoRsbLU4Ab",
        "outputId": "a654e250-1e17-4857-82e9-edccd737f689",
        "colab": {
          "base_uri": "https://localhost:8080/"
        }
      },
      "execution_count": 1,
      "outputs": [
        {
          "output_type": "stream",
          "name": "stdout",
          "text": [
            "[10, 20, 30]\n"
          ]
        }
      ]
    },
    {
      "cell_type": "code",
      "source": [
        "x[0] = 100\n",
        "\n",
        "print(x)"
      ],
      "metadata": {
        "id": "CYmtp1VfWvbn",
        "outputId": "8a6482c3-b84f-4fb1-b0cc-a2b8ce31f268",
        "colab": {
          "base_uri": "https://localhost:8080/"
        }
      },
      "execution_count": 2,
      "outputs": [
        {
          "output_type": "stream",
          "name": "stdout",
          "text": [
            "[100, 20, 30]\n"
          ]
        }
      ]
    },
    {
      "cell_type": "code",
      "source": [
        "x = [10, 23.34, 'Hello', True, [1, 2, 3]]\n",
        "x"
      ],
      "metadata": {
        "id": "omhsinAFXN1y",
        "outputId": "4061b3c1-e320-404a-e05b-3aecd244cc5c",
        "colab": {
          "base_uri": "https://localhost:8080/"
        }
      },
      "execution_count": 6,
      "outputs": [
        {
          "output_type": "execute_result",
          "data": {
            "text/plain": [
              "[10, 23.34, 'Hello', True, [1, 2, 3]]"
            ]
          },
          "metadata": {},
          "execution_count": 6
        }
      ]
    },
    {
      "cell_type": "code",
      "source": [
        "# List Creation\n",
        "x = [1, 2, 3, 4]\n",
        "\n",
        "y = list('Python')\n",
        "\n",
        "print(x)\n",
        "print(y)"
      ],
      "metadata": {
        "id": "_6pyLv4_Xnc1",
        "outputId": "7c24c947-61a4-470c-ad06-b0fa20d72538",
        "colab": {
          "base_uri": "https://localhost:8080/"
        }
      },
      "execution_count": 7,
      "outputs": [
        {
          "output_type": "stream",
          "name": "stdout",
          "text": [
            "[1, 2, 3, 4]\n",
            "['P', 'y', 't', 'h', 'o', 'n']\n"
          ]
        }
      ]
    },
    {
      "cell_type": "code",
      "source": [
        "x = [1, 2, 3]\n",
        "y = [4, 5, 6]\n",
        "\n",
        "z = x + y\n",
        "print(z)"
      ],
      "metadata": {
        "id": "_KYOLEgfYE_x",
        "outputId": "f92d5d8e-1fa2-4913-f269-0901c0c87629",
        "colab": {
          "base_uri": "https://localhost:8080/"
        }
      },
      "execution_count": 8,
      "outputs": [
        {
          "output_type": "stream",
          "name": "stdout",
          "text": [
            "[1, 2, 3, 4, 5, 6]\n"
          ]
        }
      ]
    },
    {
      "cell_type": "code",
      "source": [
        "x = [1, 2, 3]\n",
        "y = x * 3\n",
        "print(y)"
      ],
      "metadata": {
        "id": "LHX90e5yYNR1",
        "outputId": "414a3628-9dfb-4296-bac7-f68a02576090",
        "colab": {
          "base_uri": "https://localhost:8080/"
        }
      },
      "execution_count": 9,
      "outputs": [
        {
          "output_type": "stream",
          "name": "stdout",
          "text": [
            "[1, 2, 3, 1, 2, 3, 1, 2, 3]\n"
          ]
        }
      ]
    },
    {
      "cell_type": "code",
      "source": [
        "x = [10] * 10\n",
        "print(x)"
      ],
      "metadata": {
        "id": "uN1YYqXwYZMH",
        "outputId": "1623b1a0-a938-49c8-d15f-3e0042f02ef9",
        "colab": {
          "base_uri": "https://localhost:8080/"
        }
      },
      "execution_count": 11,
      "outputs": [
        {
          "output_type": "stream",
          "name": "stdout",
          "text": [
            "[10, 10, 10, 10, 10, 10, 10, 10, 10, 10]\n"
          ]
        }
      ]
    },
    {
      "cell_type": "code",
      "source": [
        "x = [1] * 3 + [2] * 3 + [3] * 3\n",
        "print(x)"
      ],
      "metadata": {
        "id": "MHi-rQ2rYkf-",
        "outputId": "9c9c7243-80e3-4ad8-cf45-77649968c24e",
        "colab": {
          "base_uri": "https://localhost:8080/"
        }
      },
      "execution_count": 12,
      "outputs": [
        {
          "output_type": "stream",
          "name": "stdout",
          "text": [
            "[1, 1, 1, 2, 2, 2, 3, 3, 3]\n"
          ]
        }
      ]
    },
    {
      "cell_type": "code",
      "source": [
        "x = [-1, 2, 3, 4, 5, 6, 7, 8, 10, -1]\n",
        "\n",
        "\n",
        "print(f'min = {min(x)}')\n",
        "print(f'max = {max(x)}')\n",
        "print(f'sum = {sum(x)}')\n",
        "print(f'len = {len(x)}')"
      ],
      "metadata": {
        "id": "5EdA5VuVYsHb",
        "outputId": "fa3211bc-c8d6-4531-c8e0-94ebefa6e1c0",
        "colab": {
          "base_uri": "https://localhost:8080/"
        }
      },
      "execution_count": 15,
      "outputs": [
        {
          "output_type": "stream",
          "name": "stdout",
          "text": [
            "min = -1\n",
            "max = 10\n",
            "sum = 43\n",
            "len = 10\n"
          ]
        }
      ]
    },
    {
      "cell_type": "code",
      "source": [],
      "metadata": {
        "id": "k1jSgrzCY5nZ"
      },
      "execution_count": null,
      "outputs": []
    },
    {
      "cell_type": "markdown",
      "source": [
        "# Задачи"
      ],
      "metadata": {
        "id": "GU9OfaEL3hW1"
      }
    },
    {
      "cell_type": "markdown",
      "source": [
        "**1. Среднее арифметическое оценок**\n",
        "\n",
        "Список оценок студента:\n",
        "\n",
        "```python\n",
        "grades = [67, 75, 80, 95, 100, 72, 88]\n",
        "```\n",
        "\n",
        "Посчитать среднее арифметическое."
      ],
      "metadata": {
        "id": "DizpUIQZ3kOI"
      }
    },
    {
      "cell_type": "code",
      "execution_count": 18,
      "metadata": {
        "id": "Vi6fu6-P3aDW",
        "outputId": "29a24399-453a-4301-8122-7acd368a1996",
        "colab": {
          "base_uri": "https://localhost:8080/"
        }
      },
      "outputs": [
        {
          "output_type": "stream",
          "name": "stdout",
          "text": [
            "avg / mean = 83\n"
          ]
        }
      ],
      "source": [
        "import math\n",
        "\n",
        "grades = [67, 75, 80, 95, 100, 72, 88]\n",
        "print(f'avg / mean = {math.ceil(sum(grades) / len(grades))}')  # round = 82.5 -> 82, 83.5 -> 84"
      ]
    },
    {
      "cell_type": "code",
      "source": [
        "x = [1, 2, 3]\n",
        "x.append(4)\n",
        "x"
      ],
      "metadata": {
        "id": "FrhSNbAJhh8-",
        "outputId": "ce86897c-7896-4c86-a839-13c07c566d43",
        "colab": {
          "base_uri": "https://localhost:8080/"
        }
      },
      "execution_count": 26,
      "outputs": [
        {
          "output_type": "execute_result",
          "data": {
            "text/plain": [
              "[1, 2, 3, 4]"
            ]
          },
          "metadata": {},
          "execution_count": 26
        }
      ]
    },
    {
      "cell_type": "code",
      "source": [
        "x = [1, 2, 3, 1, 1, 1]\n",
        "x.count(1)"
      ],
      "metadata": {
        "id": "TkUqWnM4iHTH",
        "outputId": "91789809-d494-4981-a025-baa45340748a",
        "colab": {
          "base_uri": "https://localhost:8080/"
        }
      },
      "execution_count": 31,
      "outputs": [
        {
          "output_type": "execute_result",
          "data": {
            "text/plain": [
              "4"
            ]
          },
          "metadata": {},
          "execution_count": 31
        }
      ]
    },
    {
      "cell_type": "code",
      "source": [
        "x.remove(1)\n",
        "x"
      ],
      "metadata": {
        "id": "n9YIDpXmiORs",
        "outputId": "2baac9cb-b4d8-41b0-ccbf-96dc648ba547",
        "colab": {
          "base_uri": "https://localhost:8080/"
        }
      },
      "execution_count": 32,
      "outputs": [
        {
          "output_type": "execute_result",
          "data": {
            "text/plain": [
              "[2, 3, 1, 1, 1]"
            ]
          },
          "metadata": {},
          "execution_count": 32
        }
      ]
    },
    {
      "cell_type": "code",
      "source": [
        "x.remove(10)"
      ],
      "metadata": {
        "id": "bajmqlVajqNj",
        "outputId": "d442ce9d-cfb4-4ce9-dcde-8240721b77a7",
        "colab": {
          "base_uri": "https://localhost:8080/",
          "height": 141
        }
      },
      "execution_count": 33,
      "outputs": [
        {
          "output_type": "error",
          "ename": "ValueError",
          "evalue": "list.remove(x): x not in list",
          "traceback": [
            "\u001b[0;31m---------------------------------------------------------------------------\u001b[0m",
            "\u001b[0;31mValueError\u001b[0m                                Traceback (most recent call last)",
            "\u001b[0;32m/tmp/ipython-input-3321853179.py\u001b[0m in \u001b[0;36m<cell line: 0>\u001b[0;34m()\u001b[0m\n\u001b[0;32m----> 1\u001b[0;31m \u001b[0mx\u001b[0m\u001b[0;34m.\u001b[0m\u001b[0mremove\u001b[0m\u001b[0;34m(\u001b[0m\u001b[0;36m10\u001b[0m\u001b[0;34m)\u001b[0m\u001b[0;34m\u001b[0m\u001b[0;34m\u001b[0m\u001b[0m\n\u001b[0m",
            "\u001b[0;31mValueError\u001b[0m: list.remove(x): x not in list"
          ]
        }
      ]
    },
    {
      "cell_type": "code",
      "source": [
        "if 10 in x:\n",
        "    x.remove(10)"
      ],
      "metadata": {
        "id": "Ancdqbbujsvj"
      },
      "execution_count": 34,
      "outputs": []
    },
    {
      "cell_type": "code",
      "source": [
        "x"
      ],
      "metadata": {
        "id": "hNVIvlKyjyNK",
        "outputId": "d14282e4-f27e-4471-f842-a139fe69e05a",
        "colab": {
          "base_uri": "https://localhost:8080/"
        }
      },
      "execution_count": 35,
      "outputs": [
        {
          "output_type": "execute_result",
          "data": {
            "text/plain": [
              "[2, 3, 1, 1, 1]"
            ]
          },
          "metadata": {},
          "execution_count": 35
        }
      ]
    },
    {
      "cell_type": "code",
      "source": [
        "x.index(1)"
      ],
      "metadata": {
        "id": "O2UHlznIj5O_",
        "outputId": "ec082831-2f07-4539-c39a-3a3c9d386c56",
        "colab": {
          "base_uri": "https://localhost:8080/"
        }
      },
      "execution_count": 36,
      "outputs": [
        {
          "output_type": "execute_result",
          "data": {
            "text/plain": [
              "2"
            ]
          },
          "metadata": {},
          "execution_count": 36
        }
      ]
    },
    {
      "cell_type": "code",
      "source": [
        "x.index(2)"
      ],
      "metadata": {
        "id": "kFddIFFqj-sk",
        "outputId": "50452b39-054b-4caa-ba3f-07036e870123",
        "colab": {
          "base_uri": "https://localhost:8080/"
        }
      },
      "execution_count": 37,
      "outputs": [
        {
          "output_type": "execute_result",
          "data": {
            "text/plain": [
              "0"
            ]
          },
          "metadata": {},
          "execution_count": 37
        }
      ]
    },
    {
      "cell_type": "code",
      "source": [
        "if 2 in x:\n",
        "  print(x.index(2))"
      ],
      "metadata": {
        "id": "gR9LUIOGkHaI",
        "outputId": "15fe13b3-1407-4256-d2c6-384d80e3e9a3",
        "colab": {
          "base_uri": "https://localhost:8080/"
        }
      },
      "execution_count": 38,
      "outputs": [
        {
          "output_type": "stream",
          "name": "stdout",
          "text": [
            "0\n"
          ]
        }
      ]
    },
    {
      "cell_type": "code",
      "source": [
        "x = [40, 10, 20, 30, 40]\n",
        "x"
      ],
      "metadata": {
        "id": "-JKaR5h0kMcA",
        "outputId": "4789e049-c92c-4fcf-c23c-ab6cdf8f6797",
        "colab": {
          "base_uri": "https://localhost:8080/"
        }
      },
      "execution_count": 41,
      "outputs": [
        {
          "output_type": "execute_result",
          "data": {
            "text/plain": [
              "[40, 10, 20, 30, 40]"
            ]
          },
          "metadata": {},
          "execution_count": 41
        }
      ]
    },
    {
      "cell_type": "code",
      "source": [
        "y = x.pop()\n",
        "\n",
        "print(x)\n",
        "print(y)"
      ],
      "metadata": {
        "id": "728q5PsMkXZk",
        "outputId": "36ff38e5-6391-4e46-a2b2-2f1d109115a6",
        "colab": {
          "base_uri": "https://localhost:8080/"
        }
      },
      "execution_count": 42,
      "outputs": [
        {
          "output_type": "stream",
          "name": "stdout",
          "text": [
            "[40, 10, 20, 30]\n",
            "40\n"
          ]
        }
      ]
    },
    {
      "cell_type": "code",
      "source": [
        "y = x.pop(0)\n",
        "print(x)\n",
        "print(y)"
      ],
      "metadata": {
        "id": "LDMRHNaFkeJN",
        "outputId": "95e7b757-4695-441e-8e4d-b71850d62d66",
        "colab": {
          "base_uri": "https://localhost:8080/"
        }
      },
      "execution_count": 43,
      "outputs": [
        {
          "output_type": "stream",
          "name": "stdout",
          "text": [
            "[10, 20, 30]\n",
            "40\n"
          ]
        }
      ]
    },
    {
      "cell_type": "code",
      "source": [
        "x = [1, 2, 3, 4]\n",
        "\n",
        "x.insert(2, 100)\n",
        "x"
      ],
      "metadata": {
        "id": "WPEaKewFkRvS",
        "outputId": "a93a4eef-e40b-4684-b5e2-ae1b74b9703e",
        "colab": {
          "base_uri": "https://localhost:8080/"
        }
      },
      "execution_count": 48,
      "outputs": [
        {
          "output_type": "execute_result",
          "data": {
            "text/plain": [
              "[1, 2, 100, 3, 4]"
            ]
          },
          "metadata": {},
          "execution_count": 48
        }
      ]
    },
    {
      "cell_type": "code",
      "source": [
        "x = [1, 2, 3]\n",
        "\n",
        "x.reverse()\n",
        "x"
      ],
      "metadata": {
        "id": "Abh_cDCWmN28",
        "outputId": "797c6eaa-126f-4b4a-cc14-373e13e98c8a",
        "colab": {
          "base_uri": "https://localhost:8080/"
        }
      },
      "execution_count": 49,
      "outputs": [
        {
          "output_type": "execute_result",
          "data": {
            "text/plain": [
              "[3, 2, 1]"
            ]
          },
          "metadata": {},
          "execution_count": 49
        }
      ]
    },
    {
      "cell_type": "code",
      "source": [
        "x = [1, 2, 3]\n",
        "\n",
        "y = x[::-1]\n",
        "\n",
        "print(x)\n",
        "print(y)"
      ],
      "metadata": {
        "id": "srtTt8uYmW2O",
        "outputId": "560189ce-b13c-4116-fd3e-30c724f3062e",
        "colab": {
          "base_uri": "https://localhost:8080/"
        }
      },
      "execution_count": 50,
      "outputs": [
        {
          "output_type": "stream",
          "name": "stdout",
          "text": [
            "[1, 2, 3]\n",
            "[3, 2, 1]\n"
          ]
        }
      ]
    },
    {
      "cell_type": "code",
      "source": [
        "x = [1, 2, 3, 4]\n",
        "\n",
        "for item in reversed(x):\n",
        "    print(item)"
      ],
      "metadata": {
        "id": "Ryyt6ebRmcus",
        "outputId": "2d6fdf8f-ba3d-4a23-bf89-3aa9fdfb0d03",
        "colab": {
          "base_uri": "https://localhost:8080/"
        }
      },
      "execution_count": 51,
      "outputs": [
        {
          "output_type": "stream",
          "name": "stdout",
          "text": [
            "4\n",
            "3\n",
            "2\n",
            "1\n"
          ]
        }
      ]
    },
    {
      "cell_type": "code",
      "source": [
        "x = [2, 3, 4, 1, 2, 3]\n",
        "\n",
        "x.sort()\n",
        "x"
      ],
      "metadata": {
        "id": "TDzBqccmmxBo",
        "outputId": "b8889dfc-ba2f-4df9-912f-c2aa3498a384",
        "colab": {
          "base_uri": "https://localhost:8080/"
        }
      },
      "execution_count": 52,
      "outputs": [
        {
          "output_type": "execute_result",
          "data": {
            "text/plain": [
              "[1, 2, 2, 3, 3, 4]"
            ]
          },
          "metadata": {},
          "execution_count": 52
        }
      ]
    },
    {
      "cell_type": "code",
      "source": [
        "x = [2, 3, 4, 1, 2, 3]\n",
        "\n",
        "y = sorted(x)\n",
        "\n",
        "print(x)\n",
        "print(y)"
      ],
      "metadata": {
        "id": "2hJj-Nxwm2tc",
        "outputId": "20a3ac9f-176b-43be-cb5d-cdb5a5e2956e",
        "colab": {
          "base_uri": "https://localhost:8080/"
        }
      },
      "execution_count": 53,
      "outputs": [
        {
          "output_type": "stream",
          "name": "stdout",
          "text": [
            "[2, 3, 4, 1, 2, 3]\n",
            "[1, 2, 2, 3, 3, 4]\n"
          ]
        }
      ]
    },
    {
      "cell_type": "markdown",
      "source": [
        "**2. Медиана зарплат**\n",
        "\n",
        "Список зарплат сотрудников (грн):\n",
        "\n",
        "```python\n",
        "salaries = [12000, 15000, 17000, 90000, 13000, 14000]\n",
        "```\n",
        "\n",
        "Найти медиану"
      ],
      "metadata": {
        "id": "_ZAf-2El3q07"
      }
    },
    {
      "cell_type": "code",
      "source": [
        "salaries = [12000, 15000, 17000, 90000, 13000, 14000]\n",
        "salaries.sort()\n",
        "\n",
        "salaries"
      ],
      "metadata": {
        "id": "DF-TwWYxc-0g",
        "outputId": "ba176524-cadd-4cc6-b059-48296bd281c8",
        "colab": {
          "base_uri": "https://localhost:8080/"
        }
      },
      "execution_count": 21,
      "outputs": [
        {
          "output_type": "execute_result",
          "data": {
            "text/plain": [
              "[12000, 13000, 14000, 15000, 17000, 90000]"
            ]
          },
          "metadata": {},
          "execution_count": 21
        }
      ]
    },
    {
      "cell_type": "code",
      "source": [
        "if len(salaries) % 2:\n",
        "    # odd\n",
        "    median = salaries[len(salaries) // 2] # 1, 2, 3, 4, 5\n",
        "    print(median)\n",
        "else:\n",
        "    # even\n",
        "    left = salaries[len(salaries) // 2 - 1]\n",
        "    right = salaries[len(salaries) // 2]\n",
        "    median = (left + right) / 2\n",
        "    print(median)"
      ],
      "metadata": {
        "id": "nCGhnfwu3zOi",
        "outputId": "38fc8d4d-d31d-4f70-8812-1b69b9100e17",
        "colab": {
          "base_uri": "https://localhost:8080/"
        }
      },
      "execution_count": 22,
      "outputs": [
        {
          "output_type": "stream",
          "name": "stdout",
          "text": [
            "14500.0\n"
          ]
        }
      ]
    },
    {
      "cell_type": "code",
      "source": [
        "import statistics\n",
        "\n",
        "x = [100, 101, 200, 150, 300, 120, 140, 300, 123, 177, 900, 10000]\n",
        "\n",
        "avg = statistics.mean(x)\n",
        "median = statistics.median(x)\n",
        "\n",
        "\n",
        "print(f'avg = {avg:.2f}')\n",
        "print(f'median = {median:.2f}')\n",
        "print(f'sum = {sum(x)}')"
      ],
      "metadata": {
        "id": "ODJuO-1UfBMg",
        "outputId": "6f8c858f-eedb-45f1-ae3d-7d1dc092fdf4",
        "colab": {
          "base_uri": "https://localhost:8080/"
        }
      },
      "execution_count": 25,
      "outputs": [
        {
          "output_type": "stream",
          "name": "stdout",
          "text": [
            "avg = 1050.92\n",
            "median = 163.50\n",
            "sum = 12611\n"
          ]
        }
      ]
    },
    {
      "cell_type": "code",
      "source": [
        "x = ['low', 'low', 'medium', 'high', 'high', 'high']\n",
        "print(x.count('low'))\n",
        "print(x.count('medium'))\n",
        "print(x.count('high'))"
      ],
      "metadata": {
        "id": "m1cpr_AiiTsb",
        "outputId": "a10a5b45-f06f-49b9-e77a-a62c783e1761",
        "colab": {
          "base_uri": "https://localhost:8080/"
        }
      },
      "execution_count": 28,
      "outputs": [
        {
          "output_type": "stream",
          "name": "stdout",
          "text": [
            "2\n",
            "1\n",
            "3\n"
          ]
        }
      ]
    },
    {
      "cell_type": "code",
      "source": [
        "ages = [34, 34, 34, 45, 52, 60, 23, 34]\n",
        "\n",
        "print(statistics.mean(ages))\n",
        "print(statistics.median(ages))\n",
        "print(statistics.mode(ages))"
      ],
      "metadata": {
        "id": "2S42nB_ZjG3w",
        "outputId": "c4027794-7e76-4c5c-cfc8-14ea9822bf62",
        "colab": {
          "base_uri": "https://localhost:8080/"
        }
      },
      "execution_count": 29,
      "outputs": [
        {
          "output_type": "stream",
          "name": "stdout",
          "text": [
            "39.5\n",
            "34.0\n",
            "34\n"
          ]
        }
      ]
    },
    {
      "cell_type": "markdown",
      "source": [
        "**3. Усечённое среднее для доходов**\n",
        "\n",
        "Список доходов людей (грн):\n",
        "\n",
        "```python\n",
        "incomes = [10000, 11000, 12000, 15000, 200000, 25000, 9000]\n",
        "```\n",
        "\n",
        "Отбросить верхние и нижние 10% значений и посчитать среднее по оставшимся."
      ],
      "metadata": {
        "id": "uGizyXYl3xTp"
      }
    },
    {
      "cell_type": "code",
      "source": [
        "incomes = [10000, 11000, 12000, 15000, 200000, 25000, 9000]\n",
        "\n",
        "res = len(incomes) * 0.1\n",
        "res"
      ],
      "metadata": {
        "id": "1Zj6tl6B4HaF",
        "outputId": "5cfbf48f-f821-4408-9c48-85ca99854911",
        "colab": {
          "base_uri": "https://localhost:8080/"
        }
      },
      "execution_count": 56,
      "outputs": [
        {
          "output_type": "execute_result",
          "data": {
            "text/plain": [
              "0.7000000000000001"
            ]
          },
          "metadata": {},
          "execution_count": 56
        }
      ]
    },
    {
      "cell_type": "code",
      "source": [
        "incomes.sort()"
      ],
      "metadata": {
        "id": "mShHeWUJnP1A"
      },
      "execution_count": 57,
      "outputs": []
    },
    {
      "cell_type": "code",
      "source": [
        "incomes"
      ],
      "metadata": {
        "id": "AZdYDZjKnTov",
        "outputId": "617b7c71-ef03-4cf1-bd56-674983ac0845",
        "colab": {
          "base_uri": "https://localhost:8080/"
        }
      },
      "execution_count": 58,
      "outputs": [
        {
          "output_type": "execute_result",
          "data": {
            "text/plain": [
              "[9000, 10000, 11000, 12000, 15000, 25000, 200000]"
            ]
          },
          "metadata": {},
          "execution_count": 58
        }
      ]
    },
    {
      "cell_type": "code",
      "source": [
        "incomes.pop()\n",
        "incomes.pop(0)\n",
        "\n",
        "# res = incomes[1:-1]\n",
        "incomes"
      ],
      "metadata": {
        "id": "iyOwfZ5anVO8",
        "outputId": "14c8863c-c355-477a-9e87-31acd27d675f",
        "colab": {
          "base_uri": "https://localhost:8080/"
        }
      },
      "execution_count": 59,
      "outputs": [
        {
          "output_type": "execute_result",
          "data": {
            "text/plain": [
              "[10000, 11000, 12000, 15000, 25000]"
            ]
          },
          "metadata": {},
          "execution_count": 59
        }
      ]
    },
    {
      "cell_type": "code",
      "source": [
        "print(statistics.mean(incomes))\n",
        "print(statistics.median(incomes))"
      ],
      "metadata": {
        "id": "fbaKd8ZXnnDg",
        "outputId": "bc9f44ee-842d-4323-c0e7-16de53623d82",
        "colab": {
          "base_uri": "https://localhost:8080/"
        }
      },
      "execution_count": 60,
      "outputs": [
        {
          "output_type": "stream",
          "name": "stdout",
          "text": [
            "14600\n",
            "12000\n"
          ]
        }
      ]
    },
    {
      "cell_type": "code",
      "source": [
        "statistics.harmonic_mean()\n",
        "statistics.geometric_mean()"
      ],
      "metadata": {
        "id": "FSXzNQoun-17"
      },
      "execution_count": null,
      "outputs": []
    },
    {
      "cell_type": "markdown",
      "source": [
        "**4. Диапазон значений (размах)**\n",
        "\n",
        "Список количества заказов пользователей:\n",
        "\n",
        "```python\n",
        "orders = [2, 5, 7, 3, 100, 4]\n",
        "```\n",
        "\n",
        "Найти размах (max - min)"
      ],
      "metadata": {
        "id": "x-ppTe1_4HrD"
      }
    },
    {
      "cell_type": "code",
      "source": [
        "orders = [2, 5, 7, 3, 100, 4]"
      ],
      "metadata": {
        "id": "YDC3cfTwlT8x"
      },
      "execution_count": 46,
      "outputs": []
    },
    {
      "cell_type": "code",
      "source": [
        "min_value = min(orders)\n",
        "max_value = max(orders)\n",
        "\n",
        "range_value = max_value - min_value\n",
        "print(range_value)"
      ],
      "metadata": {
        "id": "-923zqki4PWP",
        "outputId": "298d6df8-cce2-407f-a38f-054d5cfecfbd",
        "colab": {
          "base_uri": "https://localhost:8080/"
        }
      },
      "execution_count": 47,
      "outputs": [
        {
          "output_type": "stream",
          "name": "stdout",
          "text": [
            "98\n"
          ]
        }
      ]
    },
    {
      "cell_type": "markdown",
      "source": [
        "**5. Межквартильный размах (IQR)**\n",
        "\n",
        "Список времени (мин) в приложении:\n",
        "\n",
        "```python\n",
        "minutes = [5, 6, 7, 7, 8, 9, 20, 25, 30, 100]\n",
        "```\n",
        "\n",
        "Найти Q1, Q3 и межквартильный размах"
      ],
      "metadata": {
        "id": "ooljof9Y4PoT"
      }
    },
    {
      "cell_type": "code",
      "source": [],
      "metadata": {
        "id": "QoTcRyAi4X9R"
      },
      "execution_count": null,
      "outputs": []
    },
    {
      "cell_type": "markdown",
      "source": [
        "**6. Рейтинг товаров**\n",
        "\n",
        "```python\n",
        "ratings = [4.8, 4.2, 3.9, 4.7, 4.0, 2.5, 5.0]\n",
        "```\n",
        "\n",
        "Вернуть **топ-3 значения**"
      ],
      "metadata": {
        "id": "D54EQlOJ5cOM"
      }
    },
    {
      "cell_type": "code",
      "source": [
        "ratings = [4.8, 4.2, 3.9, 4.7, 4.0, 2.5, 5.0]\n",
        "ratings.sort(reverse=True)\n",
        "ratings"
      ],
      "metadata": {
        "id": "dspuI3OC50aX",
        "outputId": "d9a937af-fcb9-43c1-a0e1-7fdddfa9447c",
        "colab": {
          "base_uri": "https://localhost:8080/"
        }
      },
      "execution_count": 44,
      "outputs": [
        {
          "output_type": "execute_result",
          "data": {
            "text/plain": [
              "[5.0, 4.8, 4.7, 4.2, 4.0, 3.9, 2.5]"
            ]
          },
          "metadata": {},
          "execution_count": 44
        }
      ]
    },
    {
      "cell_type": "code",
      "source": [
        "res = ratings[:3]\n",
        "res"
      ],
      "metadata": {
        "id": "8hbyBZsKkxlR",
        "outputId": "464fa1aa-c59d-4639-b177-2c147063912c",
        "colab": {
          "base_uri": "https://localhost:8080/"
        }
      },
      "execution_count": 45,
      "outputs": [
        {
          "output_type": "execute_result",
          "data": {
            "text/plain": [
              "[5.0, 4.8, 4.7]"
            ]
          },
          "metadata": {},
          "execution_count": 45
        }
      ]
    }
  ]
}