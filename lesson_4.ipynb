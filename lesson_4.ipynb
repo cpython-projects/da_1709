{
  "nbformat": 4,
  "nbformat_minor": 0,
  "metadata": {
    "colab": {
      "provenance": [],
      "authorship_tag": "ABX9TyOElQqYBtrC2Igr8oiz8kK/",
      "include_colab_link": true
    },
    "kernelspec": {
      "name": "python3",
      "display_name": "Python 3"
    },
    "language_info": {
      "name": "python"
    }
  },
  "cells": [
    {
      "cell_type": "markdown",
      "metadata": {
        "id": "view-in-github",
        "colab_type": "text"
      },
      "source": [
        "<a href=\"https://colab.research.google.com/github/cpython-projects/da_1709/blob/main/lesson_4.ipynb\" target=\"_parent\"><img src=\"https://colab.research.google.com/assets/colab-badge.svg\" alt=\"Open In Colab\"/></a>"
      ]
    },
    {
      "cell_type": "markdown",
      "source": [
        "# Задачи"
      ],
      "metadata": {
        "id": "GU9OfaEL3hW1"
      }
    },
    {
      "cell_type": "markdown",
      "source": [
        "**1. Среднее арифметическое оценок**\n",
        "\n",
        "Список оценок студента:\n",
        "\n",
        "```python\n",
        "grades = [67, 75, 80, 95, 100, 72, 88]\n",
        "```\n",
        "\n",
        "Посчитать среднее арифметическое."
      ],
      "metadata": {
        "id": "DizpUIQZ3kOI"
      }
    },
    {
      "cell_type": "code",
      "execution_count": null,
      "metadata": {
        "id": "Vi6fu6-P3aDW"
      },
      "outputs": [],
      "source": []
    },
    {
      "cell_type": "markdown",
      "source": [
        "**2. Медиана зарплат**\n",
        "\n",
        "Список зарплат сотрудников (грн):\n",
        "\n",
        "```python\n",
        "salaries = [12000, 15000, 17000, 90000, 13000, 14000]\n",
        "```\n",
        "\n",
        "Найти медиану"
      ],
      "metadata": {
        "id": "_ZAf-2El3q07"
      }
    },
    {
      "cell_type": "code",
      "source": [],
      "metadata": {
        "id": "nCGhnfwu3zOi"
      },
      "execution_count": null,
      "outputs": []
    },
    {
      "cell_type": "markdown",
      "source": [
        "**3. Усечённое среднее для доходов**\n",
        "\n",
        "Список доходов людей (грн):\n",
        "\n",
        "```python\n",
        "incomes = [10000, 11000, 12000, 15000, 200000, 25000, 9000]\n",
        "```\n",
        "\n",
        "Отбросить верхние и нижние 10% значений и посчитать среднее по оставшимся."
      ],
      "metadata": {
        "id": "uGizyXYl3xTp"
      }
    },
    {
      "cell_type": "code",
      "source": [],
      "metadata": {
        "id": "1Zj6tl6B4HaF"
      },
      "execution_count": null,
      "outputs": []
    },
    {
      "cell_type": "markdown",
      "source": [
        "**4. Диапазон значений (размах)**\n",
        "\n",
        "Список количества заказов пользователей:\n",
        "\n",
        "```python\n",
        "orders = [2, 5, 7, 3, 100, 4]\n",
        "```\n",
        "\n",
        "Найти размах (max - min)"
      ],
      "metadata": {
        "id": "x-ppTe1_4HrD"
      }
    },
    {
      "cell_type": "code",
      "source": [],
      "metadata": {
        "id": "-923zqki4PWP"
      },
      "execution_count": null,
      "outputs": []
    },
    {
      "cell_type": "markdown",
      "source": [
        "**5. Межквартильный размах (IQR)**\n",
        "\n",
        "Список времени (мин) в приложении:\n",
        "\n",
        "```python\n",
        "minutes = [5, 6, 7, 7, 8, 9, 20, 25, 30, 100]\n",
        "```\n",
        "\n",
        "Найти Q1, Q3 и межквартильный размах"
      ],
      "metadata": {
        "id": "ooljof9Y4PoT"
      }
    },
    {
      "cell_type": "code",
      "source": [],
      "metadata": {
        "id": "QoTcRyAi4X9R"
      },
      "execution_count": null,
      "outputs": []
    },
    {
      "cell_type": "markdown",
      "source": [
        "**6. Рейтинг товаров**\n",
        "\n",
        "```python\n",
        "ratings = [4.8, 4.2, 3.9, 4.7, 4.0, 2.5, 5.0]\n",
        "```\n",
        "\n",
        "Вернуть **топ-3 значения**"
      ],
      "metadata": {
        "id": "D54EQlOJ5cOM"
      }
    },
    {
      "cell_type": "code",
      "source": [],
      "metadata": {
        "id": "dspuI3OC50aX"
      },
      "execution_count": null,
      "outputs": []
    }
  ]
}